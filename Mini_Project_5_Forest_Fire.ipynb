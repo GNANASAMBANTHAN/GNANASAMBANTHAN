{
  "nbformat": 4,
  "nbformat_minor": 0,
  "metadata": {
    "colab": {
      "provenance": [],
      "authorship_tag": "ABX9TyO3rp6tyUij8pNmh3RhYW/t",
      "include_colab_link": true
    },
    "kernelspec": {
      "name": "python3",
      "display_name": "Python 3"
    },
    "language_info": {
      "name": "python"
    }
  },
  "cells": [
    {
      "cell_type": "markdown",
      "metadata": {
        "id": "view-in-github",
        "colab_type": "text"
      },
      "source": [
        "<a href=\"https://colab.research.google.com/github/GNANASAMBANTHAN/GNANASAMBANTHAN/blob/main/Mini_Project_5_Forest_Fire.ipynb\" target=\"_parent\"><img src=\"https://colab.research.google.com/assets/colab-badge.svg\" alt=\"Open In Colab\"/></a>"
      ]
    },
    {
      "cell_type": "markdown",
      "source": [
        "***Questions***       \n",
        "***Part - I***\n",
        "1. Top 10 maximum burnt area happened on which month.\n",
        "2. Highest temperature and lowest temperature for each month.\n",
        "3. Monthly when highest wind and lowest wind happened.\n",
        "4. Highest and lowest relative humidity for each month.\n",
        "5. Join the output from questions 1-4 above.\n",
        "6. Plot a group bar chart for the output in question 5.\n",
        "\n",
        "***Part - II***\n",
        "1. Find Maximum salary for each department only active employees and output requires `emp_id`.\n",
        "2. All active/inactive employees (=emp_id) and their correspond department maximum salary."
      ],
      "metadata": {
        "id": "NB0xdrwZhs58"
      }
    },
    {
      "cell_type": "code",
      "source": [
        "import pandas as pd\n",
        "from tabulate import tabulate\n",
        "import traceback\n",
        "import matplotlib.pyplot as plt\n",
        "import seaborn as sns\n",
        "import requests\n",
        "import numpy as py\n",
        "from google.colab import drive\n",
        "drive.mount('/content/drive')"
      ],
      "metadata": {
        "colab": {
          "base_uri": "https://localhost:8080/"
        },
        "id": "16d5SMdub7wJ",
        "outputId": "1d4a5685-1ba4-43d5-e6e3-448f89040cc6"
      },
      "execution_count": null,
      "outputs": [
        {
          "output_type": "stream",
          "name": "stdout",
          "text": [
            "Drive already mounted at /content/drive; to attempt to forcibly remount, call drive.mount(\"/content/drive\", force_remount=True).\n"
          ]
        }
      ]
    },
    {
      "cell_type": "code",
      "execution_count": null,
      "metadata": {
        "id": "Q84_cj1ehktL",
        "colab": {
          "base_uri": "https://localhost:8080/",
          "height": 363
        },
        "outputId": "dfba4823-7450-47a1-b9de-44924133d863"
      },
      "outputs": [
        {
          "output_type": "execute_result",
          "data": {
            "text/plain": [
              "   X  Y month  day  FFMC    DMC     DC   ISI  temp  RH  wind  rain  area\n",
              "0  7  5   mar  fri  86.2   26.2   94.3   5.1   8.2  51   6.7   0.0   0.0\n",
              "1  7  4   oct  tue  90.6   35.4  669.1   6.7  18.0  33   0.9   0.0   0.0\n",
              "2  7  4   oct  sat  90.6   43.7  686.9   6.7  14.6  33   1.3   0.0   0.0\n",
              "3  8  6   mar  fri  91.7   33.3   77.5   9.0   8.3  97   4.0   0.2   0.0\n",
              "4  8  6   mar  sun  89.3   51.3  102.2   9.6  11.4  99   1.8   0.0   0.0\n",
              "5  8  6   aug  sun  92.3   85.3  488.0  14.7  22.2  29   5.4   0.0   0.0\n",
              "6  8  6   aug  mon  92.3   88.9  495.6   8.5  24.1  27   3.1   0.0   0.0\n",
              "7  8  6   aug  mon  91.5  145.4  608.2  10.7   8.0  86   2.2   0.0   0.0\n",
              "8  8  6   sep  tue  91.0  129.5  692.6   7.0  13.1  63   5.4   0.0   0.0\n",
              "9  7  5   sep  sat  92.5   88.0  698.6   7.1  22.8  40   4.0   0.0   0.0"
            ],
            "text/html": [
              "\n",
              "  <div id=\"df-726d66a8-a0d8-4b2b-8491-8b5757b90404\" class=\"colab-df-container\">\n",
              "    <div>\n",
              "<style scoped>\n",
              "    .dataframe tbody tr th:only-of-type {\n",
              "        vertical-align: middle;\n",
              "    }\n",
              "\n",
              "    .dataframe tbody tr th {\n",
              "        vertical-align: top;\n",
              "    }\n",
              "\n",
              "    .dataframe thead th {\n",
              "        text-align: right;\n",
              "    }\n",
              "</style>\n",
              "<table border=\"1\" class=\"dataframe\">\n",
              "  <thead>\n",
              "    <tr style=\"text-align: right;\">\n",
              "      <th></th>\n",
              "      <th>X</th>\n",
              "      <th>Y</th>\n",
              "      <th>month</th>\n",
              "      <th>day</th>\n",
              "      <th>FFMC</th>\n",
              "      <th>DMC</th>\n",
              "      <th>DC</th>\n",
              "      <th>ISI</th>\n",
              "      <th>temp</th>\n",
              "      <th>RH</th>\n",
              "      <th>wind</th>\n",
              "      <th>rain</th>\n",
              "      <th>area</th>\n",
              "    </tr>\n",
              "  </thead>\n",
              "  <tbody>\n",
              "    <tr>\n",
              "      <th>0</th>\n",
              "      <td>7</td>\n",
              "      <td>5</td>\n",
              "      <td>mar</td>\n",
              "      <td>fri</td>\n",
              "      <td>86.2</td>\n",
              "      <td>26.2</td>\n",
              "      <td>94.3</td>\n",
              "      <td>5.1</td>\n",
              "      <td>8.2</td>\n",
              "      <td>51</td>\n",
              "      <td>6.7</td>\n",
              "      <td>0.0</td>\n",
              "      <td>0.0</td>\n",
              "    </tr>\n",
              "    <tr>\n",
              "      <th>1</th>\n",
              "      <td>7</td>\n",
              "      <td>4</td>\n",
              "      <td>oct</td>\n",
              "      <td>tue</td>\n",
              "      <td>90.6</td>\n",
              "      <td>35.4</td>\n",
              "      <td>669.1</td>\n",
              "      <td>6.7</td>\n",
              "      <td>18.0</td>\n",
              "      <td>33</td>\n",
              "      <td>0.9</td>\n",
              "      <td>0.0</td>\n",
              "      <td>0.0</td>\n",
              "    </tr>\n",
              "    <tr>\n",
              "      <th>2</th>\n",
              "      <td>7</td>\n",
              "      <td>4</td>\n",
              "      <td>oct</td>\n",
              "      <td>sat</td>\n",
              "      <td>90.6</td>\n",
              "      <td>43.7</td>\n",
              "      <td>686.9</td>\n",
              "      <td>6.7</td>\n",
              "      <td>14.6</td>\n",
              "      <td>33</td>\n",
              "      <td>1.3</td>\n",
              "      <td>0.0</td>\n",
              "      <td>0.0</td>\n",
              "    </tr>\n",
              "    <tr>\n",
              "      <th>3</th>\n",
              "      <td>8</td>\n",
              "      <td>6</td>\n",
              "      <td>mar</td>\n",
              "      <td>fri</td>\n",
              "      <td>91.7</td>\n",
              "      <td>33.3</td>\n",
              "      <td>77.5</td>\n",
              "      <td>9.0</td>\n",
              "      <td>8.3</td>\n",
              "      <td>97</td>\n",
              "      <td>4.0</td>\n",
              "      <td>0.2</td>\n",
              "      <td>0.0</td>\n",
              "    </tr>\n",
              "    <tr>\n",
              "      <th>4</th>\n",
              "      <td>8</td>\n",
              "      <td>6</td>\n",
              "      <td>mar</td>\n",
              "      <td>sun</td>\n",
              "      <td>89.3</td>\n",
              "      <td>51.3</td>\n",
              "      <td>102.2</td>\n",
              "      <td>9.6</td>\n",
              "      <td>11.4</td>\n",
              "      <td>99</td>\n",
              "      <td>1.8</td>\n",
              "      <td>0.0</td>\n",
              "      <td>0.0</td>\n",
              "    </tr>\n",
              "    <tr>\n",
              "      <th>5</th>\n",
              "      <td>8</td>\n",
              "      <td>6</td>\n",
              "      <td>aug</td>\n",
              "      <td>sun</td>\n",
              "      <td>92.3</td>\n",
              "      <td>85.3</td>\n",
              "      <td>488.0</td>\n",
              "      <td>14.7</td>\n",
              "      <td>22.2</td>\n",
              "      <td>29</td>\n",
              "      <td>5.4</td>\n",
              "      <td>0.0</td>\n",
              "      <td>0.0</td>\n",
              "    </tr>\n",
              "    <tr>\n",
              "      <th>6</th>\n",
              "      <td>8</td>\n",
              "      <td>6</td>\n",
              "      <td>aug</td>\n",
              "      <td>mon</td>\n",
              "      <td>92.3</td>\n",
              "      <td>88.9</td>\n",
              "      <td>495.6</td>\n",
              "      <td>8.5</td>\n",
              "      <td>24.1</td>\n",
              "      <td>27</td>\n",
              "      <td>3.1</td>\n",
              "      <td>0.0</td>\n",
              "      <td>0.0</td>\n",
              "    </tr>\n",
              "    <tr>\n",
              "      <th>7</th>\n",
              "      <td>8</td>\n",
              "      <td>6</td>\n",
              "      <td>aug</td>\n",
              "      <td>mon</td>\n",
              "      <td>91.5</td>\n",
              "      <td>145.4</td>\n",
              "      <td>608.2</td>\n",
              "      <td>10.7</td>\n",
              "      <td>8.0</td>\n",
              "      <td>86</td>\n",
              "      <td>2.2</td>\n",
              "      <td>0.0</td>\n",
              "      <td>0.0</td>\n",
              "    </tr>\n",
              "    <tr>\n",
              "      <th>8</th>\n",
              "      <td>8</td>\n",
              "      <td>6</td>\n",
              "      <td>sep</td>\n",
              "      <td>tue</td>\n",
              "      <td>91.0</td>\n",
              "      <td>129.5</td>\n",
              "      <td>692.6</td>\n",
              "      <td>7.0</td>\n",
              "      <td>13.1</td>\n",
              "      <td>63</td>\n",
              "      <td>5.4</td>\n",
              "      <td>0.0</td>\n",
              "      <td>0.0</td>\n",
              "    </tr>\n",
              "    <tr>\n",
              "      <th>9</th>\n",
              "      <td>7</td>\n",
              "      <td>5</td>\n",
              "      <td>sep</td>\n",
              "      <td>sat</td>\n",
              "      <td>92.5</td>\n",
              "      <td>88.0</td>\n",
              "      <td>698.6</td>\n",
              "      <td>7.1</td>\n",
              "      <td>22.8</td>\n",
              "      <td>40</td>\n",
              "      <td>4.0</td>\n",
              "      <td>0.0</td>\n",
              "      <td>0.0</td>\n",
              "    </tr>\n",
              "  </tbody>\n",
              "</table>\n",
              "</div>\n",
              "    <div class=\"colab-df-buttons\">\n",
              "\n",
              "  <div class=\"colab-df-container\">\n",
              "    <button class=\"colab-df-convert\" onclick=\"convertToInteractive('df-726d66a8-a0d8-4b2b-8491-8b5757b90404')\"\n",
              "            title=\"Convert this dataframe to an interactive table.\"\n",
              "            style=\"display:none;\">\n",
              "\n",
              "  <svg xmlns=\"http://www.w3.org/2000/svg\" height=\"24px\" viewBox=\"0 -960 960 960\">\n",
              "    <path d=\"M120-120v-720h720v720H120Zm60-500h600v-160H180v160Zm220 220h160v-160H400v160Zm0 220h160v-160H400v160ZM180-400h160v-160H180v160Zm440 0h160v-160H620v160ZM180-180h160v-160H180v160Zm440 0h160v-160H620v160Z\"/>\n",
              "  </svg>\n",
              "    </button>\n",
              "\n",
              "  <style>\n",
              "    .colab-df-container {\n",
              "      display:flex;\n",
              "      gap: 12px;\n",
              "    }\n",
              "\n",
              "    .colab-df-convert {\n",
              "      background-color: #E8F0FE;\n",
              "      border: none;\n",
              "      border-radius: 50%;\n",
              "      cursor: pointer;\n",
              "      display: none;\n",
              "      fill: #1967D2;\n",
              "      height: 32px;\n",
              "      padding: 0 0 0 0;\n",
              "      width: 32px;\n",
              "    }\n",
              "\n",
              "    .colab-df-convert:hover {\n",
              "      background-color: #E2EBFA;\n",
              "      box-shadow: 0px 1px 2px rgba(60, 64, 67, 0.3), 0px 1px 3px 1px rgba(60, 64, 67, 0.15);\n",
              "      fill: #174EA6;\n",
              "    }\n",
              "\n",
              "    .colab-df-buttons div {\n",
              "      margin-bottom: 4px;\n",
              "    }\n",
              "\n",
              "    [theme=dark] .colab-df-convert {\n",
              "      background-color: #3B4455;\n",
              "      fill: #D2E3FC;\n",
              "    }\n",
              "\n",
              "    [theme=dark] .colab-df-convert:hover {\n",
              "      background-color: #434B5C;\n",
              "      box-shadow: 0px 1px 3px 1px rgba(0, 0, 0, 0.15);\n",
              "      filter: drop-shadow(0px 1px 2px rgba(0, 0, 0, 0.3));\n",
              "      fill: #FFFFFF;\n",
              "    }\n",
              "  </style>\n",
              "\n",
              "    <script>\n",
              "      const buttonEl =\n",
              "        document.querySelector('#df-726d66a8-a0d8-4b2b-8491-8b5757b90404 button.colab-df-convert');\n",
              "      buttonEl.style.display =\n",
              "        google.colab.kernel.accessAllowed ? 'block' : 'none';\n",
              "\n",
              "      async function convertToInteractive(key) {\n",
              "        const element = document.querySelector('#df-726d66a8-a0d8-4b2b-8491-8b5757b90404');\n",
              "        const dataTable =\n",
              "          await google.colab.kernel.invokeFunction('convertToInteractive',\n",
              "                                                    [key], {});\n",
              "        if (!dataTable) return;\n",
              "\n",
              "        const docLinkHtml = 'Like what you see? Visit the ' +\n",
              "          '<a target=\"_blank\" href=https://colab.research.google.com/notebooks/data_table.ipynb>data table notebook</a>'\n",
              "          + ' to learn more about interactive tables.';\n",
              "        element.innerHTML = '';\n",
              "        dataTable['output_type'] = 'display_data';\n",
              "        await google.colab.output.renderOutput(dataTable, element);\n",
              "        const docLink = document.createElement('div');\n",
              "        docLink.innerHTML = docLinkHtml;\n",
              "        element.appendChild(docLink);\n",
              "      }\n",
              "    </script>\n",
              "  </div>\n",
              "\n",
              "\n",
              "<div id=\"df-4208a8c3-f3ef-4a9a-84cc-f47f74c97954\">\n",
              "  <button class=\"colab-df-quickchart\" onclick=\"quickchart('df-4208a8c3-f3ef-4a9a-84cc-f47f74c97954')\"\n",
              "            title=\"Suggest charts\"\n",
              "            style=\"display:none;\">\n",
              "\n",
              "<svg xmlns=\"http://www.w3.org/2000/svg\" height=\"24px\"viewBox=\"0 0 24 24\"\n",
              "     width=\"24px\">\n",
              "    <g>\n",
              "        <path d=\"M19 3H5c-1.1 0-2 .9-2 2v14c0 1.1.9 2 2 2h14c1.1 0 2-.9 2-2V5c0-1.1-.9-2-2-2zM9 17H7v-7h2v7zm4 0h-2V7h2v10zm4 0h-2v-4h2v4z\"/>\n",
              "    </g>\n",
              "</svg>\n",
              "  </button>\n",
              "\n",
              "<style>\n",
              "  .colab-df-quickchart {\n",
              "      --bg-color: #E8F0FE;\n",
              "      --fill-color: #1967D2;\n",
              "      --hover-bg-color: #E2EBFA;\n",
              "      --hover-fill-color: #174EA6;\n",
              "      --disabled-fill-color: #AAA;\n",
              "      --disabled-bg-color: #DDD;\n",
              "  }\n",
              "\n",
              "  [theme=dark] .colab-df-quickchart {\n",
              "      --bg-color: #3B4455;\n",
              "      --fill-color: #D2E3FC;\n",
              "      --hover-bg-color: #434B5C;\n",
              "      --hover-fill-color: #FFFFFF;\n",
              "      --disabled-bg-color: #3B4455;\n",
              "      --disabled-fill-color: #666;\n",
              "  }\n",
              "\n",
              "  .colab-df-quickchart {\n",
              "    background-color: var(--bg-color);\n",
              "    border: none;\n",
              "    border-radius: 50%;\n",
              "    cursor: pointer;\n",
              "    display: none;\n",
              "    fill: var(--fill-color);\n",
              "    height: 32px;\n",
              "    padding: 0;\n",
              "    width: 32px;\n",
              "  }\n",
              "\n",
              "  .colab-df-quickchart:hover {\n",
              "    background-color: var(--hover-bg-color);\n",
              "    box-shadow: 0 1px 2px rgba(60, 64, 67, 0.3), 0 1px 3px 1px rgba(60, 64, 67, 0.15);\n",
              "    fill: var(--button-hover-fill-color);\n",
              "  }\n",
              "\n",
              "  .colab-df-quickchart-complete:disabled,\n",
              "  .colab-df-quickchart-complete:disabled:hover {\n",
              "    background-color: var(--disabled-bg-color);\n",
              "    fill: var(--disabled-fill-color);\n",
              "    box-shadow: none;\n",
              "  }\n",
              "\n",
              "  .colab-df-spinner {\n",
              "    border: 2px solid var(--fill-color);\n",
              "    border-color: transparent;\n",
              "    border-bottom-color: var(--fill-color);\n",
              "    animation:\n",
              "      spin 1s steps(1) infinite;\n",
              "  }\n",
              "\n",
              "  @keyframes spin {\n",
              "    0% {\n",
              "      border-color: transparent;\n",
              "      border-bottom-color: var(--fill-color);\n",
              "      border-left-color: var(--fill-color);\n",
              "    }\n",
              "    20% {\n",
              "      border-color: transparent;\n",
              "      border-left-color: var(--fill-color);\n",
              "      border-top-color: var(--fill-color);\n",
              "    }\n",
              "    30% {\n",
              "      border-color: transparent;\n",
              "      border-left-color: var(--fill-color);\n",
              "      border-top-color: var(--fill-color);\n",
              "      border-right-color: var(--fill-color);\n",
              "    }\n",
              "    40% {\n",
              "      border-color: transparent;\n",
              "      border-right-color: var(--fill-color);\n",
              "      border-top-color: var(--fill-color);\n",
              "    }\n",
              "    60% {\n",
              "      border-color: transparent;\n",
              "      border-right-color: var(--fill-color);\n",
              "    }\n",
              "    80% {\n",
              "      border-color: transparent;\n",
              "      border-right-color: var(--fill-color);\n",
              "      border-bottom-color: var(--fill-color);\n",
              "    }\n",
              "    90% {\n",
              "      border-color: transparent;\n",
              "      border-bottom-color: var(--fill-color);\n",
              "    }\n",
              "  }\n",
              "</style>\n",
              "\n",
              "  <script>\n",
              "    async function quickchart(key) {\n",
              "      const quickchartButtonEl =\n",
              "        document.querySelector('#' + key + ' button');\n",
              "      quickchartButtonEl.disabled = true;  // To prevent multiple clicks.\n",
              "      quickchartButtonEl.classList.add('colab-df-spinner');\n",
              "      try {\n",
              "        const charts = await google.colab.kernel.invokeFunction(\n",
              "            'suggestCharts', [key], {});\n",
              "      } catch (error) {\n",
              "        console.error('Error during call to suggestCharts:', error);\n",
              "      }\n",
              "      quickchartButtonEl.classList.remove('colab-df-spinner');\n",
              "      quickchartButtonEl.classList.add('colab-df-quickchart-complete');\n",
              "    }\n",
              "    (() => {\n",
              "      let quickchartButtonEl =\n",
              "        document.querySelector('#df-4208a8c3-f3ef-4a9a-84cc-f47f74c97954 button');\n",
              "      quickchartButtonEl.style.display =\n",
              "        google.colab.kernel.accessAllowed ? 'block' : 'none';\n",
              "    })();\n",
              "  </script>\n",
              "</div>\n",
              "\n",
              "    </div>\n",
              "  </div>\n"
            ],
            "application/vnd.google.colaboratory.intrinsic+json": {
              "type": "dataframe",
              "variable_name": "df",
              "summary": "{\n  \"name\": \"df\",\n  \"rows\": 517,\n  \"fields\": [\n    {\n      \"column\": \"X\",\n      \"properties\": {\n        \"dtype\": \"number\",\n        \"std\": 2,\n        \"min\": 1,\n        \"max\": 9,\n        \"num_unique_values\": 9,\n        \"samples\": [\n          1,\n          8,\n          2\n        ],\n        \"semantic_type\": \"\",\n        \"description\": \"\"\n      }\n    },\n    {\n      \"column\": \"Y\",\n      \"properties\": {\n        \"dtype\": \"number\",\n        \"std\": 1,\n        \"min\": 2,\n        \"max\": 9,\n        \"num_unique_values\": 7,\n        \"samples\": [\n          5,\n          4,\n          9\n        ],\n        \"semantic_type\": \"\",\n        \"description\": \"\"\n      }\n    },\n    {\n      \"column\": \"month\",\n      \"properties\": {\n        \"dtype\": \"category\",\n        \"num_unique_values\": 12,\n        \"samples\": [\n          \"may\",\n          \"dec\",\n          \"mar\"\n        ],\n        \"semantic_type\": \"\",\n        \"description\": \"\"\n      }\n    },\n    {\n      \"column\": \"day\",\n      \"properties\": {\n        \"dtype\": \"category\",\n        \"num_unique_values\": 7,\n        \"samples\": [\n          \"fri\",\n          \"tue\",\n          \"wed\"\n        ],\n        \"semantic_type\": \"\",\n        \"description\": \"\"\n      }\n    },\n    {\n      \"column\": \"FFMC\",\n      \"properties\": {\n        \"dtype\": \"number\",\n        \"std\": 5.5201108488512665,\n        \"min\": 18.7,\n        \"max\": 96.2,\n        \"num_unique_values\": 106,\n        \"samples\": [\n          95.9,\n          90.9,\n          92.3\n        ],\n        \"semantic_type\": \"\",\n        \"description\": \"\"\n      }\n    },\n    {\n      \"column\": \"DMC\",\n      \"properties\": {\n        \"dtype\": \"number\",\n        \"std\": 64.0464822492543,\n        \"min\": 1.1,\n        \"max\": 291.3,\n        \"num_unique_values\": 215,\n        \"samples\": [\n          121.7,\n          166.9,\n          130.1\n        ],\n        \"semantic_type\": \"\",\n        \"description\": \"\"\n      }\n    },\n    {\n      \"column\": \"DC\",\n      \"properties\": {\n        \"dtype\": \"number\",\n        \"std\": 248.06619170584375,\n        \"min\": 7.9,\n        \"max\": 860.6,\n        \"num_unique_values\": 219,\n        \"samples\": [\n          458.8,\n          700.7,\n          665.6\n        ],\n        \"semantic_type\": \"\",\n        \"description\": \"\"\n      }\n    },\n    {\n      \"column\": \"ISI\",\n      \"properties\": {\n        \"dtype\": \"number\",\n        \"std\": 4.5594771752160375,\n        \"min\": 0.0,\n        \"max\": 56.1,\n        \"num_unique_values\": 119,\n        \"samples\": [\n          7.9,\n          18.0,\n          14.7\n        ],\n        \"semantic_type\": \"\",\n        \"description\": \"\"\n      }\n    },\n    {\n      \"column\": \"temp\",\n      \"properties\": {\n        \"dtype\": \"number\",\n        \"std\": 5.806625349573503,\n        \"min\": 2.2,\n        \"max\": 33.3,\n        \"num_unique_values\": 192,\n        \"samples\": [\n          23.0,\n          4.8,\n          11.6\n        ],\n        \"semantic_type\": \"\",\n        \"description\": \"\"\n      }\n    },\n    {\n      \"column\": \"RH\",\n      \"properties\": {\n        \"dtype\": \"number\",\n        \"std\": 16,\n        \"min\": 15,\n        \"max\": 100,\n        \"num_unique_values\": 75,\n        \"samples\": [\n          29,\n          61,\n          72\n        ],\n        \"semantic_type\": \"\",\n        \"description\": \"\"\n      }\n    },\n    {\n      \"column\": \"wind\",\n      \"properties\": {\n        \"dtype\": \"number\",\n        \"std\": 1.7916526009464604,\n        \"min\": 0.4,\n        \"max\": 9.4,\n        \"num_unique_values\": 21,\n        \"samples\": [\n          6.7,\n          8.5,\n          6.3\n        ],\n        \"semantic_type\": \"\",\n        \"description\": \"\"\n      }\n    },\n    {\n      \"column\": \"rain\",\n      \"properties\": {\n        \"dtype\": \"number\",\n        \"std\": 0.29595912089089405,\n        \"min\": 0.0,\n        \"max\": 6.4,\n        \"num_unique_values\": 7,\n        \"samples\": [\n          0.0,\n          0.2,\n          0.4\n        ],\n        \"semantic_type\": \"\",\n        \"description\": \"\"\n      }\n    },\n    {\n      \"column\": \"area\",\n      \"properties\": {\n        \"dtype\": \"number\",\n        \"std\": 63.65581846794077,\n        \"min\": 0.0,\n        \"max\": 1090.84,\n        \"num_unique_values\": 251,\n        \"samples\": [\n          7.48,\n          0.71,\n          1.72\n        ],\n        \"semantic_type\": \"\",\n        \"description\": \"\"\n      }\n    }\n  ]\n}"
            }
          },
          "metadata": {},
          "execution_count": 14
        }
      ],
      "source": [
        "df = pd.read_csv(\"/content/drive/MyDrive/Colab Notebooks/forestfires.csv\")\n",
        "df.head()\n",
        "list(df.columns)\n",
        "df.head(10)"
      ]
    },
    {
      "cell_type": "markdown",
      "source": [
        "***Part I***    \n",
        "***1. Top 10 maximum burnt area happened on which month.***"
      ],
      "metadata": {
        "id": "Nv45iNsdf5aC"
      }
    },
    {
      "cell_type": "code",
      "source": [
        "df_burnt_area = df.sort_values(by=['area'], ascending=True).head(10)\n",
        "print(tabulate(df_burnt_area , headers='keys', tablefmt='fancy_grid'))"
      ],
      "metadata": {
        "colab": {
          "base_uri": "https://localhost:8080/"
        },
        "id": "XSXALgFOf_bv",
        "outputId": "5d878724-004a-4e1e-983a-a5b3a0de1b54"
      },
      "execution_count": null,
      "outputs": [
        {
          "output_type": "stream",
          "name": "stdout",
          "text": [
            "╒═════╤═════╤═════╤═════════╤═══════╤════════╤═══════╤═══════╤═══════╤════════╤══════╤════════╤════════╤════════╕\n",
            "│     │   X │   Y │ month   │ day   │   FFMC │   DMC │    DC │   ISI │   temp │   RH │   wind │   rain │   area │\n",
            "╞═════╪═════╪═════╪═════════╪═══════╪════════╪═══════╪═══════╪═══════╪════════╪══════╪════════╪════════╪════════╡\n",
            "│   0 │   7 │   5 │ mar     │ fri   │   86.2 │  26.2 │  94.3 │   5.1 │    8.2 │   51 │    6.7 │      0 │      0 │\n",
            "├─────┼─────┼─────┼─────────┼───────┼────────┼───────┼───────┼───────┼────────┼──────┼────────┼────────┼────────┤\n",
            "│ 298 │   8 │   6 │ jun     │ wed   │   91.2 │ 147.8 │ 377.2 │  12.7 │   19.6 │   43 │    4.9 │      0 │      0 │\n",
            "├─────┼─────┼─────┼─────────┼───────┼────────┼───────┼───────┼───────┼────────┼──────┼────────┼────────┼────────┤\n",
            "│ 299 │   6 │   5 │ jun     │ sat   │   53.4 │  71   │ 233.8 │   0.4 │   10.6 │   90 │    2.7 │      0 │      0 │\n",
            "├─────┼─────┼─────┼─────────┼───────┼────────┼───────┼───────┼───────┼────────┼──────┼────────┼────────┼────────┤\n",
            "│ 300 │   6 │   5 │ jun     │ mon   │   90.4 │  93.3 │ 298.1 │   7.5 │   20.7 │   25 │    4.9 │      0 │      0 │\n",
            "├─────┼─────┼─────┼─────────┼───────┼────────┼───────┼───────┼───────┼────────┼──────┼────────┼────────┼────────┤\n",
            "│ 302 │   3 │   6 │ jun     │ fri   │   91.1 │  94.1 │ 232.1 │   7.1 │   19.2 │   38 │    4.5 │      0 │      0 │\n",
            "├─────┼─────┼─────┼─────────┼───────┼────────┼───────┼───────┼───────┼────────┼──────┼────────┼────────┼────────┤\n",
            "│ 303 │   3 │   6 │ jun     │ fri   │   91.1 │  94.1 │ 232.1 │   7.1 │   19.2 │   38 │    4.5 │      0 │      0 │\n",
            "├─────┼─────┼─────┼─────────┼───────┼────────┼───────┼───────┼───────┼────────┼──────┼────────┼────────┼────────┤\n",
            "│ 304 │   6 │   5 │ may     │ sat   │   85.1 │  28   │ 113.8 │   3.5 │   11.3 │   94 │    4.9 │      0 │      0 │\n",
            "├─────┼─────┼─────┼─────────┼───────┼────────┼───────┼───────┼───────┼────────┼──────┼────────┼────────┼────────┤\n",
            "│ 305 │   1 │   4 │ sep     │ sun   │   89.6 │  84.1 │ 714.3 │   5.7 │   19   │   52 │    2.2 │      0 │      0 │\n",
            "├─────┼─────┼─────┼─────────┼───────┼────────┼───────┼───────┼───────┼────────┼──────┼────────┼────────┼────────┤\n",
            "│ 308 │   2 │   4 │ sep     │ sun   │   92.4 │ 105.8 │ 758.1 │   9.9 │   16   │   45 │    1.8 │      0 │      0 │\n",
            "├─────┼─────┼─────┼─────────┼───────┼────────┼───────┼───────┼───────┼────────┼──────┼────────┼────────┼────────┤\n",
            "│ 309 │   2 │   4 │ sep     │ sun   │   92.4 │ 105.8 │ 758.1 │   9.9 │   24.9 │   27 │    2.2 │      0 │      0 │\n",
            "╘═════╧═════╧═════╧═════════╧═══════╧════════╧═══════╧═══════╧═══════╧════════╧══════╧════════╧════════╧════════╛\n"
          ]
        }
      ]
    },
    {
      "cell_type": "markdown",
      "source": [
        "***2. Highest temperature and lowest temperature for each month.***"
      ],
      "metadata": {
        "id": "MXlvsyYIgpqr"
      }
    },
    {
      "cell_type": "code",
      "source": [
        "month_order = {\n",
        "    \"jan\": 1,\n",
        "    \"feb\": 2,\n",
        "    \"mar\": 3,\n",
        "    \"apr\": 4,\n",
        "    \"may\": 5,\n",
        "    \"jun\": 6,\n",
        "    \"jul\": 7,\n",
        "    \"aug\": 8,\n",
        "    \"sep\": 9,\n",
        "    \"oct\": 10,\n",
        "    \"nov\": 11,\n",
        "    \"dec\": 12,\n",
        "}\n",
        "df['month_num'] = df['month'].map(month_order)\n",
        "df_sorted = df.sort_values(by=['month_num'])\n",
        "high_temp = df_sorted.groupby('month')['temp'].max().reset_index()\n",
        "low_temp = df_sorted.groupby('month')['temp'].min().reset_index()\n",
        "high_temp['low_temp'] = low_temp['temp']\n",
        "high_low_temp = high_temp.rename(columns={'temp': 'high_temp'})\n",
        "print(tabulate(high_low_temp , headers='keys', tablefmt='fancy_grid'))"
      ],
      "metadata": {
        "colab": {
          "base_uri": "https://localhost:8080/"
        },
        "id": "l5zHR98agqBP",
        "outputId": "963f493a-f4d3-464b-e1c5-9ef777d28ed4"
      },
      "execution_count": null,
      "outputs": [
        {
          "output_type": "stream",
          "name": "stdout",
          "text": [
            "╒════╤═════════╤═════════════╤════════════╕\n",
            "│    │ month   │   high_temp │   low_temp │\n",
            "╞════╪═════════╪═════════════╪════════════╡\n",
            "│  0 │ apr     │        17.6 │        5.8 │\n",
            "├────┼─────────┼─────────────┼────────────┤\n",
            "│  1 │ aug     │        33.3 │        5.1 │\n",
            "├────┼─────────┼─────────────┼────────────┤\n",
            "│  2 │ dec     │         5.1 │        2.2 │\n",
            "├────┼─────────┼─────────────┼────────────┤\n",
            "│  3 │ feb     │        15.7 │        4.2 │\n",
            "├────┼─────────┼─────────────┼────────────┤\n",
            "│  4 │ jan     │         5.3 │        5.2 │\n",
            "├────┼─────────┼─────────────┼────────────┤\n",
            "│  5 │ jul     │        30.2 │       12.6 │\n",
            "├────┼─────────┼─────────────┼────────────┤\n",
            "│  6 │ jun     │        28   │       10.6 │\n",
            "├────┼─────────┼─────────────┼────────────┤\n",
            "│  7 │ mar     │        18.8 │        5.3 │\n",
            "├────┼─────────┼─────────────┼────────────┤\n",
            "│  8 │ may     │        18   │       11.3 │\n",
            "├────┼─────────┼─────────────┼────────────┤\n",
            "│  9 │ nov     │        11.8 │       11.8 │\n",
            "├────┼─────────┼─────────────┼────────────┤\n",
            "│ 10 │ oct     │        21.7 │       11.3 │\n",
            "├────┼─────────┼─────────────┼────────────┤\n",
            "│ 11 │ sep     │        30.2 │        9.8 │\n",
            "╘════╧═════════╧═════════════╧════════════╛\n"
          ]
        }
      ]
    },
    {
      "cell_type": "markdown",
      "source": [
        "***3. Monthly when highest wind and lowest wind happened.***"
      ],
      "metadata": {
        "id": "Hk5FkQ0Gl_k0"
      }
    },
    {
      "cell_type": "code",
      "source": [
        "df_wind = df.sort_values(by=['wind'], ascending=False)\n",
        "high_wind = df_wind.groupby('month')['wind'].max().reset_index()\n",
        "low_wind = df_wind.groupby('month')['wind'].min().reset_index()\n",
        "high_wind['low_wind'] = low_wind['wind']\n",
        "high_low_wind = high_wind.rename(columns={'wind': 'high_wind'})\n",
        "print(tabulate(high_low_wind , headers='keys', tablefmt='sample'))"
      ],
      "metadata": {
        "colab": {
          "base_uri": "https://localhost:8080/"
        },
        "id": "wWU6QFtel_Vo",
        "outputId": "31b2628e-86f9-453d-c4a0-e263e2dbaa58"
      },
      "execution_count": 47,
      "outputs": [
        {
          "output_type": "stream",
          "name": "stdout",
          "text": [
            "    month      high_wind    low_wind\n",
            "--  -------  -----------  ----------\n",
            " 0  apr              9.4         1.8\n",
            " 1  aug              8.9         0.4\n",
            " 2  dec              8.5         4.9\n",
            " 3  feb              9.4         0.9\n",
            " 4  jan              3.1         0.9\n",
            " 5  jul              8           0.9\n",
            " 6  jun              9.4         1.3\n",
            " 7  mar              9.4         0.9\n",
            " 8  may              4.9         4\n",
            " 9  nov              4.5         4.5\n",
            "10  oct              5.4         0.9\n",
            "11  sep              7.6         0.9\n"
          ]
        }
      ]
    },
    {
      "cell_type": "markdown",
      "source": [
        "***4. Highest and lowest relative humidity for each month.***"
      ],
      "metadata": {
        "id": "Me7Cv9zbmsbF"
      }
    },
    {
      "cell_type": "code",
      "source": [
        "df_humidity = df.sort_values(by=['RH'], ascending=False)\n",
        "high_humidity = df_humidity.groupby('month')['RH'].max().reset_index()\n",
        "low_humidity = df_humidity.groupby('month')['RH'].min().reset_index()\n",
        "high_humidity['low_humidity'] = low_humidity['RH']\n",
        "high_low_humidity = high_humidity.rename(columns={'RH': 'high_humidity'})\n",
        "print(tabulate(high_low_humidity , headers='keys', tablefmt='pipe'))"
      ],
      "metadata": {
        "colab": {
          "base_uri": "https://localhost:8080/"
        },
        "id": "E72ePKjrohqX",
        "outputId": "673564e4-062e-4116-c8c8-4b11ea77d17f"
      },
      "execution_count": 46,
      "outputs": [
        {
          "output_type": "stream",
          "name": "stdout",
          "text": [
            "|    | month   |   high_humidity |   low_humidity |\n",
            "|---:|:--------|----------------:|---------------:|\n",
            "|  0 | apr     |              75 |             20 |\n",
            "|  1 | aug     |              96 |             19 |\n",
            "|  2 | dec     |              61 |             21 |\n",
            "|  3 | feb     |              82 |             35 |\n",
            "|  4 | jan     |             100 |             78 |\n",
            "|  5 | jul     |              90 |             22 |\n",
            "|  6 | jun     |              90 |             25 |\n",
            "|  7 | mar     |              99 |             18 |\n",
            "|  8 | may     |              94 |             40 |\n",
            "|  9 | nov     |              31 |             31 |\n",
            "| 10 | oct     |              60 |             24 |\n",
            "| 11 | sep     |              86 |             15 |\n"
          ]
        }
      ]
    },
    {
      "cell_type": "markdown",
      "source": [
        "***5. Join the output from questions 1-4 above.***"
      ],
      "metadata": {
        "id": "zlmbW3CDpFPS"
      }
    },
    {
      "cell_type": "code",
      "source": [
        "merged_df = pd.merge(df_burnt_area, high_low_temp, on='month')\n",
        "merged_df1 = pd.merge(merged_df, high_low_wind, on='month')\n",
        "merged_df2 = pd.merge(merged_df1, high_low_humidity, on='month', how='inner')\n",
        "final_merged_df = pd.merge(merged_df2, df_burnt_area[['month', 'area']], on='month', how='left')\n",
        "print(tabulate(final_merged_df, headers='keys', tablefmt='fancy_grid'))"
      ],
      "metadata": {
        "colab": {
          "base_uri": "https://localhost:8080/"
        },
        "id": "xuBG3DcMpF2O",
        "outputId": "cb4c5f06-2164-4a16-c587-7b2725f6d71b"
      },
      "execution_count": 50,
      "outputs": [
        {
          "output_type": "stream",
          "name": "stdout",
          "text": [
            "╒════╤═════╤═════╤═════════╤═══════╤════════╤═══════╤═══════╤═══════╤════════╤══════╤════════╤════════╤══════════╤═════════════╤════════════╤═════════════╤════════════╤═════════════════╤════════════════╤══════════╕\n",
            "│    │   X │   Y │ month   │ day   │   FFMC │   DMC │    DC │   ISI │   temp │   RH │   wind │   rain │   area_x │   high_temp │   low_temp │   high_wind │   low_wind │   high_humidity │   low_humidity │   area_y │\n",
            "╞════╪═════╪═════╪═════════╪═══════╪════════╪═══════╪═══════╪═══════╪════════╪══════╪════════╪════════╪══════════╪═════════════╪════════════╪═════════════╪════════════╪═════════════════╪════════════════╪══════════╡\n",
            "│  0 │   7 │   5 │ mar     │ fri   │   86.2 │  26.2 │  94.3 │   5.1 │    8.2 │   51 │    6.7 │      0 │        0 │        18.8 │        5.3 │         9.4 │        0.9 │              99 │             18 │        0 │\n",
            "├────┼─────┼─────┼─────────┼───────┼────────┼───────┼───────┼───────┼────────┼──────┼────────┼────────┼──────────┼─────────────┼────────────┼─────────────┼────────────┼─────────────────┼────────────────┼──────────┤\n",
            "│  1 │   8 │   6 │ jun     │ wed   │   91.2 │ 147.8 │ 377.2 │  12.7 │   19.6 │   43 │    4.9 │      0 │        0 │        28   │       10.6 │         9.4 │        1.3 │              90 │             25 │        0 │\n",
            "├────┼─────┼─────┼─────────┼───────┼────────┼───────┼───────┼───────┼────────┼──────┼────────┼────────┼──────────┼─────────────┼────────────┼─────────────┼────────────┼─────────────────┼────────────────┼──────────┤\n",
            "│  2 │   8 │   6 │ jun     │ wed   │   91.2 │ 147.8 │ 377.2 │  12.7 │   19.6 │   43 │    4.9 │      0 │        0 │        28   │       10.6 │         9.4 │        1.3 │              90 │             25 │        0 │\n",
            "├────┼─────┼─────┼─────────┼───────┼────────┼───────┼───────┼───────┼────────┼──────┼────────┼────────┼──────────┼─────────────┼────────────┼─────────────┼────────────┼─────────────────┼────────────────┼──────────┤\n",
            "│  3 │   8 │   6 │ jun     │ wed   │   91.2 │ 147.8 │ 377.2 │  12.7 │   19.6 │   43 │    4.9 │      0 │        0 │        28   │       10.6 │         9.4 │        1.3 │              90 │             25 │        0 │\n",
            "├────┼─────┼─────┼─────────┼───────┼────────┼───────┼───────┼───────┼────────┼──────┼────────┼────────┼──────────┼─────────────┼────────────┼─────────────┼────────────┼─────────────────┼────────────────┼──────────┤\n",
            "│  4 │   8 │   6 │ jun     │ wed   │   91.2 │ 147.8 │ 377.2 │  12.7 │   19.6 │   43 │    4.9 │      0 │        0 │        28   │       10.6 │         9.4 │        1.3 │              90 │             25 │        0 │\n",
            "├────┼─────┼─────┼─────────┼───────┼────────┼───────┼───────┼───────┼────────┼──────┼────────┼────────┼──────────┼─────────────┼────────────┼─────────────┼────────────┼─────────────────┼────────────────┼──────────┤\n",
            "│  5 │   8 │   6 │ jun     │ wed   │   91.2 │ 147.8 │ 377.2 │  12.7 │   19.6 │   43 │    4.9 │      0 │        0 │        28   │       10.6 │         9.4 │        1.3 │              90 │             25 │        0 │\n",
            "├────┼─────┼─────┼─────────┼───────┼────────┼───────┼───────┼───────┼────────┼──────┼────────┼────────┼──────────┼─────────────┼────────────┼─────────────┼────────────┼─────────────────┼────────────────┼──────────┤\n",
            "│  6 │   6 │   5 │ jun     │ sat   │   53.4 │  71   │ 233.8 │   0.4 │   10.6 │   90 │    2.7 │      0 │        0 │        28   │       10.6 │         9.4 │        1.3 │              90 │             25 │        0 │\n",
            "├────┼─────┼─────┼─────────┼───────┼────────┼───────┼───────┼───────┼────────┼──────┼────────┼────────┼──────────┼─────────────┼────────────┼─────────────┼────────────┼─────────────────┼────────────────┼──────────┤\n",
            "│  7 │   6 │   5 │ jun     │ sat   │   53.4 │  71   │ 233.8 │   0.4 │   10.6 │   90 │    2.7 │      0 │        0 │        28   │       10.6 │         9.4 │        1.3 │              90 │             25 │        0 │\n",
            "├────┼─────┼─────┼─────────┼───────┼────────┼───────┼───────┼───────┼────────┼──────┼────────┼────────┼──────────┼─────────────┼────────────┼─────────────┼────────────┼─────────────────┼────────────────┼──────────┤\n",
            "│  8 │   6 │   5 │ jun     │ sat   │   53.4 │  71   │ 233.8 │   0.4 │   10.6 │   90 │    2.7 │      0 │        0 │        28   │       10.6 │         9.4 │        1.3 │              90 │             25 │        0 │\n",
            "├────┼─────┼─────┼─────────┼───────┼────────┼───────┼───────┼───────┼────────┼──────┼────────┼────────┼──────────┼─────────────┼────────────┼─────────────┼────────────┼─────────────────┼────────────────┼──────────┤\n",
            "│  9 │   6 │   5 │ jun     │ sat   │   53.4 │  71   │ 233.8 │   0.4 │   10.6 │   90 │    2.7 │      0 │        0 │        28   │       10.6 │         9.4 │        1.3 │              90 │             25 │        0 │\n",
            "├────┼─────┼─────┼─────────┼───────┼────────┼───────┼───────┼───────┼────────┼──────┼────────┼────────┼──────────┼─────────────┼────────────┼─────────────┼────────────┼─────────────────┼────────────────┼──────────┤\n",
            "│ 10 │   6 │   5 │ jun     │ sat   │   53.4 │  71   │ 233.8 │   0.4 │   10.6 │   90 │    2.7 │      0 │        0 │        28   │       10.6 │         9.4 │        1.3 │              90 │             25 │        0 │\n",
            "├────┼─────┼─────┼─────────┼───────┼────────┼───────┼───────┼───────┼────────┼──────┼────────┼────────┼──────────┼─────────────┼────────────┼─────────────┼────────────┼─────────────────┼────────────────┼──────────┤\n",
            "│ 11 │   6 │   5 │ jun     │ mon   │   90.4 │  93.3 │ 298.1 │   7.5 │   20.7 │   25 │    4.9 │      0 │        0 │        28   │       10.6 │         9.4 │        1.3 │              90 │             25 │        0 │\n",
            "├────┼─────┼─────┼─────────┼───────┼────────┼───────┼───────┼───────┼────────┼──────┼────────┼────────┼──────────┼─────────────┼────────────┼─────────────┼────────────┼─────────────────┼────────────────┼──────────┤\n",
            "│ 12 │   6 │   5 │ jun     │ mon   │   90.4 │  93.3 │ 298.1 │   7.5 │   20.7 │   25 │    4.9 │      0 │        0 │        28   │       10.6 │         9.4 │        1.3 │              90 │             25 │        0 │\n",
            "├────┼─────┼─────┼─────────┼───────┼────────┼───────┼───────┼───────┼────────┼──────┼────────┼────────┼──────────┼─────────────┼────────────┼─────────────┼────────────┼─────────────────┼────────────────┼──────────┤\n",
            "│ 13 │   6 │   5 │ jun     │ mon   │   90.4 │  93.3 │ 298.1 │   7.5 │   20.7 │   25 │    4.9 │      0 │        0 │        28   │       10.6 │         9.4 │        1.3 │              90 │             25 │        0 │\n",
            "├────┼─────┼─────┼─────────┼───────┼────────┼───────┼───────┼───────┼────────┼──────┼────────┼────────┼──────────┼─────────────┼────────────┼─────────────┼────────────┼─────────────────┼────────────────┼──────────┤\n",
            "│ 14 │   6 │   5 │ jun     │ mon   │   90.4 │  93.3 │ 298.1 │   7.5 │   20.7 │   25 │    4.9 │      0 │        0 │        28   │       10.6 │         9.4 │        1.3 │              90 │             25 │        0 │\n",
            "├────┼─────┼─────┼─────────┼───────┼────────┼───────┼───────┼───────┼────────┼──────┼────────┼────────┼──────────┼─────────────┼────────────┼─────────────┼────────────┼─────────────────┼────────────────┼──────────┤\n",
            "│ 15 │   6 │   5 │ jun     │ mon   │   90.4 │  93.3 │ 298.1 │   7.5 │   20.7 │   25 │    4.9 │      0 │        0 │        28   │       10.6 │         9.4 │        1.3 │              90 │             25 │        0 │\n",
            "├────┼─────┼─────┼─────────┼───────┼────────┼───────┼───────┼───────┼────────┼──────┼────────┼────────┼──────────┼─────────────┼────────────┼─────────────┼────────────┼─────────────────┼────────────────┼──────────┤\n",
            "│ 16 │   3 │   6 │ jun     │ fri   │   91.1 │  94.1 │ 232.1 │   7.1 │   19.2 │   38 │    4.5 │      0 │        0 │        28   │       10.6 │         9.4 │        1.3 │              90 │             25 │        0 │\n",
            "├────┼─────┼─────┼─────────┼───────┼────────┼───────┼───────┼───────┼────────┼──────┼────────┼────────┼──────────┼─────────────┼────────────┼─────────────┼────────────┼─────────────────┼────────────────┼──────────┤\n",
            "│ 17 │   3 │   6 │ jun     │ fri   │   91.1 │  94.1 │ 232.1 │   7.1 │   19.2 │   38 │    4.5 │      0 │        0 │        28   │       10.6 │         9.4 │        1.3 │              90 │             25 │        0 │\n",
            "├────┼─────┼─────┼─────────┼───────┼────────┼───────┼───────┼───────┼────────┼──────┼────────┼────────┼──────────┼─────────────┼────────────┼─────────────┼────────────┼─────────────────┼────────────────┼──────────┤\n",
            "│ 18 │   3 │   6 │ jun     │ fri   │   91.1 │  94.1 │ 232.1 │   7.1 │   19.2 │   38 │    4.5 │      0 │        0 │        28   │       10.6 │         9.4 │        1.3 │              90 │             25 │        0 │\n",
            "├────┼─────┼─────┼─────────┼───────┼────────┼───────┼───────┼───────┼────────┼──────┼────────┼────────┼──────────┼─────────────┼────────────┼─────────────┼────────────┼─────────────────┼────────────────┼──────────┤\n",
            "│ 19 │   3 │   6 │ jun     │ fri   │   91.1 │  94.1 │ 232.1 │   7.1 │   19.2 │   38 │    4.5 │      0 │        0 │        28   │       10.6 │         9.4 │        1.3 │              90 │             25 │        0 │\n",
            "├────┼─────┼─────┼─────────┼───────┼────────┼───────┼───────┼───────┼────────┼──────┼────────┼────────┼──────────┼─────────────┼────────────┼─────────────┼────────────┼─────────────────┼────────────────┼──────────┤\n",
            "│ 20 │   3 │   6 │ jun     │ fri   │   91.1 │  94.1 │ 232.1 │   7.1 │   19.2 │   38 │    4.5 │      0 │        0 │        28   │       10.6 │         9.4 │        1.3 │              90 │             25 │        0 │\n",
            "├────┼─────┼─────┼─────────┼───────┼────────┼───────┼───────┼───────┼────────┼──────┼────────┼────────┼──────────┼─────────────┼────────────┼─────────────┼────────────┼─────────────────┼────────────────┼──────────┤\n",
            "│ 21 │   3 │   6 │ jun     │ fri   │   91.1 │  94.1 │ 232.1 │   7.1 │   19.2 │   38 │    4.5 │      0 │        0 │        28   │       10.6 │         9.4 │        1.3 │              90 │             25 │        0 │\n",
            "├────┼─────┼─────┼─────────┼───────┼────────┼───────┼───────┼───────┼────────┼──────┼────────┼────────┼──────────┼─────────────┼────────────┼─────────────┼────────────┼─────────────────┼────────────────┼──────────┤\n",
            "│ 22 │   3 │   6 │ jun     │ fri   │   91.1 │  94.1 │ 232.1 │   7.1 │   19.2 │   38 │    4.5 │      0 │        0 │        28   │       10.6 │         9.4 │        1.3 │              90 │             25 │        0 │\n",
            "├────┼─────┼─────┼─────────┼───────┼────────┼───────┼───────┼───────┼────────┼──────┼────────┼────────┼──────────┼─────────────┼────────────┼─────────────┼────────────┼─────────────────┼────────────────┼──────────┤\n",
            "│ 23 │   3 │   6 │ jun     │ fri   │   91.1 │  94.1 │ 232.1 │   7.1 │   19.2 │   38 │    4.5 │      0 │        0 │        28   │       10.6 │         9.4 │        1.3 │              90 │             25 │        0 │\n",
            "├────┼─────┼─────┼─────────┼───────┼────────┼───────┼───────┼───────┼────────┼──────┼────────┼────────┼──────────┼─────────────┼────────────┼─────────────┼────────────┼─────────────────┼────────────────┼──────────┤\n",
            "│ 24 │   3 │   6 │ jun     │ fri   │   91.1 │  94.1 │ 232.1 │   7.1 │   19.2 │   38 │    4.5 │      0 │        0 │        28   │       10.6 │         9.4 │        1.3 │              90 │             25 │        0 │\n",
            "├────┼─────┼─────┼─────────┼───────┼────────┼───────┼───────┼───────┼────────┼──────┼────────┼────────┼──────────┼─────────────┼────────────┼─────────────┼────────────┼─────────────────┼────────────────┼──────────┤\n",
            "│ 25 │   3 │   6 │ jun     │ fri   │   91.1 │  94.1 │ 232.1 │   7.1 │   19.2 │   38 │    4.5 │      0 │        0 │        28   │       10.6 │         9.4 │        1.3 │              90 │             25 │        0 │\n",
            "├────┼─────┼─────┼─────────┼───────┼────────┼───────┼───────┼───────┼────────┼──────┼────────┼────────┼──────────┼─────────────┼────────────┼─────────────┼────────────┼─────────────────┼────────────────┼──────────┤\n",
            "│ 26 │   6 │   5 │ may     │ sat   │   85.1 │  28   │ 113.8 │   3.5 │   11.3 │   94 │    4.9 │      0 │        0 │        18   │       11.3 │         4.9 │        4   │              94 │             40 │        0 │\n",
            "├────┼─────┼─────┼─────────┼───────┼────────┼───────┼───────┼───────┼────────┼──────┼────────┼────────┼──────────┼─────────────┼────────────┼─────────────┼────────────┼─────────────────┼────────────────┼──────────┤\n",
            "│ 27 │   1 │   4 │ sep     │ sun   │   89.6 │  84.1 │ 714.3 │   5.7 │   19   │   52 │    2.2 │      0 │        0 │        30.2 │        9.8 │         7.6 │        0.9 │              86 │             15 │        0 │\n",
            "├────┼─────┼─────┼─────────┼───────┼────────┼───────┼───────┼───────┼────────┼──────┼────────┼────────┼──────────┼─────────────┼────────────┼─────────────┼────────────┼─────────────────┼────────────────┼──────────┤\n",
            "│ 28 │   1 │   4 │ sep     │ sun   │   89.6 │  84.1 │ 714.3 │   5.7 │   19   │   52 │    2.2 │      0 │        0 │        30.2 │        9.8 │         7.6 │        0.9 │              86 │             15 │        0 │\n",
            "├────┼─────┼─────┼─────────┼───────┼────────┼───────┼───────┼───────┼────────┼──────┼────────┼────────┼──────────┼─────────────┼────────────┼─────────────┼────────────┼─────────────────┼────────────────┼──────────┤\n",
            "│ 29 │   1 │   4 │ sep     │ sun   │   89.6 │  84.1 │ 714.3 │   5.7 │   19   │   52 │    2.2 │      0 │        0 │        30.2 │        9.8 │         7.6 │        0.9 │              86 │             15 │        0 │\n",
            "├────┼─────┼─────┼─────────┼───────┼────────┼───────┼───────┼───────┼────────┼──────┼────────┼────────┼──────────┼─────────────┼────────────┼─────────────┼────────────┼─────────────────┼────────────────┼──────────┤\n",
            "│ 30 │   2 │   4 │ sep     │ sun   │   92.4 │ 105.8 │ 758.1 │   9.9 │   16   │   45 │    1.8 │      0 │        0 │        30.2 │        9.8 │         7.6 │        0.9 │              86 │             15 │        0 │\n",
            "├────┼─────┼─────┼─────────┼───────┼────────┼───────┼───────┼───────┼────────┼──────┼────────┼────────┼──────────┼─────────────┼────────────┼─────────────┼────────────┼─────────────────┼────────────────┼──────────┤\n",
            "│ 31 │   2 │   4 │ sep     │ sun   │   92.4 │ 105.8 │ 758.1 │   9.9 │   16   │   45 │    1.8 │      0 │        0 │        30.2 │        9.8 │         7.6 │        0.9 │              86 │             15 │        0 │\n",
            "├────┼─────┼─────┼─────────┼───────┼────────┼───────┼───────┼───────┼────────┼──────┼────────┼────────┼──────────┼─────────────┼────────────┼─────────────┼────────────┼─────────────────┼────────────────┼──────────┤\n",
            "│ 32 │   2 │   4 │ sep     │ sun   │   92.4 │ 105.8 │ 758.1 │   9.9 │   16   │   45 │    1.8 │      0 │        0 │        30.2 │        9.8 │         7.6 │        0.9 │              86 │             15 │        0 │\n",
            "├────┼─────┼─────┼─────────┼───────┼────────┼───────┼───────┼───────┼────────┼──────┼────────┼────────┼──────────┼─────────────┼────────────┼─────────────┼────────────┼─────────────────┼────────────────┼──────────┤\n",
            "│ 33 │   2 │   4 │ sep     │ sun   │   92.4 │ 105.8 │ 758.1 │   9.9 │   24.9 │   27 │    2.2 │      0 │        0 │        30.2 │        9.8 │         7.6 │        0.9 │              86 │             15 │        0 │\n",
            "├────┼─────┼─────┼─────────┼───────┼────────┼───────┼───────┼───────┼────────┼──────┼────────┼────────┼──────────┼─────────────┼────────────┼─────────────┼────────────┼─────────────────┼────────────────┼──────────┤\n",
            "│ 34 │   2 │   4 │ sep     │ sun   │   92.4 │ 105.8 │ 758.1 │   9.9 │   24.9 │   27 │    2.2 │      0 │        0 │        30.2 │        9.8 │         7.6 │        0.9 │              86 │             15 │        0 │\n",
            "├────┼─────┼─────┼─────────┼───────┼────────┼───────┼───────┼───────┼────────┼──────┼────────┼────────┼──────────┼─────────────┼────────────┼─────────────┼────────────┼─────────────────┼────────────────┼──────────┤\n",
            "│ 35 │   2 │   4 │ sep     │ sun   │   92.4 │ 105.8 │ 758.1 │   9.9 │   24.9 │   27 │    2.2 │      0 │        0 │        30.2 │        9.8 │         7.6 │        0.9 │              86 │             15 │        0 │\n",
            "╘════╧═════╧═════╧═════════╧═══════╧════════╧═══════╧═══════╧═══════╧════════╧══════╧════════╧════════╧══════════╧═════════════╧════════════╧═════════════╧════════════╧═════════════════╧════════════════╧══════════╛\n"
          ]
        }
      ]
    },
    {
      "cell_type": "markdown",
      "source": [
        "***6. Plot a group bar chart for the output in question 5.***"
      ],
      "metadata": {
        "id": "MAkMacBup45f"
      }
    },
    {
      "cell_type": "code",
      "source": [
        "final_merged_df = pd.merge(merged_df2, df_burnt_area[['month', 'area']], on='month', how='left')\n",
        "plt.figure(figsize=(10, 6))\n",
        "plt.title('Grouped Bar Chart')\n",
        "plt.xlabel('Month')\n",
        "plt.ylabel('Value')\n",
        "plt.xticks(rotation=0)\n",
        "plt.bar(final_merged_df['month'], final_merged_df['high_humidity'], label='High Humidity')\n",
        "plt.bar(final_merged_df['month'], final_merged_df['low_humidity'], label='Low Humidity')\n",
        "plt.bar(final_merged_df['month'], final_merged_df['high_wind'], label='High Wind')\n",
        "plt.bar(final_merged_df['month'], final_merged_df['low_wind'], label='Low Wind')\n",
        "plt.bar(final_merged_df['month'], final_merged_df['high_temp'], label='High Temperature')\n",
        "plt.bar(final_merged_df['month'], final_merged_df['low_temp'], label='Low Temperature')\n",
        "plt.legend()\n",
        "plt.show()\n",
        "plt.bar(final_merged_df['month'], final_merged_df['low_temp'], label='Low Temperature')"
      ],
      "metadata": {
        "colab": {
          "base_uri": "https://localhost:8080/",
          "height": 995
        },
        "id": "fgzl4W4tp7BH",
        "outputId": "40b6a05c-6e21-437a-b184-13aab317dfea"
      },
      "execution_count": 57,
      "outputs": [
        {
          "output_type": "display_data",
          "data": {
            "text/plain": [
              "<Figure size 1000x600 with 1 Axes>"
            ],
            "image/png": "[encoded data removed]"
          },
          "metadata": {}
        },
        {
          "output_type": "execute_result",
          "data": {
            "text/plain": [
              "<BarContainer object of 36 artists>"
            ]
          },
          "metadata": {},
          "execution_count": 57
        },
        {
          "output_type": "display_data",
          "data": {
            "text/plain": [
              "<Figure size 640x480 with 1 Axes>"
            ],
            "image/png": "[encoded data removed]"
          },
          "metadata": {}
        }
      ]
    }
  ]
}