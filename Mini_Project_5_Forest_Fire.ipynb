{
  "nbformat": 4,
  "nbformat_minor": 0,
  "metadata": {
    "colab": {
      "provenance": [],
      "authorship_tag": "ABX9TyOP2qZelhjjC138Jq3asY/j",
      "include_colab_link": true
    },
    "kernelspec": {
      "name": "python3",
      "display_name": "Python 3"
    },
    "language_info": {
      "name": "python"
    }
  },
  "cells": [
    {
      "cell_type": "markdown",
      "metadata": {
        "id": "view-in-github",
        "colab_type": "text"
      },
      "source": [
        "<a href=\"https://colab.research.google.com/github/GNANASAMBANTHAN/GNANASAMBANTHAN/blob/main/Mini_Project_5_Forest_Fire.ipynb\" target=\"_parent\"><img src=\"https://colab.research.google.com/assets/colab-badge.svg\" alt=\"Open In Colab\"/></a>"
      ]
    },
    {
      "cell_type": "markdown",
      "source": [
        "***Questions***       \n",
        "***Part - I***\n",
        "1. Top 10 maximum burnt area happened on which month.\n",
        "2. Highest temperature and lowest temperature for each month.\n",
        "3. Monthly when highest wind and lowest wind happened.\n",
        "4. Highest and lowest relative humidity for each month.\n",
        "5. Join the output from questions 1-4 above.\n",
        "6. Plot a group bar chart for the output in question 5.\n",
        "\n",
        "***Part - II***\n",
        "1. Find Maximum salary for each department only active employees and output requires `emp_id`.\n",
        "2. All active/inactive employees (=emp_id) and their correspond department maximum salary."
      ],
      "metadata": {
        "id": "NB0xdrwZhs58"
      }
    },
    {
      "cell_type": "code",
      "execution_count": null,
      "metadata": {
        "id": "Q84_cj1ehktL"
      },
      "outputs": [],
      "source": []
    }
  ]
}