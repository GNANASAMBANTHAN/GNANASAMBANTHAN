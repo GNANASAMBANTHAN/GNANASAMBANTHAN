{
  "nbformat": 4,
  "nbformat_minor": 0,
  "metadata": {
    "colab": {
      "provenance": [],
      "mount_file_id": "1Nn4oxMUXe2LztQA9bQnuEwDvye5rd6De",
      "authorship_tag": "ABX9TyPzcx53lRW/B14IFD1WnFz9",
      "include_colab_link": true
    },
    "kernelspec": {
      "name": "python3",
      "display_name": "Python 3"
    },
    "language_info": {
      "name": "python"
    }
  },
  "cells": [
    {
      "cell_type": "markdown",
      "metadata": {
        "id": "view-in-github",
        "colab_type": "text"
      },
      "source": [
        "<a href=\"https://colab.research.google.com/github/GNANASAMBANTHAN/GNANASAMBANTHAN/blob/main/Mini_Project_1_Powerlifting.ipynb\" target=\"_parent\"><img src=\"https://colab.research.google.com/assets/colab-badge.svg\" alt=\"Open In Colab\"/></a>"
      ]
    },
    {
      "cell_type": "markdown",
      "source": [
        "***Questions***\n",
        "1. Top 10 states for Men.\n",
        "2. Top 10 states for Women.\n",
        "3. Plot pie chart and bar chart for Men Top 21-30 states (inclusive).\n",
        "   (Plot one with Matplotlib and one with Seaborn)\n",
        "4. Plot pie chart and bar chart for Women Top 21-30 states (inclusive).\n",
        "   (Plot one with Matplotlib and one with Seaborn)\n",
        "5. Top 10 states for Men in year 2021\n",
        "   (Hint: Use Custom Function)\n",
        "6. Top 10 states for Women in year 2021\n",
        "   (Hint: Use Custom Function)\n",
        "7. Stack bar chart for men vs women X axis -> 18-30 | 31-40 | 41-50 | 51-60\n",
        "   (Hint: Use Custom Function or pandas pd.cut)\n",
        "8. Pie chart for men w.r.t age group (18-30 | 31-40 | 41-50 | 51-60)\n",
        "9. Pie chart for women w.r.t age group (18-30 | 31-40 | 41-50 | 51-60)\n",
        "10. Histogram for men by age (use Age for binning purpose)\n",
        "11. Histogram for women by age (use Age for binning purpose)\n",
        "\n",
        "\n"
      ],
      "metadata": {
        "id": "xBCL8McIFe3e"
      }
    },
    {
      "cell_type": "code",
      "execution_count": null,
      "metadata": {
        "id": "ygjj3jwSn0i8"
      },
      "outputs": [],
      "source": []
    }
  ]
}