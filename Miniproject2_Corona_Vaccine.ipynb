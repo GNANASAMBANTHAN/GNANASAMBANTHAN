{
  "cells": [
    {
      "cell_type": "markdown",
      "metadata": {
        "id": "view-in-github",
        "colab_type": "text"
      },
      "source": [
        "<a href=\"https://colab.research.google.com/github/GNANASAMBANTHAN/GNANASAMBANTHAN/blob/main/Miniproject2_Corona_Vaccine.ipynb\" target=\"_parent\"><img src=\"https://colab.research.google.com/assets/colab-badge.svg\" alt=\"Open In Colab\"/></a>"
      ]
    },
    {
      "cell_type": "code",
      "execution_count": 9,
      "metadata": {
        "colab": {
          "base_uri": "https://localhost:8080/"
        },
        "id": "p1c21ElyBPp5",
        "outputId": "6085e009-49de-41ce-b703-e71911cf8efb"
      },
      "outputs": [
        {
          "output_type": "stream",
          "name": "stdout",
          "text": [
            "Drive already mounted at /content/drive; to attempt to forcibly remount, call drive.mount(\"/content/drive\", force_remount=True).\n"
          ]
        }
      ],
      "source": [
        "import pandas as pd\n",
        "import glob\n",
        "import os\n",
        "from google.colab import drive\n",
        "drive.mount('/content/drive')"
      ]
    },
    {
      "cell_type": "code",
      "source": [
        "one = pd.read_csv('/us-counties.csv')\n",
        "two= pd.read_csv('/us-counties-recent.csv')\n",
        "merge= pd.concat([one, two])\n",
        "merge.to_csv('merge.csv', index=True)"
      ],
      "metadata": {
        "id": "xbNqM9cDuOq-"
      },
      "execution_count": 10,
      "outputs": []
    },
    {
      "cell_type": "code",
      "execution_count": null,
      "metadata": {
        "colab": {
          "base_uri": "https://localhost:8080/"
        },
        "id": "xQpeBfBZa3O7",
        "outputId": "8d0e8a89-93c5-4e50-f1df-fbc000a7feec"
      },
      "outputs": [
        {
          "name": "stdout",
          "output_type": "stream",
          "text": [
            "         date    county    state    fips    cases  deaths\n",
            "0  2021-12-11   Autauga  Alabama  1001.0  10596.0   158.0\n",
            "1  2021-12-11   Baldwin  Alabama  1003.0  38307.0   591.0\n",
            "2  2021-12-11   Barbour  Alabama  1005.0   3716.0    81.0\n",
            "3  2021-12-11      Bibb  Alabama  1007.0   4379.0    95.0\n",
            "4  2021-12-11    Blount  Alabama  1009.0  10857.0   193.0\n",
            "5  2021-12-11   Bullock  Alabama  1011.0   1537.0    46.0\n",
            "6  2021-12-11    Butler  Alabama  1013.0   3466.0   102.0\n",
            "7  2021-12-11   Calhoun  Alabama  1015.0  22695.0   522.0\n",
            "8  2021-12-11  Chambers  Alabama  1017.0   5830.0   143.0\n",
            "9  2021-12-11  Cherokee  Alabama  1019.0   3230.0    64.0\n",
            "(102723, 6)\n"
          ]
        }
      ],
      "source": [
        "print(merge.head(10))\n",
        "hi=merge.shape\n",
        "print(hi)"
      ]
    },
    {
      "cell_type": "markdown",
      "metadata": {
        "id": "Vj-WgMlnbbaC"
      },
      "source": [
        "How many number of distinct states and distinct districts ?"
      ]
    },
    {
      "cell_type": "code",
      "execution_count": null,
      "metadata": {
        "colab": {
          "base_uri": "https://localhost:8080/"
        },
        "id": "j97ecHJfbOIK",
        "outputId": "24e151ac-81bd-432a-de24-3815c42aec63"
      },
      "outputs": [
        {
          "name": "stdout",
          "output_type": "stream",
          "text": [
            "['Alabama' 'Alaska' 'American Samoa' 'Arizona' 'Arkansas' 'California'\n",
            " 'Colorado' 'Connecticut' 'Delaware' 'District of Columbia' 'Florida'\n",
            " 'Georgia' 'Guam' 'Hawaii' 'Idaho' 'Illinois' 'Indiana' 'Iowa' 'Kansas'\n",
            " 'Kentucky' 'Louisiana' 'Maine' 'Maryland' 'Massachusetts' 'Michigan'\n",
            " 'Minnesota' 'Mississippi' 'Missouri' 'Montana' 'Nebraska' 'Nevada'\n",
            " 'New Hampshire' 'New Jersey' 'New Mexico' 'New York' 'North Carolina'\n",
            " 'North Dakota' 'Northern Mariana Islands' 'Ohio' 'Oklahoma' 'Oregon'\n",
            " 'Pennsylvania' 'Puerto Rico' 'Rhode Island' 'South Carolina'\n",
            " 'South Dakota' 'Tennessee' 'Texas' 'Utah' 'Vermont' 'Virgin Islands'\n",
            " 'Virginia' 'Washington' 'West Virginia' 'Wisconsin' 'Wyoming' nan]\n",
            "57\n"
          ]
        }
      ],
      "source": [
        "State = merge[\"state\"].unique()\n",
        "print(State)\n",
        "print(len(State))"
      ]
    },
    {
      "cell_type": "code",
      "execution_count": null,
      "metadata": {
        "colab": {
          "base_uri": "https://localhost:8080/"
        },
        "id": "_YitIGLtcbSI",
        "outputId": "6b61ab90-93e6-49ef-987e-fb094a25d60e"
      },
      "outputs": [
        {
          "name": "stdout",
          "output_type": "stream",
          "text": [
            "['Autauga' 'Baldwin' 'Barbour' ... 'Washakie' 'Weston' nan]\n",
            "1931\n"
          ]
        }
      ],
      "source": [
        "District= merge[\"county\"].unique()\n",
        "print(District)\n",
        "print(len(District))"
      ]
    },
    {
      "cell_type": "code",
      "execution_count": null,
      "metadata": {
        "colab": {
          "background_save": true
        },
        "id": "uVLiCPOicnvc",
        "outputId": "109f5118-80d2-42bc-d559-1e655870eb38"
      },
      "outputs": [
        {
          "name": "stdout",
          "output_type": "stream",
          "text": [
            "1988\n"
          ]
        }
      ],
      "source": [
        "Total= merge[\"fips\"].unique()\n",
        "print(Total)"
      ]
    },
    {
      "cell_type": "code",
      "source": [
        "print(State,District)"
      ],
      "metadata": {
        "colab": {
          "base_uri": "https://localhost:8080/"
        },
        "id": "UfyYDYtve54D",
        "outputId": "1dc86fd4-a7a0-4c2d-8fe6-3d4d487a1f7a"
      },
      "execution_count": null,
      "outputs": [
        {
          "output_type": "stream",
          "name": "stdout",
          "text": [
            "['Alabama' 'Alaska' 'American Samoa' 'Arizona' 'Arkansas' 'California'\n",
            " 'Colorado' 'Connecticut' 'Delaware' 'District of Columbia' 'Florida'\n",
            " 'Georgia' 'Guam' 'Hawaii' 'Idaho' 'Illinois' 'Indiana' 'Iowa' 'Kansas'\n",
            " 'Kentucky' 'Louisiana' 'Maine' 'Maryland' 'Massachusetts' 'Michigan'\n",
            " 'Minnesota' 'Mississippi' 'Missouri' 'Montana' 'Nebraska' 'Nevada'\n",
            " 'New Hampshire' 'New Jersey' 'New Mexico' 'New York' 'North Carolina'\n",
            " 'North Dakota' 'Northern Mariana Islands' 'Ohio' 'Oklahoma' 'Oregon'\n",
            " 'Pennsylvania' 'Puerto Rico' 'Rhode Island' 'South Carolina'\n",
            " 'South Dakota' 'Tennessee' 'Texas' 'Utah' 'Vermont' 'Virgin Islands'\n",
            " 'Virginia' 'Washington' 'West Virginia' 'Wisconsin' 'Wyoming' nan] ['Autauga' 'Baldwin' 'Barbour' ... 'Washakie' 'Weston' nan]\n"
          ]
        }
      ]
    },
    {
      "cell_type": "markdown",
      "source": [
        "Is there any data missing for any day/month of any year?"
      ],
      "metadata": {
        "id": "zkOBNrxEfcqr"
      }
    },
    {
      "cell_type": "code",
      "source": [
        "null_dates = merge[merge['date'].isnull()]['date']\n",
        "print(null_dates)"
      ],
      "metadata": {
        "colab": {
          "base_uri": "https://localhost:8080/"
        },
        "id": "3Mp7W8gwsga2",
        "outputId": "dac30f84-f293-48a8-d40c-e33f4261f94a"
      },
      "execution_count": 18,
      "outputs": [
        {
          "output_type": "stream",
          "name": "stdout",
          "text": [
            "Series([], Name: date, dtype: object)\n"
          ]
        }
      ]
    },
    {
      "cell_type": "code",
      "source": [
        "if 'Year' in merge.columns:\n",
        "    null_Years = merge[merge['Year'].isnull()]['Year']\n",
        "    print(null_Years)\n",
        "else:\n",
        "    print(\"Column 'Year' not found in DataFrame.\")"
      ],
      "metadata": {
        "colab": {
          "base_uri": "https://localhost:8080/"
        },
        "id": "NsjR8Nv6wtlO",
        "outputId": "fde4008c-c81a-4db9-bb55-6a83192d1d05"
      },
      "execution_count": 28,
      "outputs": [
        {
          "output_type": "stream",
          "name": "stdout",
          "text": [
            "Column 'Year' not found in DataFrame.\n"
          ]
        }
      ]
    },
    {
      "cell_type": "markdown",
      "source": [
        "The top 10 states having highest total death in year 2020"
      ],
      "metadata": {
        "id": "GFnjAh_FlWzv"
      }
    },
    {
      "cell_type": "code",
      "source": [],
      "metadata": {
        "id": "LmMKRbopl8QX"
      },
      "execution_count": null,
      "outputs": []
    },
    {
      "cell_type": "code",
      "source": [
        "print(merge.head(10))"
      ],
      "metadata": {
        "colab": {
          "base_uri": "https://localhost:8080/"
        },
        "id": "ypLDaqgOnmVg",
        "outputId": "44e4df34-18d7-424c-dac3-dbe719a578e0"
      },
      "execution_count": null,
      "outputs": [
        {
          "output_type": "stream",
          "name": "stdout",
          "text": [
            "         date    county    state    fips    cases  deaths\n",
            "0  2021-12-11   Autauga  Alabama  1001.0  10596.0   158.0\n",
            "1  2021-12-11   Baldwin  Alabama  1003.0  38307.0   591.0\n",
            "2  2021-12-11   Barbour  Alabama  1005.0   3716.0    81.0\n",
            "3  2021-12-11      Bibb  Alabama  1007.0   4379.0    95.0\n",
            "4  2021-12-11    Blount  Alabama  1009.0  10857.0   193.0\n",
            "5  2021-12-11   Bullock  Alabama  1011.0   1537.0    46.0\n",
            "6  2021-12-11    Butler  Alabama  1013.0   3466.0   102.0\n",
            "7  2021-12-11   Calhoun  Alabama  1015.0  22695.0   522.0\n",
            "8  2021-12-11  Chambers  Alabama  1017.0   5830.0   143.0\n",
            "9  2021-12-11  Cherokee  Alabama  1019.0   3230.0    64.0\n"
          ]
        }
      ]
    }
  ],
  "metadata": {
    "colab": {
      "provenance": [],
      "mount_file_id": "1tw7Z3Ks74GNdlm5MiqmPTQeaRKfF1Q2c",
      "authorship_tag": "ABX9TyPNkRW9qFPkbF4hm2R0Nfxj",
      "include_colab_link": true
    },
    "kernelspec": {
      "display_name": "Python 3",
      "name": "python3"
    },
    "language_info": {
      "name": "python"
    }
  },
  "nbformat": 4,
  "nbformat_minor": 0
}