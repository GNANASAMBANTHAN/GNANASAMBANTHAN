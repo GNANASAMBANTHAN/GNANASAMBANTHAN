{
  "nbformat": 4,
  "nbformat_minor": 0,
  "metadata": {
    "colab": {
      "provenance": [],
      "mount_file_id": "1tw7Z3Ks74GNdlm5MiqmPTQeaRKfF1Q2c",
      "authorship_tag": "ABX9TyPWI2vy7n1mqiXBI//Ag/Vp",
      "include_colab_link": true
    },
    "kernelspec": {
      "name": "python3",
      "display_name": "Python 3"
    },
    "language_info": {
      "name": "python"
    }
  },
  "cells": [
    {
      "cell_type": "markdown",
      "metadata": {
        "id": "view-in-github",
        "colab_type": "text"
      },
      "source": [
        "<a href=\"https://colab.research.google.com/github/GNANASAMBANTHAN/GNANASAMBANTHAN/blob/main/Miniproject2_Corona_Vaccine.ipynb\" target=\"_parent\"><img src=\"https://colab.research.google.com/assets/colab-badge.svg\" alt=\"Open In Colab\"/></a>"
      ]
    },
    {
      "cell_type": "code",
      "execution_count": 1,
      "metadata": {
        "id": "p1c21ElyBPp5",
        "colab": {
          "base_uri": "https://localhost:8080/"
        },
        "outputId": "19b7f272-c2a6-4937-edc4-4afe4ed1c444"
      },
      "outputs": [
        {
          "output_type": "stream",
          "name": "stdout",
          "text": [
            "Drive already mounted at /content/drive; to attempt to forcibly remount, call drive.mount(\"/content/drive\", force_remount=True).\n"
          ]
        }
      ],
      "source": [
        "import pandas as pd\n",
        "import glob\n",
        "import os\n",
        "from google.colab import drive\n",
        "drive.mount('/content/drive')"
      ]
    },
    {
      "cell_type": "code",
      "source": [
        "import pandas as pd\n",
        "df=pd.read_csv(\"/us-counties-recent.csv\")\n",
        "print(df)"
      ],
      "metadata": {
        "id": "gRbIeX7mQ-GY",
        "colab": {
          "base_uri": "https://localhost:8080/"
        },
        "outputId": "37b7b90f-f73e-49a5-b255-0227f59ebdd2"
      },
      "execution_count": 3,
      "outputs": [
        {
          "output_type": "stream",
          "name": "stdout",
          "text": [
            "             date      county    state     fips  cases  deaths\n",
            "0      2021-12-11     Autauga  Alabama   1001.0  10596   158.0\n",
            "1      2021-12-11     Baldwin  Alabama   1003.0  38307   591.0\n",
            "2      2021-12-11     Barbour  Alabama   1005.0   3716    81.0\n",
            "3      2021-12-11        Bibb  Alabama   1007.0   4379    95.0\n",
            "4      2021-12-11      Blount  Alabama   1009.0  10857   193.0\n",
            "...           ...         ...      ...      ...    ...     ...\n",
            "97515  2022-01-09  Sweetwater  Wyoming  56037.0   8506   110.0\n",
            "97516  2022-01-09       Teton  Wyoming  56039.0   7025    14.0\n",
            "97517  2022-01-09       Uinta  Wyoming  56041.0   4264    34.0\n",
            "97518  2022-01-09    Washakie  Wyoming  56043.0   1914    39.0\n",
            "97519  2022-01-09      Weston  Wyoming  56045.0   1263    16.0\n",
            "\n",
            "[97520 rows x 6 columns]\n"
          ]
        }
      ]
    },
    {
      "cell_type": "code",
      "source": [
        "df_recent = pd.read_csv(\"/us-counties-recent.csv\")"
      ],
      "metadata": {
        "id": "EdtWo42bmHgt"
      },
      "execution_count": 4,
      "outputs": []
    },
    {
      "cell_type": "code",
      "source": [
        "df_all = pd.read_csv(\"/us-counties.csv\")"
      ],
      "metadata": {
        "id": "GEOYpFgamenH"
      },
      "execution_count": 6,
      "outputs": []
    },
    {
      "cell_type": "code",
      "source": [
        "df = pd.concat(\n",
        "    map(pd.read_csv, ['/us-counties.csv', '/us-counties-recent.csv']), ignore_index=True)\n",
        "print(df)"
      ],
      "metadata": {
        "id": "ox_u1sQwiqOr",
        "colab": {
          "base_uri": "https://localhost:8080/"
        },
        "outputId": "fdd37230-dfab-4a83-b68b-1b7b1d4b8912"
      },
      "execution_count": 5,
      "outputs": [
        {
          "output_type": "stream",
          "name": "stdout",
          "text": [
            "              date      county       state     fips  cases  deaths\n",
            "0       2020-01-21   Snohomish  Washington  53061.0      1     0.0\n",
            "1       2020-01-22   Snohomish  Washington  53061.0      1     0.0\n",
            "2       2020-01-23   Snohomish  Washington  53061.0      1     0.0\n",
            "3       2020-01-24        Cook    Illinois  17031.0      1     0.0\n",
            "4       2020-01-24   Snohomish  Washington  53061.0      1     0.0\n",
            "...            ...         ...         ...      ...    ...     ...\n",
            "951993  2022-01-09  Sweetwater     Wyoming  56037.0   8506   110.0\n",
            "951994  2022-01-09       Teton     Wyoming  56039.0   7025    14.0\n",
            "951995  2022-01-09       Uinta     Wyoming  56041.0   4264    34.0\n",
            "951996  2022-01-09    Washakie     Wyoming  56043.0   1914    39.0\n",
            "951997  2022-01-09      Weston     Wyoming  56045.0   1263    16.0\n",
            "\n",
            "[951998 rows x 6 columns]\n"
          ]
        }
      ]
    },
    {
      "cell_type": "code",
      "source": [
        "no_of_distinct_counties = len(\"/us_counties.csv\")\n",
        "print(no_of_distinct_counties)\n",
        "no_of_distinct_counties = len(\"/us-counties-recent.csv\")\n",
        "print(no_of_distinct_counties)"
      ],
      "metadata": {
        "colab": {
          "base_uri": "https://localhost:8080/"
        },
        "id": "WYROxbz7pS-W",
        "outputId": "75783c15-9a7a-4963-81d8-a4c89694854a"
      },
      "execution_count": 8,
      "outputs": [
        {
          "output_type": "stream",
          "name": "stdout",
          "text": [
            "16\n",
            "23\n"
          ]
        }
      ]
    }
  ]
}