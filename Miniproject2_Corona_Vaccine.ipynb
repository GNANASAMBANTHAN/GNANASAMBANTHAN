{
  "nbformat": 4,
  "nbformat_minor": 0,
  "metadata": {
    "colab": {
      "provenance": [],
      "authorship_tag": "ABX9TyMYOzn8UloYda7hNHrxNZdp",
      "include_colab_link": true
    },
    "kernelspec": {
      "name": "python3",
      "display_name": "Python 3"
    },
    "language_info": {
      "name": "python"
    }
  },
  "cells": [
    {
      "cell_type": "markdown",
      "metadata": {
        "id": "view-in-github",
        "colab_type": "text"
      },
      "source": [
        "<a href=\"https://colab.research.google.com/github/GNANASAMBANTHAN/GNANASAMBANTHAN/blob/main/Miniproject2_Corona_Vaccine.ipynb\" target=\"_parent\"><img src=\"https://colab.research.google.com/assets/colab-badge.svg\" alt=\"Open In Colab\"/></a>"
      ]
    },
    {
      "cell_type": "code",
      "execution_count": null,
      "metadata": {
        "id": "p1c21ElyBPp5"
      },
      "outputs": [],
      "source": [
        "import pandas as pd\n",
        "import glob\n",
        "import os"
      ]
    },
    {
      "cell_type": "code",
      "source": [
        "from google.colab import drive\n",
        "drive.mount('/content/drive')"
      ],
      "metadata": {
        "colab": {
          "base_uri": "https://localhost:8080/"
        },
        "id": "gRbIeX7mQ-GY",
        "outputId": "7a64a328-db79-47ae-fd46-a53698ca2918"
      },
      "execution_count": 7,
      "outputs": [
        {
          "output_type": "stream",
          "name": "stdout",
          "text": [
            "Mounted at /content/drive\n"
          ]
        }
      ]
    },
    {
      "cell_type": "code",
      "source": [
        "df_recent = pd.read_csv(\"us-counties-recent.csv\")\n",
        "df_all = pd.read_csv(\"us-counties.csv\")\n",
        "merged_df = pd.merge(df_recent, df_all, on='county', how='outer')\n",
        "print(merged_df.head())"
      ],
      "metadata": {
        "colab": {
          "base_uri": "https://localhost:8080/"
        },
        "id": "bW5SkQt4RNxf",
        "outputId": "3a586513-2143-4e68-b83c-e84c20ed4863"
      },
      "execution_count": 8,
      "outputs": [
        {
          "output_type": "stream",
          "name": "stdout",
          "text": [
            "       date_x   county  state_x  fips_x  cases_x  deaths_x      date_y  \\\n",
            "0  2021-12-11  Autauga  Alabama  1001.0    10596     158.0  2020-03-24   \n",
            "1  2021-12-11  Autauga  Alabama  1001.0    10596     158.0  2020-03-25   \n",
            "2  2021-12-11  Autauga  Alabama  1001.0    10596     158.0  2020-03-26   \n",
            "3  2021-12-11  Autauga  Alabama  1001.0    10596     158.0  2020-03-27   \n",
            "4  2021-12-11  Autauga  Alabama  1001.0    10596     158.0  2020-03-28   \n",
            "\n",
            "   state_y  fips_y  cases_y  deaths_y  \n",
            "0  Alabama  1001.0      1.0       0.0  \n",
            "1  Alabama  1001.0      4.0       0.0  \n",
            "2  Alabama  1001.0      6.0       0.0  \n",
            "3  Alabama  1001.0      6.0       0.0  \n",
            "4  Alabama  1001.0      6.0       0.0  \n"
          ]
        }
      ]
    }
  ]
}