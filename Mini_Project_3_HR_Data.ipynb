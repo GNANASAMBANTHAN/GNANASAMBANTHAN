{
  "nbformat": 4,
  "nbformat_minor": 0,
  "metadata": {
    "colab": {
      "provenance": [],
      "authorship_tag": "ABX9TyNyeva3v9r7vK2Zal7wJyOM",
      "include_colab_link": true
    },
    "kernelspec": {
      "name": "python3",
      "display_name": "Python 3"
    },
    "language_info": {
      "name": "python"
    }
  },
  "cells": [
    {
      "cell_type": "markdown",
      "metadata": {
        "id": "view-in-github",
        "colab_type": "text"
      },
      "source": [
        "<a href=\"https://colab.research.google.com/github/GNANASAMBANTHAN/GNANASAMBANTHAN/blob/main/Mini_Project_3_HR_Data.ipynb\" target=\"_parent\"><img src=\"https://colab.research.google.com/assets/colab-badge.svg\" alt=\"Open In Colab\"/></a>"
      ]
    },
    {
      "cell_type": "code",
      "execution_count": 4,
      "metadata": {
        "id": "tF-FJMDrNi1r"
      },
      "outputs": [],
      "source": [
        "import csv\n",
        "import numpy as np\n",
        "import matplotlib.pyplot as plt\n",
        "import datetime\n",
        "import seaborn as sns\n",
        "import scipy.stats as stats\n",
        "import traceback\n",
        "import re\n",
        "import os\n",
        "import math\n",
        "from tabulate import tabulate\n",
        "from datetime import datetime\n",
        "from collections import Counter\n",
        "import pandas as pd\n",
        "import requests\n",
        "import json\n",
        "import pandas as pd"
      ]
    },
    {
      "cell_type": "code",
      "source": [
        "from IPython.core.interactiveshell import InteractiveShell\n",
        "InteractiveShell.ast_node_Interactivity = \"all\""
      ],
      "metadata": {
        "id": "cw4DfC8iPEb-"
      },
      "execution_count": null,
      "outputs": []
    },
    {
      "cell_type": "markdown",
      "source": [
        "Schema (i.e., columns in the data set):\n",
        "Satisfaction_level                \n",
        "Last_evaluation           \n",
        "Number_project        \n",
        "Average_montly_hours        \n",
        "Time_spend_company      \n",
        "Work_accident     \n",
        "Left        \n",
        "Promotion_last_5years       \n",
        "Sales     \n",
        "Salary"
      ],
      "metadata": {
        "id": "x3l-9QjjQsVD"
      }
    },
    {
      "cell_type": "markdown",
      "source": [
        "Run pandas profiling [ref] for the dataset"
      ],
      "metadata": {
        "id": "J8eG6QdJUFhu"
      }
    },
    {
      "cell_type": "code",
      "source": [
        "import pandas as pd\n",
        "! pip install pandas-profiling"
      ],
      "metadata": {
        "colab": {
          "base_uri": "https://localhost:8080/"
        },
        "id": "z7X1f9wORXOq",
        "outputId": "2c84f00c-6afc-4a3d-81ea-c69746494a20"
      },
      "execution_count": null,
      "outputs": [
        {
          "output_type": "stream",
          "name": "stdout",
          "text": [
            "Collecting pandas-profiling\n",
            "  Downloading pandas_profiling-3.6.6-py2.py3-none-any.whl.metadata (4.5 kB)\n",
            "Collecting ydata-profiling (from pandas-profiling)\n",
            "  Downloading ydata_profiling-4.10.0-py2.py3-none-any.whl.metadata (20 kB)\n",
            "Requirement already satisfied: scipy<1.14,>=1.4.1 in /usr/local/lib/python3.10/dist-packages (from ydata-profiling->pandas-profiling) (1.13.1)\n",
            "Requirement already satisfied: pandas!=1.4.0,<3,>1.1 in /usr/local/lib/python3.10/dist-packages (from ydata-profiling->pandas-profiling) (2.1.4)\n",
            "Requirement already satisfied: matplotlib<3.10,>=3.5 in /usr/local/lib/python3.10/dist-packages (from ydata-profiling->pandas-profiling) (3.7.1)\n",
            "Requirement already satisfied: pydantic>=2 in /usr/local/lib/python3.10/dist-packages (from ydata-profiling->pandas-profiling) (2.9.1)\n",
            "Requirement already satisfied: PyYAML<6.1,>=5.0.0 in /usr/local/lib/python3.10/dist-packages (from ydata-profiling->pandas-profiling) (6.0.2)\n",
            "Requirement already satisfied: jinja2<3.2,>=2.11.1 in /usr/local/lib/python3.10/dist-packages (from ydata-profiling->pandas-profiling) (3.1.4)\n",
            "Collecting visions<0.7.7,>=0.7.5 (from visions[type_image_path]<0.7.7,>=0.7.5->ydata-profiling->pandas-profiling)\n",
            "  Downloading visions-0.7.6-py3-none-any.whl.metadata (11 kB)\n",
            "Requirement already satisfied: numpy<2.2,>=1.16.0 in /usr/local/lib/python3.10/dist-packages (from ydata-profiling->pandas-profiling) (1.26.4)\n",
            "Collecting htmlmin==0.1.12 (from ydata-profiling->pandas-profiling)\n",
            "  Downloading htmlmin-0.1.12.tar.gz (19 kB)\n",
            "  Preparing metadata (setup.py) ... \u001b[?25l\u001b[?25hdone\n",
            "Collecting phik<0.13,>=0.11.1 (from ydata-profiling->pandas-profiling)\n",
            "  Downloading phik-0.12.4-cp310-cp310-manylinux_2_17_x86_64.manylinux2014_x86_64.whl.metadata (5.6 kB)\n",
            "Requirement already satisfied: requests<3,>=2.24.0 in /usr/local/lib/python3.10/dist-packages (from ydata-profiling->pandas-profiling) (2.32.3)\n",
            "Requirement already satisfied: tqdm<5,>=4.48.2 in /usr/local/lib/python3.10/dist-packages (from ydata-profiling->pandas-profiling) (4.66.5)\n",
            "Requirement already satisfied: seaborn<0.14,>=0.10.1 in /usr/local/lib/python3.10/dist-packages (from ydata-profiling->pandas-profiling) (0.13.1)\n",
            "Collecting multimethod<2,>=1.4 (from ydata-profiling->pandas-profiling)\n",
            "  Downloading multimethod-1.12-py3-none-any.whl.metadata (9.6 kB)\n",
            "Requirement already satisfied: statsmodels<1,>=0.13.2 in /usr/local/lib/python3.10/dist-packages (from ydata-profiling->pandas-profiling) (0.14.2)\n",
            "Requirement already satisfied: typeguard<5,>=3 in /usr/local/lib/python3.10/dist-packages (from ydata-profiling->pandas-profiling) (4.3.0)\n",
            "Collecting imagehash==4.3.1 (from ydata-profiling->pandas-profiling)\n",
            "  Downloading ImageHash-4.3.1-py2.py3-none-any.whl.metadata (8.0 kB)\n",
            "Requirement already satisfied: wordcloud>=1.9.3 in /usr/local/lib/python3.10/dist-packages (from ydata-profiling->pandas-profiling) (1.9.3)\n",
            "Collecting dacite>=1.8 (from ydata-profiling->pandas-profiling)\n",
            "  Downloading dacite-1.8.1-py3-none-any.whl.metadata (15 kB)\n",
            "Requirement already satisfied: numba<1,>=0.56.0 in /usr/local/lib/python3.10/dist-packages (from ydata-profiling->pandas-profiling) (0.60.0)\n",
            "Collecting PyWavelets (from imagehash==4.3.1->ydata-profiling->pandas-profiling)\n",
            "  Downloading pywavelets-1.7.0-cp310-cp310-manylinux_2_17_x86_64.manylinux2014_x86_64.whl.metadata (9.0 kB)\n",
            "Requirement already satisfied: pillow in /usr/local/lib/python3.10/dist-packages (from imagehash==4.3.1->ydata-profiling->pandas-profiling) (9.4.0)\n",
            "Requirement already satisfied: MarkupSafe>=2.0 in /usr/local/lib/python3.10/dist-packages (from jinja2<3.2,>=2.11.1->ydata-profiling->pandas-profiling) (2.1.5)\n",
            "Requirement already satisfied: contourpy>=1.0.1 in /usr/local/lib/python3.10/dist-packages (from matplotlib<3.10,>=3.5->ydata-profiling->pandas-profiling) (1.3.0)\n",
            "Requirement already satisfied: cycler>=0.10 in /usr/local/lib/python3.10/dist-packages (from matplotlib<3.10,>=3.5->ydata-profiling->pandas-profiling) (0.12.1)\n",
            "Requirement already satisfied: fonttools>=4.22.0 in /usr/local/lib/python3.10/dist-packages (from matplotlib<3.10,>=3.5->ydata-profiling->pandas-profiling) (4.53.1)\n",
            "Requirement already satisfied: kiwisolver>=1.0.1 in /usr/local/lib/python3.10/dist-packages (from matplotlib<3.10,>=3.5->ydata-profiling->pandas-profiling) (1.4.7)\n",
            "Requirement already satisfied: packaging>=20.0 in /usr/local/lib/python3.10/dist-packages (from matplotlib<3.10,>=3.5->ydata-profiling->pandas-profiling) (24.1)\n",
            "Requirement already satisfied: pyparsing>=2.3.1 in /usr/local/lib/python3.10/dist-packages (from matplotlib<3.10,>=3.5->ydata-profiling->pandas-profiling) (3.1.4)\n",
            "Requirement already satisfied: python-dateutil>=2.7 in /usr/local/lib/python3.10/dist-packages (from matplotlib<3.10,>=3.5->ydata-profiling->pandas-profiling) (2.8.2)\n",
            "Requirement already satisfied: llvmlite<0.44,>=0.43.0dev0 in /usr/local/lib/python3.10/dist-packages (from numba<1,>=0.56.0->ydata-profiling->pandas-profiling) (0.43.0)\n",
            "Requirement already satisfied: pytz>=2020.1 in /usr/local/lib/python3.10/dist-packages (from pandas!=1.4.0,<3,>1.1->ydata-profiling->pandas-profiling) (2024.2)\n",
            "Requirement already satisfied: tzdata>=2022.1 in /usr/local/lib/python3.10/dist-packages (from pandas!=1.4.0,<3,>1.1->ydata-profiling->pandas-profiling) (2024.1)\n",
            "Requirement already satisfied: joblib>=0.14.1 in /usr/local/lib/python3.10/dist-packages (from phik<0.13,>=0.11.1->ydata-profiling->pandas-profiling) (1.4.2)\n",
            "Requirement already satisfied: annotated-types>=0.6.0 in /usr/local/lib/python3.10/dist-packages (from pydantic>=2->ydata-profiling->pandas-profiling) (0.7.0)\n",
            "Requirement already satisfied: pydantic-core==2.23.3 in /usr/local/lib/python3.10/dist-packages (from pydantic>=2->ydata-profiling->pandas-profiling) (2.23.3)\n",
            "Requirement already satisfied: typing-extensions>=4.6.1 in /usr/local/lib/python3.10/dist-packages (from pydantic>=2->ydata-profiling->pandas-profiling) (4.12.2)\n",
            "Requirement already satisfied: charset-normalizer<4,>=2 in /usr/local/lib/python3.10/dist-packages (from requests<3,>=2.24.0->ydata-profiling->pandas-profiling) (3.3.2)\n",
            "Requirement already satisfied: idna<4,>=2.5 in /usr/local/lib/python3.10/dist-packages (from requests<3,>=2.24.0->ydata-profiling->pandas-profiling) (3.8)\n",
            "Requirement already satisfied: urllib3<3,>=1.21.1 in /usr/local/lib/python3.10/dist-packages (from requests<3,>=2.24.0->ydata-profiling->pandas-profiling) (2.0.7)\n",
            "Requirement already satisfied: certifi>=2017.4.17 in /usr/local/lib/python3.10/dist-packages (from requests<3,>=2.24.0->ydata-profiling->pandas-profiling) (2024.8.30)\n",
            "Requirement already satisfied: patsy>=0.5.6 in /usr/local/lib/python3.10/dist-packages (from statsmodels<1,>=0.13.2->ydata-profiling->pandas-profiling) (0.5.6)\n",
            "Requirement already satisfied: attrs>=19.3.0 in /usr/local/lib/python3.10/dist-packages (from visions<0.7.7,>=0.7.5->visions[type_image_path]<0.7.7,>=0.7.5->ydata-profiling->pandas-profiling) (24.2.0)\n",
            "Requirement already satisfied: networkx>=2.4 in /usr/local/lib/python3.10/dist-packages (from visions<0.7.7,>=0.7.5->visions[type_image_path]<0.7.7,>=0.7.5->ydata-profiling->pandas-profiling) (3.3)\n",
            "Requirement already satisfied: six in /usr/local/lib/python3.10/dist-packages (from patsy>=0.5.6->statsmodels<1,>=0.13.2->ydata-profiling->pandas-profiling) (1.16.0)\n",
            "Downloading pandas_profiling-3.6.6-py2.py3-none-any.whl (324 kB)\n",
            "\u001b[2K   \u001b[90m━━━━━━━━━━━━━━━━━━━━━━━━━━━━━━━━━━━━━━━━\u001b[0m \u001b[32m324.4/324.4 kB\u001b[0m \u001b[31m2.6 MB/s\u001b[0m eta \u001b[36m0:00:00\u001b[0m\n",
            "\u001b[?25hDownloading ydata_profiling-4.10.0-py2.py3-none-any.whl (356 kB)\n",
            "\u001b[2K   \u001b[90m━━━━━━━━━━━━━━━━━━━━━━━━━━━━━━━━━━━━━━━━\u001b[0m \u001b[32m356.2/356.2 kB\u001b[0m \u001b[31m13.4 MB/s\u001b[0m eta \u001b[36m0:00:00\u001b[0m\n",
            "\u001b[?25hDownloading ImageHash-4.3.1-py2.py3-none-any.whl (296 kB)\n",
            "\u001b[2K   \u001b[90m━━━━━━━━━━━━━━━━━━━━━━━━━━━━━━━━━━━━━━━━\u001b[0m \u001b[32m296.5/296.5 kB\u001b[0m \u001b[31m18.9 MB/s\u001b[0m eta \u001b[36m0:00:00\u001b[0m\n",
            "\u001b[?25hDownloading dacite-1.8.1-py3-none-any.whl (14 kB)\n",
            "Downloading multimethod-1.12-py3-none-any.whl (10 kB)\n",
            "Downloading phik-0.12.4-cp310-cp310-manylinux_2_17_x86_64.manylinux2014_x86_64.whl (686 kB)\n",
            "\u001b[2K   \u001b[90m━━━━━━━━━━━━━━━━━━━━━━━━━━━━━━━━━━━━━━━━\u001b[0m \u001b[32m686.1/686.1 kB\u001b[0m \u001b[31m23.7 MB/s\u001b[0m eta \u001b[36m0:00:00\u001b[0m\n",
            "\u001b[?25hDownloading visions-0.7.6-py3-none-any.whl (104 kB)\n",
            "\u001b[?25l   \u001b[90m━━━━━━━━━━━━━━━━━━━━━━━━━━━━━━━━━━━━━━━━\u001b[0m \u001b[32m0.0/104.8 kB\u001b[0m \u001b[31m?\u001b[0m eta \u001b[36m-:--:--\u001b[0m\n",
            "\u001b[?25h\u001b[31mERROR: Operation cancelled by user\u001b[0m\u001b[31m\n",
            "\u001b[0m"
          ]
        }
      ]
    },
    {
      "cell_type": "code",
      "source": [
        "import pandas as pd\n",
        "df = pd.read_csv(\"/content/HR_comma_sep.csv\")\n",
        "df.head(5)\n",
        "print(tabulate(df.head(5), headers='keys', tablefmt='grid', showindex=True))"
      ],
      "metadata": {
        "colab": {
          "base_uri": "https://localhost:8080/"
        },
        "id": "y0y3maNjP_24",
        "outputId": "62324b65-4740-46d4-a376-0033c6c4ff0d"
      },
      "execution_count": 5,
      "outputs": [
        {
          "output_type": "stream",
          "name": "stdout",
          "text": [
            "+----+----------------------+-------------------+------------------+------------------------+----------------------+-----------------+--------+-------------------------+---------+----------+\n",
            "|    |   satisfaction_level |   last_evaluation |   number_project |   average_montly_hours |   time_spend_company |   Work_accident |   left |   promotion_last_5years | sales   | salary   |\n",
            "+====+======================+===================+==================+========================+======================+=================+========+=========================+=========+==========+\n",
            "|  0 |                 0.38 |              0.53 |                2 |                    157 |                    3 |               0 |      1 |                       0 | sales   | low      |\n",
            "+----+----------------------+-------------------+------------------+------------------------+----------------------+-----------------+--------+-------------------------+---------+----------+\n",
            "|  1 |                 0.8  |              0.86 |                5 |                    262 |                    6 |               0 |      1 |                       0 | sales   | medium   |\n",
            "+----+----------------------+-------------------+------------------+------------------------+----------------------+-----------------+--------+-------------------------+---------+----------+\n",
            "|  2 |                 0.11 |              0.88 |                7 |                    272 |                    4 |               0 |      1 |                       0 | sales   | medium   |\n",
            "+----+----------------------+-------------------+------------------+------------------------+----------------------+-----------------+--------+-------------------------+---------+----------+\n",
            "|  3 |                 0.72 |              0.87 |                5 |                    223 |                    5 |               0 |      1 |                       0 | sales   | low      |\n",
            "+----+----------------------+-------------------+------------------+------------------------+----------------------+-----------------+--------+-------------------------+---------+----------+\n",
            "|  4 |                 0.37 |              0.52 |                2 |                    159 |                    3 |               0 |      1 |                       0 | sales   | low      |\n",
            "+----+----------------------+-------------------+------------------+------------------------+----------------------+-----------------+--------+-------------------------+---------+----------+\n"
          ]
        }
      ]
    },
    {
      "cell_type": "markdown",
      "source": [
        "***Department in this document means the column \"sales\".***     \n",
        "1. How many employees in each of the department (use column \"sales\")"
      ],
      "metadata": {
        "id": "95q96bflR18z"
      }
    },
    {
      "cell_type": "code",
      "source": [
        "dept_employee_count = df.groupby('sales').size().reset_index(name='num_employees')\n",
        "dept_employee_count.insert(0, 'Dept_id', range(1, 1 + len(dept_employee_count)))\n",
        "print(\"Department-wise Employee Counts\")\n",
        "print(tabulate(dept_employee_count, headers='keys', tablefmt='grid', showindex=False))"
      ],
      "metadata": {
        "colab": {
          "base_uri": "https://localhost:8080/"
        },
        "id": "cANC7t6WRuwU",
        "outputId": "df31c77f-86c6-4cf7-84aa-107404fd6599"
      },
      "execution_count": null,
      "outputs": [
        {
          "output_type": "stream",
          "name": "stdout",
          "text": [
            "Department-wise Employee Counts\n",
            "+-----------+-------------+-----------------+\n",
            "|   Dept_id | sales       |   num_employees |\n",
            "+===========+=============+=================+\n",
            "|         1 | IT          |            1227 |\n",
            "+-----------+-------------+-----------------+\n",
            "|         2 | RandD       |             787 |\n",
            "+-----------+-------------+-----------------+\n",
            "|         3 | accounting  |             767 |\n",
            "+-----------+-------------+-----------------+\n",
            "|         4 | hr          |             739 |\n",
            "+-----------+-------------+-----------------+\n",
            "|         5 | management  |             630 |\n",
            "+-----------+-------------+-----------------+\n",
            "|         6 | marketing   |             858 |\n",
            "+-----------+-------------+-----------------+\n",
            "|         7 | product_mng |             902 |\n",
            "+-----------+-------------+-----------------+\n",
            "|         8 | sales       |            4140 |\n",
            "+-----------+-------------+-----------------+\n",
            "|         9 | support     |            2229 |\n",
            "+-----------+-------------+-----------------+\n",
            "|        10 | technical   |            2720 |\n",
            "+-----------+-------------+-----------------+\n"
          ]
        }
      ]
    },
    {
      "cell_type": "markdown",
      "source": [
        "2. Among employees who left, get the department wise (use column \"sales\"), number of employees and rank them."
      ],
      "metadata": {
        "id": "pfC49V0IT2Z9"
      }
    },
    {
      "cell_type": "code",
      "source": [
        "left_employees_department = df[df['left'] == 1].groupby('sales').size().reset_index(name='num_employees')\n",
        "left_employees_department['rank'] = left_employees_department['num_employees'].rank(ascending=False)\n",
        "left_employees_department.insert(0, 'Dept_id', range(1, len(left_employees_department) + 1))\n",
        "print(\"\\nDepartment-wise Employee Counts of employees who left and their rank\")\n",
        "print(tabulate(left_employees_department, headers='keys', tablefmt='plain', showindex=False))"
      ],
      "metadata": {
        "colab": {
          "base_uri": "https://localhost:8080/"
        },
        "id": "6kKbgwO1T2x2",
        "outputId": "ee3ae6b9-82dc-4aac-8e16-943e3eec777c"
      },
      "execution_count": null,
      "outputs": [
        {
          "output_type": "stream",
          "name": "stdout",
          "text": [
            "\n",
            "Department-wise Employee Counts of employees who left and their rank\n",
            "  Dept_id  sales          num_employees    rank\n",
            "        1  IT                       273       4\n",
            "        2  RandD                    121       9\n",
            "        3  accounting               204       6\n",
            "        4  hr                       215       5\n",
            "        5  management                91      10\n",
            "        6  marketing                203       7\n",
            "        7  product_mng              198       8\n",
            "        8  sales                   1014       1\n",
            "        9  support                  555       3\n",
            "       10  technical                697       2\n"
          ]
        }
      ]
    },
    {
      "cell_type": "markdown",
      "source": [
        "3. Average number of years (time_spend_company) and average number of monthly hours (average_monthly_hours) for the employees left and not left under each department. Sort the value by sales."
      ],
      "metadata": {
        "id": "KNPIszZLhdyU"
      }
    },
    {
      "cell_type": "code",
      "source": [
        "avg_time_hours = df.groupby(['sales', 'left']).agg(\n",
        "    avg_time_spend_company=('time_spend_company', 'mean'),\n",
        "    avg_average_monthly_hours=('average_montly_hours', 'mean')\n",
        ").reset_index()\n",
        "heatmap_data = avg_time_hours.pivot(index='sales', columns='left', values=['avg_time_spend_company', 'avg_average_monthly_hours'])\n",
        "heatmap_data_reset = heatmap_data.reset_index()\n",
        "heatmap_data_reset.insert(0, 'Dept_id', range(1, len(heatmap_data_reset) + 1))\n",
        "print(\"\\nHeatmap Data for Average Time Spent and Monthly Hours by Department and Left Status\")\n",
        "print(tabulate(heatmap_data_reset, headers='keys', tablefmt='pipe', showindex=False))"
      ],
      "metadata": {
        "colab": {
          "base_uri": "https://localhost:8080/"
        },
        "id": "C2KoWFPfhdI7",
        "outputId": "359fd96e-99ea-4bb3-b9bd-2c1cd8f68b3c"
      },
      "execution_count": null,
      "outputs": [
        {
          "output_type": "stream",
          "name": "stdout",
          "text": [
            "\n",
            "Heatmap Data for Average Time Spent and Monthly Hours by Department and Left Status\n",
            "|   ('Dept_id', '') | ('sales', '')   |   ('avg_time_spend_company', 0) |   ('avg_time_spend_company', 1) |   ('avg_average_monthly_hours', 0) |   ('avg_average_monthly_hours', 1) |\n",
            "|------------------:|:----------------|--------------------------------:|--------------------------------:|-----------------------------------:|-----------------------------------:|\n",
            "|                 1 | IT              |                         3.35639 |                         3.86081 |                            198.887 |                            213.85  |\n",
            "|                 2 | RandD           |                         3.25225 |                         4       |                            198.952 |                            210.975 |\n",
            "|                 3 | accounting      |                         3.42451 |                         3.79412 |                            199.037 |                            207.029 |\n",
            "|                 4 | hr              |                         3.19275 |                         3.75349 |                            199.25  |                            197.307 |\n",
            "|                 5 | management      |                         4.39518 |                         3.75824 |                            200.234 |                            207.264 |\n",
            "|                 6 | marketing       |                         3.48092 |                         3.85714 |                            198.889 |                            200.99  |\n",
            "|                 7 | product_mng     |                         3.33097 |                         3.9899  |                            197.766 |                            207.788 |\n",
            "|                 8 | sales           |                         3.4437  |                         3.81262 |                            199.572 |                            205.041 |\n",
            "|                 9 | support         |                         3.21386 |                         3.93333 |                            199.141 |                            205.636 |\n",
            "|                10 | technical       |                         3.22244 |                         3.95983 |                            198.471 |                            214.184 |\n"
          ]
        }
      ]
    },
    {
      "cell_type": "markdown",
      "source": [
        "4. Under each department, what is the minimum and maximum for both left and not left employees related to time_spend_company and average_monthly_hours. Sort the value by sales."
      ],
      "metadata": {
        "id": "416a09ABiwjr"
      }
    },
    {
      "cell_type": "code",
      "source": [
        "min_max_time_hours = df.groupby([\"left\", \"sales\"]).agg(\n",
        "    min_time_spend_company=(\"time_spend_company\", \"min\"),\n",
        "    max_time_spend_company=(\"time_spend_company\", \"max\"),\n",
        "    min_average_montly_hours=(\"average_montly_hours\", \"min\"),\n",
        "    max_average_montly_hours=(\"average_montly_hours\", \"max\")\n",
        ").reset_index()\n",
        "min_max_time_hours_sorted = min_max_time_hours.sort_values(by=\"sales\")\n",
        "min_max_time_hours_sorted.insert(0, 'Dept_id', range(1, len(min_max_time_hours_sorted) + 1))\n",
        "print(\"\\nMinimum and Maximum Time Spent and Monthly Hours by Department and Left Status\")\n",
        "print(tabulate(min_max_time_hours_sorted, headers='keys', tablefmt='fancy_grid', showindex=False))\n"
      ],
      "metadata": {
        "colab": {
          "base_uri": "https://localhost:8080/"
        },
        "id": "0B83m00gjiFt",
        "outputId": "1d749fd2-5a87-4b08-a3b8-b7f4ff2e2f1a"
      },
      "execution_count": null,
      "outputs": [
        {
          "output_type": "stream",
          "name": "stdout",
          "text": [
            "\n",
            "Minimum and Maximum Time Spent and Monthly Hours by Department and Left Status\n",
            "╒═══════════╤════════╤═════════════╤══════════════════════════╤══════════════════════════╤════════════════════════════╤════════════════════════════╕\n",
            "│   Dept_id │   left │ sales       │   min_time_spend_company │   max_time_spend_company │   min_average_montly_hours │   max_average_montly_hours │\n",
            "╞═══════════╪════════╪═════════════╪══════════════════════════╪══════════════════════════╪════════════════════════════╪════════════════════════════╡\n",
            "│         1 │      0 │ IT          │                        2 │                       10 │                         96 │                        287 │\n",
            "├───────────┼────────┼─────────────┼──────────────────────────┼──────────────────────────┼────────────────────────────┼────────────────────────────┤\n",
            "│         2 │      1 │ IT          │                        2 │                        6 │                        127 │                        308 │\n",
            "├───────────┼────────┼─────────────┼──────────────────────────┼──────────────────────────┼────────────────────────────┼────────────────────────────┤\n",
            "│         3 │      0 │ RandD       │                        2 │                        8 │                         98 │                        287 │\n",
            "├───────────┼────────┼─────────────┼──────────────────────────┼──────────────────────────┼────────────────────────────┼────────────────────────────┤\n",
            "│         4 │      1 │ RandD       │                        2 │                        6 │                        127 │                        308 │\n",
            "├───────────┼────────┼─────────────┼──────────────────────────┼──────────────────────────┼────────────────────────────┼────────────────────────────┤\n",
            "│         5 │      0 │ accounting  │                        2 │                       10 │                         97 │                        285 │\n",
            "├───────────┼────────┼─────────────┼──────────────────────────┼──────────────────────────┼────────────────────────────┼────────────────────────────┤\n",
            "│         6 │      1 │ accounting  │                        2 │                        6 │                        127 │                        310 │\n",
            "├───────────┼────────┼─────────────┼──────────────────────────┼──────────────────────────┼────────────────────────────┼────────────────────────────┤\n",
            "│         7 │      0 │ hr          │                        2 │                        8 │                         98 │                        285 │\n",
            "├───────────┼────────┼─────────────┼──────────────────────────┼──────────────────────────┼────────────────────────────┼────────────────────────────┤\n",
            "│         8 │      1 │ hr          │                        3 │                        6 │                        126 │                        310 │\n",
            "├───────────┼────────┼─────────────┼──────────────────────────┼──────────────────────────┼────────────────────────────┼────────────────────────────┤\n",
            "│         9 │      0 │ management  │                        2 │                       10 │                         97 │                        286 │\n",
            "├───────────┼────────┼─────────────┼──────────────────────────┼──────────────────────────┼────────────────────────────┼────────────────────────────┤\n",
            "│        10 │      1 │ management  │                        2 │                        6 │                        127 │                        307 │\n",
            "├───────────┼────────┼─────────────┼──────────────────────────┼──────────────────────────┼────────────────────────────┼────────────────────────────┤\n",
            "│        11 │      0 │ marketing   │                        2 │                       10 │                         96 │                        286 │\n",
            "├───────────┼────────┼─────────────┼──────────────────────────┼──────────────────────────┼────────────────────────────┼────────────────────────────┤\n",
            "│        12 │      1 │ marketing   │                        3 │                        6 │                        127 │                        310 │\n",
            "├───────────┼────────┼─────────────┼──────────────────────────┼──────────────────────────┼────────────────────────────┼────────────────────────────┤\n",
            "│        13 │      0 │ product_mng │                        2 │                       10 │                         98 │                        286 │\n",
            "├───────────┼────────┼─────────────┼──────────────────────────┼──────────────────────────┼────────────────────────────┼────────────────────────────┤\n",
            "│        14 │      1 │ product_mng │                        3 │                        6 │                        129 │                        310 │\n",
            "├───────────┼────────┼─────────────┼──────────────────────────┼──────────────────────────┼────────────────────────────┼────────────────────────────┤\n",
            "│        15 │      1 │ sales       │                        2 │                        6 │                        126 │                        310 │\n",
            "├───────────┼────────┼─────────────┼──────────────────────────┼──────────────────────────┼────────────────────────────┼────────────────────────────┤\n",
            "│        16 │      0 │ sales       │                        2 │                       10 │                         96 │                        287 │\n",
            "├───────────┼────────┼─────────────┼──────────────────────────┼──────────────────────────┼────────────────────────────┼────────────────────────────┤\n",
            "│        17 │      1 │ support     │                        2 │                        6 │                        126 │                        310 │\n",
            "├───────────┼────────┼─────────────┼──────────────────────────┼──────────────────────────┼────────────────────────────┼────────────────────────────┤\n",
            "│        18 │      0 │ support     │                        2 │                       10 │                         96 │                        287 │\n",
            "├───────────┼────────┼─────────────┼──────────────────────────┼──────────────────────────┼────────────────────────────┼────────────────────────────┤\n",
            "│        19 │      0 │ technical   │                        2 │                       10 │                         97 │                        287 │\n",
            "├───────────┼────────┼─────────────┼──────────────────────────┼──────────────────────────┼────────────────────────────┼────────────────────────────┤\n",
            "│        20 │      1 │ technical   │                        2 │                        6 │                        126 │                        310 │\n",
            "╘═══════════╧════════╧═════════════╧══════════════════════════╧══════════════════════════╧════════════════════════════╧════════════════════════════╛\n"
          ]
        }
      ]
    },
    {
      "cell_type": "markdown",
      "source": [
        "5. Under each department, what is the minimum, maximum, average on last evaluation (last_evaluation) and satisfaction level (satisfaction_level) for both left and not left. Sort the value by sales.\n"
      ],
      "metadata": {
        "id": "0xWN7k1pjMS4"
      }
    },
    {
      "cell_type": "code",
      "source": [
        "eval_satisfaction_stats = df.groupby([\"sales\", \"left\"]).agg(\n",
        "    min_last_evaluation=(\"last_evaluation\", \"min\"),\n",
        "    max_last_evaluation=(\"last_evaluation\", \"max\"),\n",
        "    avg_last_evaluation=(\"last_evaluation\", \"mean\"),\n",
        "    min_satisfaction_level=(\"satisfaction_level\", \"min\"),\n",
        "    max_satisfaction_level=(\"satisfaction_level\", \"max\"),\n",
        "    avg_satisfaction_level=(\"satisfaction_level\", \"mean\")\n",
        ").reset_index()\n",
        "eval_satisfaction_stats_sorted = eval_satisfaction_stats.sort_values(by=\"sales\")\n",
        "eval_satisfaction_stats_sorted.insert(0, 'Dept_id', range(1, len(eval_satisfaction_stats_sorted) + 1))\n",
        "print(\"\\nEvaluation and Satisfaction Statistics by Department and Left Status\")\n",
        "print(tabulate(eval_satisfaction_stats_sorted, headers='keys', tablefmt='fancy_grid', showindex=False))"
      ],
      "metadata": {
        "colab": {
          "base_uri": "https://localhost:8080/"
        },
        "id": "sqaM4Iv8j-mc",
        "outputId": "700c2baf-51fe-40a2-e556-4fe5394b89d2"
      },
      "execution_count": null,
      "outputs": [
        {
          "output_type": "stream",
          "name": "stdout",
          "text": [
            "\n",
            "Evaluation and Satisfaction Statistics by Department and Left Status\n",
            "╒═══════════╤═════════════╤════════╤═══════════════════════╤═══════════════════════╤═══════════════════════╤══════════════════════════╤══════════════════════════╤══════════════════════════╕\n",
            "│   Dept_id │ sales       │   left │   min_last_evaluation │   max_last_evaluation │   avg_last_evaluation │   min_satisfaction_level │   max_satisfaction_level │   avg_satisfaction_level │\n",
            "╞═══════════╪═════════════╪════════╪═══════════════════════╪═══════════════════════╪═══════════════════════╪══════════════════════════╪══════════════════════════╪══════════════════════════╡\n",
            "│         1 │ IT          │      0 │                  0.37 │                     1 │              0.71305  │                     0.12 │                     1    │                 0.67717  │\n",
            "├───────────┼─────────────┼────────┼───────────────────────┼───────────────────────┼───────────────────────┼──────────────────────────┼──────────────────────────┼──────────────────────────┤\n",
            "│         2 │ IT          │      1 │                  0.45 │                     1 │              0.730037 │                     0.09 │                     0.92 │                 0.411868 │\n",
            "├───────────┼─────────────┼────────┼───────────────────────┼───────────────────────┼───────────────────────┼──────────────────────────┼──────────────────────────┼──────────────────────────┤\n",
            "│         3 │ RandD       │      0 │                  0.36 │                     1 │              0.706081 │                     0.12 │                     1    │                 0.653799 │\n",
            "├───────────┼─────────────┼────────┼───────────────────────┼───────────────────────┼───────────────────────┼──────────────────────────┼──────────────────────────┼──────────────────────────┤\n",
            "│         4 │ RandD       │      1 │                  0.46 │                     1 │              0.745372 │                     0.09 │                     0.92 │                 0.43281  │\n",
            "├───────────┼─────────────┼────────┼───────────────────────┼───────────────────────┼───────────────────────┼──────────────────────────┼──────────────────────────┼──────────────────────────┤\n",
            "│         5 │ accounting  │      0 │                  0.36 │                     1 │              0.726128 │                     0.12 │                     1    │                 0.647211 │\n",
            "├───────────┼─────────────┼────────┼───────────────────────┼───────────────────────┼───────────────────────┼──────────────────────────┼──────────────────────────┼──────────────────────────┤\n",
            "│         6 │ accounting  │      1 │                  0.45 │                     1 │              0.69451  │                     0.09 │                     0.91 │                 0.402598 │\n",
            "├───────────┼─────────────┼────────┼───────────────────────┼───────────────────────┼───────────────────────┼──────────────────────────┼──────────────────────────┼──────────────────────────┤\n",
            "│         7 │ hr          │      0 │                  0.37 │                     1 │              0.720802 │                     0.13 │                     1    │                 0.666679 │\n",
            "├───────────┼─────────────┼────────┼───────────────────────┼───────────────────────┼───────────────────────┼──────────────────────────┼──────────────────────────┼──────────────────────────┤\n",
            "│         8 │ hr          │      1 │                  0.45 │                     1 │              0.679721 │                     0.09 │                     0.91 │                 0.433395 │\n",
            "├───────────┼─────────────┼────────┼───────────────────────┼───────────────────────┼───────────────────────┼──────────────────────────┼──────────────────────────┼──────────────────────────┤\n",
            "│         9 │ management  │      1 │                  0.46 │                     1 │              0.727253 │                     0.09 │                     0.9  │                 0.422857 │\n",
            "├───────────┼─────────────┼────────┼───────────────────────┼───────────────────────┼───────────────────────┼──────────────────────────┼──────────────────────────┼──────────────────────────┤\n",
            "│        10 │ management  │      0 │                  0.37 │                     1 │              0.723451 │                     0.12 │                     1    │                 0.654861 │\n",
            "├───────────┼─────────────┼────────┼───────────────────────┼───────────────────────┼───────────────────────┼──────────────────────────┼──────────────────────────┼──────────────────────────┤\n",
            "│        11 │ marketing   │      0 │                  0.36 │                     1 │              0.723282 │                     0.12 │                     1    │                 0.669878 │\n",
            "├───────────┼─────────────┼────────┼───────────────────────┼───────────────────────┼───────────────────────┼──────────────────────────┼──────────────────────────┼──────────────────────────┤\n",
            "│        12 │ marketing   │      1 │                  0.45 │                     1 │              0.69202  │                     0.09 │                     0.9  │                 0.453153 │\n",
            "├───────────┼─────────────┼────────┼───────────────────────┼───────────────────────┼───────────────────────┼──────────────────────────┼──────────────────────────┼──────────────────────────┤\n",
            "│        13 │ product_mng │      0 │                  0.36 │                     1 │              0.711435 │                     0.13 │                     1    │                 0.658466 │\n",
            "├───────────┼─────────────┼────────┼───────────────────────┼───────────────────────┼───────────────────────┼──────────────────────────┼──────────────────────────┼──────────────────────────┤\n",
            "│        14 │ product_mng │      1 │                  0.45 │                     1 │              0.726566 │                     0.09 │                     0.91 │                 0.481566 │\n",
            "├───────────┼─────────────┼────────┼───────────────────────┼───────────────────────┼───────────────────────┼──────────────────────────┼──────────────────────────┼──────────────────────────┤\n",
            "│        15 │ sales       │      0 │                  0.36 │                     1 │              0.709223 │                     0.12 │                     1    │                 0.668548 │\n",
            "├───────────┼─────────────┼────────┼───────────────────────┼───────────────────────┼───────────────────────┼──────────────────────────┼──────────────────────────┼──────────────────────────┤\n",
            "│        16 │ sales       │      1 │                  0.45 │                     1 │              0.711243 │                     0.09 │                     0.92 │                 0.447663 │\n",
            "├───────────┼─────────────┼────────┼───────────────────────┼───────────────────────┼───────────────────────┼──────────────────────────┼──────────────────────────┼──────────────────────────┤\n",
            "│        17 │ support     │      0 │                  0.36 │                     1 │              0.721714 │                     0.12 │                     1    │                 0.673799 │\n",
            "├───────────┼─────────────┼────────┼───────────────────────┼───────────────────────┼───────────────────────┼──────────────────────────┼──────────────────────────┼──────────────────────────┤\n",
            "│        18 │ support     │      1 │                  0.45 │                     1 │              0.727315 │                     0.09 │                     0.91 │                 0.450901 │\n",
            "├───────────┼─────────────┼────────┼───────────────────────┼───────────────────────┼───────────────────────┼──────────────────────────┼──────────────────────────┼──────────────────────────┤\n",
            "│        19 │ technical   │      0 │                  0.36 │                     1 │              0.716609 │                     0.12 │                     1    │                 0.668319 │\n",
            "├───────────┼─────────────┼────────┼───────────────────────┼───────────────────────┼───────────────────────┼──────────────────────────┼──────────────────────────┼──────────────────────────┤\n",
            "│        20 │ technical   │      1 │                  0.45 │                     1 │              0.734132 │                     0.09 │                     0.92 │                 0.432525 │\n",
            "╘═══════════╧═════════════╧════════╧═══════════════════════╧═══════════════════════╧═══════════════════════╧══════════════════════════╧══════════════════════════╧══════════════════════════╛\n"
          ]
        }
      ]
    },
    {
      "cell_type": "markdown",
      "source": [
        "6. Under each department, what is the total count (sum) on work accidents (work_accident) and promotion for the last 5 years (promotion_last_5years) for both left and not left. Sort the value by sales."
      ],
      "metadata": {
        "id": "05k9dwSbjpPf"
      }
    },
    {
      "cell_type": "code",
      "source": [
        "accident_promotion_stats = df.groupby([\"left\", \"sales\"]).agg(\n",
        "    count_work_accident=(\"Work_accident\", \"sum\"),\n",
        "    count_promotion_last_5years=(\"promotion_last_5years\", \"sum\")\n",
        ").reset_index()\n",
        "accident_promotion_stats_sorted = accident_promotion_stats.sort_values(by=\"sales\")\n",
        "accident_promotion_stats_sorted.insert(0, 'Dept_id', range(1, len(accident_promotion_stats_sorted) + 1))\n",
        "print(\"\\nCount of Work Accidents and Promotions by Department and Left Status\")\n",
        "print(tabulate(accident_promotion_stats_sorted, headers='keys', tablefmt='fancy_grid', showindex=False))"
      ],
      "metadata": {
        "colab": {
          "base_uri": "https://localhost:8080/"
        },
        "id": "8q8kJyOhixX9",
        "outputId": "aa1c8ef8-e044-481e-d06e-6229df4158be"
      },
      "execution_count": null,
      "outputs": [
        {
          "output_type": "stream",
          "name": "stdout",
          "text": [
            "\n",
            "Count of Work Accidents and Promotions by Department and Left Status\n",
            "╒═══════════╤════════╤═════════════╤═══════════════════════╤═══════════════════════════════╕\n",
            "│   Dept_id │   left │ sales       │   count_work_accident │   count_promotion_last_5years │\n",
            "╞═══════════╪════════╪═════════════╪═══════════════════════╪═══════════════════════════════╡\n",
            "│         1 │      0 │ IT          │                   155 │                             0 │\n",
            "├───────────┼────────┼─────────────┼───────────────────────┼───────────────────────────────┤\n",
            "│         2 │      1 │ IT          │                     9 │                             3 │\n",
            "├───────────┼────────┼─────────────┼───────────────────────┼───────────────────────────────┤\n",
            "│         3 │      0 │ RandD       │                   124 │                            27 │\n",
            "├───────────┼────────┼─────────────┼───────────────────────┼───────────────────────────────┤\n",
            "│         4 │      1 │ RandD       │                    10 │                             0 │\n",
            "├───────────┼────────┼─────────────┼───────────────────────┼───────────────────────────────┤\n",
            "│         5 │      0 │ accounting  │                    87 │                            14 │\n",
            "├───────────┼────────┼─────────────┼───────────────────────┼───────────────────────────────┤\n",
            "│         6 │      1 │ accounting  │                     9 │                             0 │\n",
            "├───────────┼────────┼─────────────┼───────────────────────┼───────────────────────────────┤\n",
            "│         7 │      0 │ hr          │                    82 │                            15 │\n",
            "├───────────┼────────┼─────────────┼───────────────────────┼───────────────────────────────┤\n",
            "│         8 │      1 │ hr          │                     7 │                             0 │\n",
            "├───────────┼────────┼─────────────┼───────────────────────┼───────────────────────────────┤\n",
            "│         9 │      0 │ management  │                    98 │                            66 │\n",
            "├───────────┼────────┼─────────────┼───────────────────────┼───────────────────────────────┤\n",
            "│        10 │      1 │ management  │                     5 │                             3 │\n",
            "├───────────┼────────┼─────────────┼───────────────────────┼───────────────────────────────┤\n",
            "│        11 │      0 │ marketing   │                   128 │                            43 │\n",
            "├───────────┼────────┼─────────────┼───────────────────────┼───────────────────────────────┤\n",
            "│        12 │      1 │ marketing   │                    10 │                             0 │\n",
            "├───────────┼────────┼─────────────┼───────────────────────┼───────────────────────────────┤\n",
            "│        13 │      0 │ product_mng │                   123 │                             0 │\n",
            "├───────────┼────────┼─────────────┼───────────────────────┼───────────────────────────────┤\n",
            "│        14 │      1 │ product_mng │                     9 │                             0 │\n",
            "├───────────┼────────┼─────────────┼───────────────────────┼───────────────────────────────┤\n",
            "│        15 │      1 │ sales       │                    46 │                             7 │\n",
            "├───────────┼────────┼─────────────┼───────────────────────┼───────────────────────────────┤\n",
            "│        16 │      0 │ sales       │                   541 │                            93 │\n",
            "├───────────┼────────┼─────────────┼───────────────────────┼───────────────────────────────┤\n",
            "│        17 │      1 │ support     │                    31 │                             3 │\n",
            "├───────────┼────────┼─────────────┼───────────────────────┼───────────────────────────────┤\n",
            "│        18 │      0 │ support     │                   314 │                            17 │\n",
            "├───────────┼────────┼─────────────┼───────────────────────┼───────────────────────────────┤\n",
            "│        19 │      0 │ technical   │                   348 │                            25 │\n",
            "├───────────┼────────┼─────────────┼───────────────────────┼───────────────────────────────┤\n",
            "│        20 │      1 │ technical   │                    33 │                             3 │\n",
            "╘═══════════╧════════╧═════════════╧═══════════════════════╧═══════════════════════════════╛\n"
          ]
        }
      ]
    },
    {
      "cell_type": "markdown",
      "source": [
        "7. Bring the output from question 3-6 above"
      ],
      "metadata": {
        "id": "rG_B5AMtoMkr"
      }
    },
    {
      "cell_type": "code",
      "source": [
        "a1 = avg_time_hours\n",
        "a2 = min_max_time_hours\n",
        "a3 = eval_satisfaction_stats\n",
        "a4 = accident_promotion_stats\n",
        "merged_df = pd.merge(a1, a2, on=['sales', 'left'])\n",
        "merged_df = pd.merge(merged_df, a3, on=['sales', 'left'])\n",
        "merged_df = pd.merge(merged_df, a4, on=['sales', 'left'])\n",
        "print(\"\\nMerged DataFrame with all statistics\")\n",
        "print(tabulate(merged_df, headers='keys', tablefmt='fancy_grid', showindex=False))"
      ],
      "metadata": {
        "id": "AsDQCAnwjP8x",
        "colab": {
          "base_uri": "https://localhost:8080/"
        },
        "outputId": "c40903f2-c871-4d5b-f8eb-4756f3efcef9"
      },
      "execution_count": null,
      "outputs": [
        {
          "output_type": "stream",
          "name": "stdout",
          "text": [
            "\n",
            "Merged DataFrame with all statistics\n",
            "╒═════════════╤════════╤══════════════════════════╤═════════════════════════════╤══════════════════════════╤══════════════════════════╤════════════════════════════╤════════════════════════════╤═══════════════════════╤═══════════════════════╤═══════════════════════╤══════════════════════════╤══════════════════════════╤══════════════════════════╤═══════════════════════╤═══════════════════════════════╕\n",
            "│ sales       │   left │   avg_time_spend_company │   avg_average_monthly_hours │   min_time_spend_company │   max_time_spend_company │   min_average_montly_hours │   max_average_montly_hours │   min_last_evaluation │   max_last_evaluation │   avg_last_evaluation │   min_satisfaction_level │   max_satisfaction_level │   avg_satisfaction_level │   count_work_accident │   count_promotion_last_5years │\n",
            "╞═════════════╪════════╪══════════════════════════╪═════════════════════════════╪══════════════════════════╪══════════════════════════╪════════════════════════════╪════════════════════════════╪═══════════════════════╪═══════════════════════╪═══════════════════════╪══════════════════════════╪══════════════════════════╪══════════════════════════╪═══════════════════════╪═══════════════════════════════╡\n",
            "│ IT          │      0 │                  3.35639 │                     198.887 │                        2 │                       10 │                         96 │                        287 │                  0.37 │                     1 │              0.71305  │                     0.12 │                     1    │                 0.67717  │                   155 │                             0 │\n",
            "├─────────────┼────────┼──────────────────────────┼─────────────────────────────┼──────────────────────────┼──────────────────────────┼────────────────────────────┼────────────────────────────┼───────────────────────┼───────────────────────┼───────────────────────┼──────────────────────────┼──────────────────────────┼──────────────────────────┼───────────────────────┼───────────────────────────────┤\n",
            "│ IT          │      1 │                  3.86081 │                     213.85  │                        2 │                        6 │                        127 │                        308 │                  0.45 │                     1 │              0.730037 │                     0.09 │                     0.92 │                 0.411868 │                     9 │                             3 │\n",
            "├─────────────┼────────┼──────────────────────────┼─────────────────────────────┼──────────────────────────┼──────────────────────────┼────────────────────────────┼────────────────────────────┼───────────────────────┼───────────────────────┼───────────────────────┼──────────────────────────┼──────────────────────────┼──────────────────────────┼───────────────────────┼───────────────────────────────┤\n",
            "│ RandD       │      0 │                  3.25225 │                     198.952 │                        2 │                        8 │                         98 │                        287 │                  0.36 │                     1 │              0.706081 │                     0.12 │                     1    │                 0.653799 │                   124 │                            27 │\n",
            "├─────────────┼────────┼──────────────────────────┼─────────────────────────────┼──────────────────────────┼──────────────────────────┼────────────────────────────┼────────────────────────────┼───────────────────────┼───────────────────────┼───────────────────────┼──────────────────────────┼──────────────────────────┼──────────────────────────┼───────────────────────┼───────────────────────────────┤\n",
            "│ RandD       │      1 │                  4       │                     210.975 │                        2 │                        6 │                        127 │                        308 │                  0.46 │                     1 │              0.745372 │                     0.09 │                     0.92 │                 0.43281  │                    10 │                             0 │\n",
            "├─────────────┼────────┼──────────────────────────┼─────────────────────────────┼──────────────────────────┼──────────────────────────┼────────────────────────────┼────────────────────────────┼───────────────────────┼───────────────────────┼───────────────────────┼──────────────────────────┼──────────────────────────┼──────────────────────────┼───────────────────────┼───────────────────────────────┤\n",
            "│ accounting  │      0 │                  3.42451 │                     199.037 │                        2 │                       10 │                         97 │                        285 │                  0.36 │                     1 │              0.726128 │                     0.12 │                     1    │                 0.647211 │                    87 │                            14 │\n",
            "├─────────────┼────────┼──────────────────────────┼─────────────────────────────┼──────────────────────────┼──────────────────────────┼────────────────────────────┼────────────────────────────┼───────────────────────┼───────────────────────┼───────────────────────┼──────────────────────────┼──────────────────────────┼──────────────────────────┼───────────────────────┼───────────────────────────────┤\n",
            "│ accounting  │      1 │                  3.79412 │                     207.029 │                        2 │                        6 │                        127 │                        310 │                  0.45 │                     1 │              0.69451  │                     0.09 │                     0.91 │                 0.402598 │                     9 │                             0 │\n",
            "├─────────────┼────────┼──────────────────────────┼─────────────────────────────┼──────────────────────────┼──────────────────────────┼────────────────────────────┼────────────────────────────┼───────────────────────┼───────────────────────┼───────────────────────┼──────────────────────────┼──────────────────────────┼──────────────────────────┼───────────────────────┼───────────────────────────────┤\n",
            "│ hr          │      0 │                  3.19275 │                     199.25  │                        2 │                        8 │                         98 │                        285 │                  0.37 │                     1 │              0.720802 │                     0.13 │                     1    │                 0.666679 │                    82 │                            15 │\n",
            "├─────────────┼────────┼──────────────────────────┼─────────────────────────────┼──────────────────────────┼──────────────────────────┼────────────────────────────┼────────────────────────────┼───────────────────────┼───────────────────────┼───────────────────────┼──────────────────────────┼──────────────────────────┼──────────────────────────┼───────────────────────┼───────────────────────────────┤\n",
            "│ hr          │      1 │                  3.75349 │                     197.307 │                        3 │                        6 │                        126 │                        310 │                  0.45 │                     1 │              0.679721 │                     0.09 │                     0.91 │                 0.433395 │                     7 │                             0 │\n",
            "├─────────────┼────────┼──────────────────────────┼─────────────────────────────┼──────────────────────────┼──────────────────────────┼────────────────────────────┼────────────────────────────┼───────────────────────┼───────────────────────┼───────────────────────┼──────────────────────────┼──────────────────────────┼──────────────────────────┼───────────────────────┼───────────────────────────────┤\n",
            "│ management  │      0 │                  4.39518 │                     200.234 │                        2 │                       10 │                         97 │                        286 │                  0.37 │                     1 │              0.723451 │                     0.12 │                     1    │                 0.654861 │                    98 │                            66 │\n",
            "├─────────────┼────────┼──────────────────────────┼─────────────────────────────┼──────────────────────────┼──────────────────────────┼────────────────────────────┼────────────────────────────┼───────────────────────┼───────────────────────┼───────────────────────┼──────────────────────────┼──────────────────────────┼──────────────────────────┼───────────────────────┼───────────────────────────────┤\n",
            "│ management  │      1 │                  3.75824 │                     207.264 │                        2 │                        6 │                        127 │                        307 │                  0.46 │                     1 │              0.727253 │                     0.09 │                     0.9  │                 0.422857 │                     5 │                             3 │\n",
            "├─────────────┼────────┼──────────────────────────┼─────────────────────────────┼──────────────────────────┼──────────────────────────┼────────────────────────────┼────────────────────────────┼───────────────────────┼───────────────────────┼───────────────────────┼──────────────────────────┼──────────────────────────┼──────────────────────────┼───────────────────────┼───────────────────────────────┤\n",
            "│ marketing   │      0 │                  3.48092 │                     198.889 │                        2 │                       10 │                         96 │                        286 │                  0.36 │                     1 │              0.723282 │                     0.12 │                     1    │                 0.669878 │                   128 │                            43 │\n",
            "├─────────────┼────────┼──────────────────────────┼─────────────────────────────┼──────────────────────────┼──────────────────────────┼────────────────────────────┼────────────────────────────┼───────────────────────┼───────────────────────┼───────────────────────┼──────────────────────────┼──────────────────────────┼──────────────────────────┼───────────────────────┼───────────────────────────────┤\n",
            "│ marketing   │      1 │                  3.85714 │                     200.99  │                        3 │                        6 │                        127 │                        310 │                  0.45 │                     1 │              0.69202  │                     0.09 │                     0.9  │                 0.453153 │                    10 │                             0 │\n",
            "├─────────────┼────────┼──────────────────────────┼─────────────────────────────┼──────────────────────────┼──────────────────────────┼────────────────────────────┼────────────────────────────┼───────────────────────┼───────────────────────┼───────────────────────┼──────────────────────────┼──────────────────────────┼──────────────────────────┼───────────────────────┼───────────────────────────────┤\n",
            "│ product_mng │      0 │                  3.33097 │                     197.766 │                        2 │                       10 │                         98 │                        286 │                  0.36 │                     1 │              0.711435 │                     0.13 │                     1    │                 0.658466 │                   123 │                             0 │\n",
            "├─────────────┼────────┼──────────────────────────┼─────────────────────────────┼──────────────────────────┼──────────────────────────┼────────────────────────────┼────────────────────────────┼───────────────────────┼───────────────────────┼───────────────────────┼──────────────────────────┼──────────────────────────┼──────────────────────────┼───────────────────────┼───────────────────────────────┤\n",
            "│ product_mng │      1 │                  3.9899  │                     207.788 │                        3 │                        6 │                        129 │                        310 │                  0.45 │                     1 │              0.726566 │                     0.09 │                     0.91 │                 0.481566 │                     9 │                             0 │\n",
            "├─────────────┼────────┼──────────────────────────┼─────────────────────────────┼──────────────────────────┼──────────────────────────┼────────────────────────────┼────────────────────────────┼───────────────────────┼───────────────────────┼───────────────────────┼──────────────────────────┼──────────────────────────┼──────────────────────────┼───────────────────────┼───────────────────────────────┤\n",
            "│ sales       │      0 │                  3.4437  │                     199.572 │                        2 │                       10 │                         96 │                        287 │                  0.36 │                     1 │              0.709223 │                     0.12 │                     1    │                 0.668548 │                   541 │                            93 │\n",
            "├─────────────┼────────┼──────────────────────────┼─────────────────────────────┼──────────────────────────┼──────────────────────────┼────────────────────────────┼────────────────────────────┼───────────────────────┼───────────────────────┼───────────────────────┼──────────────────────────┼──────────────────────────┼──────────────────────────┼───────────────────────┼───────────────────────────────┤\n",
            "│ sales       │      1 │                  3.81262 │                     205.041 │                        2 │                        6 │                        126 │                        310 │                  0.45 │                     1 │              0.711243 │                     0.09 │                     0.92 │                 0.447663 │                    46 │                             7 │\n",
            "├─────────────┼────────┼──────────────────────────┼─────────────────────────────┼──────────────────────────┼──────────────────────────┼────────────────────────────┼────────────────────────────┼───────────────────────┼───────────────────────┼───────────────────────┼──────────────────────────┼──────────────────────────┼──────────────────────────┼───────────────────────┼───────────────────────────────┤\n",
            "│ support     │      0 │                  3.21386 │                     199.141 │                        2 │                       10 │                         96 │                        287 │                  0.36 │                     1 │              0.721714 │                     0.12 │                     1    │                 0.673799 │                   314 │                            17 │\n",
            "├─────────────┼────────┼──────────────────────────┼─────────────────────────────┼──────────────────────────┼──────────────────────────┼────────────────────────────┼────────────────────────────┼───────────────────────┼───────────────────────┼───────────────────────┼──────────────────────────┼──────────────────────────┼──────────────────────────┼───────────────────────┼───────────────────────────────┤\n",
            "│ support     │      1 │                  3.93333 │                     205.636 │                        2 │                        6 │                        126 │                        310 │                  0.45 │                     1 │              0.727315 │                     0.09 │                     0.91 │                 0.450901 │                    31 │                             3 │\n",
            "├─────────────┼────────┼──────────────────────────┼─────────────────────────────┼──────────────────────────┼──────────────────────────┼────────────────────────────┼────────────────────────────┼───────────────────────┼───────────────────────┼───────────────────────┼──────────────────────────┼──────────────────────────┼──────────────────────────┼───────────────────────┼───────────────────────────────┤\n",
            "│ technical   │      0 │                  3.22244 │                     198.471 │                        2 │                       10 │                         97 │                        287 │                  0.36 │                     1 │              0.716609 │                     0.12 │                     1    │                 0.668319 │                   348 │                            25 │\n",
            "├─────────────┼────────┼──────────────────────────┼─────────────────────────────┼──────────────────────────┼──────────────────────────┼────────────────────────────┼────────────────────────────┼───────────────────────┼───────────────────────┼───────────────────────┼──────────────────────────┼──────────────────────────┼──────────────────────────┼───────────────────────┼───────────────────────────────┤\n",
            "│ technical   │      1 │                  3.95983 │                     214.184 │                        2 │                        6 │                        126 │                        310 │                  0.45 │                     1 │              0.734132 │                     0.09 │                     0.92 │                 0.432525 │                    33 │                             3 │\n",
            "╘═════════════╧════════╧══════════════════════════╧═════════════════════════════╧══════════════════════════╧══════════════════════════╧════════════════════════════╧════════════════════════════╧═══════════════════════╧═══════════════════════╧═══════════════════════╧══════════════════════════╧══════════════════════════╧══════════════════════════╧═══════════════════════╧═══════════════════════════════╛\n"
          ]
        }
      ]
    },
    {
      "cell_type": "markdown",
      "source": [
        "8. Using output from the question 7 above, plot them as a grouped bar chart (similar to this or see group bar chart below) with seaborn. There must be two bars, one bar representing left and another for not left. This plot is for each unique department values in column “sales.”"
      ],
      "metadata": {
        "id": "MyyXLPNcapS2"
      }
    },
    {
      "cell_type": "code",
      "source": [
        "grouped_data = df.groupby('sales')['left'].value_counts().unstack()\n",
        "sns.set_theme(style=\"whitegrid\")\n",
        "sns.barplot(x='sales', y=0, hue=1, data=grouped_data.reset_index(), palette=['blue', 'orange'])\n",
        "plt.title('Left vs. Not Left by Sales Department')\n",
        "plt.xlabel('Sales Department')\n",
        "plt.ylabel('Count')\n",
        "plt.legend(title='Left')\n",
        "plt.show()"
      ],
      "metadata": {
        "colab": {
          "base_uri": "https://localhost:8080/",
          "height": 535
        },
        "id": "A28J2iyMPwaL",
        "outputId": "a2be989a-69b1-488b-f67f-0c75500eccbd"
      },
      "execution_count": 9,
      "outputs": [
        {
          "output_type": "stream",
          "name": "stderr",
          "text": [
            "<ipython-input-9-8abfe2efc891>:3: UserWarning: \n",
            "The palette list has fewer values (2) than needed (10) and will cycle, which may produce an uninterpretable plot.\n",
            "  sns.barplot(x='sales', y=0, hue=1, data=grouped_data.reset_index(), palette=['blue', 'orange'])\n"
          ]
        },
        {
          "output_type": "display_data",
          "data": {
            "text/plain": [
              "<Figure size 640x480 with 1 Axes>"
            ],
            "image/png": "[encoded data removed]"
          },
          "metadata": {}
        }
      ]
    },
    {
      "cell_type": "markdown",
      "source": [
        "9. For output of 3, plot heat map as shown in the image following with the numbers. One approach is to use seaborn."
      ],
      "metadata": {
        "id": "HaNymdlV72rN"
      }
    },
    {
      "cell_type": "code",
      "source": [],
      "metadata": {
        "id": "ASCHPoEb77QP"
      },
      "execution_count": null,
      "outputs": []
    }
  ]
}