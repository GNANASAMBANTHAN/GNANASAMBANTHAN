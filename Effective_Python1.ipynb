{
  "nbformat": 4,
  "nbformat_minor": 0,
  "metadata": {
    "colab": {
      "provenance": [],
      "include_colab_link": true
    },
    "kernelspec": {
      "name": "python3",
      "display_name": "Python 3"
    },
    "language_info": {
      "name": "python"
    }
  },
  "cells": [
    {
      "cell_type": "markdown",
      "metadata": {
        "id": "view-in-github",
        "colab_type": "text"
      },
      "source": [
        "<a href=\"https://colab.research.google.com/github/GNANASAMBANTHAN/GNANASAMBANTHAN/blob/main/Effective_Python1.ipynb\" target=\"_parent\"><img src=\"https://colab.research.google.com/assets/colab-badge.svg\" alt=\"Open In Colab\"/></a>"
      ]
    },
    {
      "cell_type": "code",
      "source": [
        "print('Hello World!')"
      ],
      "metadata": {
        "colab": {
          "base_uri": "https://localhost:8080/"
        },
        "id": "A4xQJY8edXIB",
        "outputId": "5f1d6b40-d2d3-4936-d9b8-ed7fdaf4ff50"
      },
      "execution_count": null,
      "outputs": [
        {
          "output_type": "stream",
          "name": "stdout",
          "text": [
            "Hello World!\n"
          ]
        }
      ]
    },
    {
      "cell_type": "code",
      "source": [
        "a=56\n",
        "b=45\n",
        "print(a+b)"
      ],
      "metadata": {
        "colab": {
          "base_uri": "https://localhost:8080/"
        },
        "id": "Q80nL9HLdbM4",
        "outputId": "30643d21-9d0b-4ff9-dd64-65e7a7023b26"
      },
      "execution_count": null,
      "outputs": [
        {
          "output_type": "stream",
          "name": "stdout",
          "text": [
            "101\n"
          ]
        }
      ]
    },
    {
      "cell_type": "code",
      "source": [
        "print(type(b))"
      ],
      "metadata": {
        "colab": {
          "base_uri": "https://localhost:8080/"
        },
        "id": "itH_W2mMd-M1",
        "outputId": "17a08f4a-d6c1-48be-e393-4158c06e8317"
      },
      "execution_count": null,
      "outputs": [
        {
          "output_type": "stream",
          "name": "stdout",
          "text": [
            "<class 'int'>\n"
          ]
        }
      ]
    },
    {
      "cell_type": "code",
      "source": [
        "if 5 > 2:\n",
        "  print(\"Five is greater than two!\")\n",
        "else:\n",
        "  print(\"Five is less than two!\")"
      ],
      "metadata": {
        "colab": {
          "base_uri": "https://localhost:8080/"
        },
        "id": "fjHF0UlEeYWi",
        "outputId": "a94c4d8f-6129-42e4-cea7-37a5c103a620"
      },
      "execution_count": null,
      "outputs": [
        {
          "output_type": "stream",
          "name": "stdout",
          "text": [
            "Five is greater than two!\n"
          ]
        }
      ]
    },
    {
      "cell_type": "code",
      "source": [
        "if 24 < 48:\n",
        "  print(\"24 is less than 48\")\n",
        "else:\n",
        "  print(\"24 is greater than 48\")"
      ],
      "metadata": {
        "id": "lK-ETGdTedaT",
        "outputId": "95412610-33bc-43f2-d2fa-a0e9817dad1d",
        "colab": {
          "base_uri": "https://localhost:8080/"
        }
      },
      "execution_count": null,
      "outputs": [
        {
          "output_type": "stream",
          "name": "stdout",
          "text": [
            "24 is less than 48\n"
          ]
        }
      ]
    },
    {
      "cell_type": "code",
      "source": [
        "a = \"\"\"Lorem ipsum dolor sit amet,\n",
        "consectetur adipiscing elit,\n",
        "sed do eiusmod tempor incididunt\n",
        "ut labore et dolore magna aliqua.\"\"\"\n",
        "print(a)"
      ],
      "metadata": {
        "colab": {
          "base_uri": "https://localhost:8080/"
        },
        "id": "xNf83dN8eozV",
        "outputId": "83c3932c-f291-4dbb-a4f9-1b9b1c22d5f1"
      },
      "execution_count": null,
      "outputs": [
        {
          "output_type": "stream",
          "name": "stdout",
          "text": [
            "Lorem ipsum dolor sit amet,\n",
            "consectetur adipiscing elit,\n",
            "sed do eiusmod tempor incididunt\n",
            "ut labore et dolore magna aliqua.\n"
          ]
        }
      ]
    },
    {
      "cell_type": "code",
      "source": [
        "a = \"\"\"Sam is a handsome boy\"\"\"\n",
        "print(a)"
      ],
      "metadata": {
        "id": "B2dzVR-newso",
        "outputId": "ad006c2c-b737-4bd5-9b28-dd3bd35a6bda",
        "colab": {
          "base_uri": "https://localhost:8080/"
        }
      },
      "execution_count": null,
      "outputs": [
        {
          "output_type": "stream",
          "name": "stdout",
          "text": [
            "Sam is a handsome boy\n"
          ]
        }
      ]
    },
    {
      "cell_type": "code",
      "source": [
        "a = \"\"\"Sam has 5 apples and 3 guaava\"\"\"\n",
        "print(a)"
      ],
      "metadata": {
        "id": "7URCMnH_e5iF",
        "outputId": "aceede86-8782-40fc-8ae6-360b0056849e",
        "colab": {
          "base_uri": "https://localhost:8080/"
        }
      },
      "execution_count": null,
      "outputs": [
        {
          "output_type": "stream",
          "name": "stdout",
          "text": [
            "Sam has 5 apples and 3 guaava\n"
          ]
        }
      ]
    },
    {
      "cell_type": "code",
      "source": [
        "a = \"\"\"10.05.2004\"\"\"\n",
        "print(a)"
      ],
      "metadata": {
        "id": "b9O0wA0WfG3I",
        "outputId": "f28f27a0-093a-4ffd-e753-3bc3567631b6",
        "colab": {
          "base_uri": "https://localhost:8080/"
        }
      },
      "execution_count": null,
      "outputs": [
        {
          "output_type": "stream",
          "name": "stdout",
          "text": [
            "10.05.2004\n"
          ]
        }
      ]
    },
    {
      "cell_type": "code",
      "source": [
        "myset = {\"apple\", \"banana\", \"cherry\"}\n",
        "print(myset)"
      ],
      "metadata": {
        "colab": {
          "base_uri": "https://localhost:8080/"
        },
        "id": "OYhDVjzOe2NN",
        "outputId": "0d662ca2-efc0-4db7-a325-f7711b0dfd10"
      },
      "execution_count": null,
      "outputs": [
        {
          "output_type": "stream",
          "name": "stdout",
          "text": [
            "{'apple', 'banana', 'cherry'}\n"
          ]
        }
      ]
    },
    {
      "cell_type": "code",
      "source": [
        "print(type(myset))"
      ],
      "metadata": {
        "colab": {
          "base_uri": "https://localhost:8080/"
        },
        "id": "Cc_3kP9Ge7UY",
        "outputId": "37cbaae1-b335-4942-ab2f-1ffea60aa4d2"
      },
      "execution_count": null,
      "outputs": [
        {
          "output_type": "stream",
          "name": "stdout",
          "text": [
            "<class 'set'>\n"
          ]
        }
      ]
    },
    {
      "cell_type": "code",
      "source": [
        "import pandas as pd"
      ],
      "metadata": {
        "id": "qTMT7NMU1PE_"
      },
      "execution_count": null,
      "outputs": []
    },
    {
      "cell_type": "code",
      "source": [
        "from tabulate import tabulate"
      ],
      "metadata": {
        "id": "ev0mT6rB125W"
      },
      "execution_count": null,
      "outputs": []
    },
    {
      "cell_type": "code",
      "source": [
        "import traceback"
      ],
      "metadata": {
        "id": "RxJi_jCr1-rk"
      },
      "execution_count": null,
      "outputs": []
    },
    {
      "cell_type": "code",
      "source": [
        "import numpy as np"
      ],
      "metadata": {
        "id": "ugJybMtv2Nwe"
      },
      "execution_count": null,
      "outputs": []
    },
    {
      "cell_type": "code",
      "source": [
        "import matplotlib.pyplot as plt"
      ],
      "metadata": {
        "id": "dvi9twX02dzV"
      },
      "execution_count": null,
      "outputs": []
    },
    {
      "cell_type": "code",
      "source": [
        "from requests import get"
      ],
      "metadata": {
        "id": "iGrvt18n2jDw"
      },
      "execution_count": null,
      "outputs": []
    },
    {
      "cell_type": "code",
      "source": [
        "import requests"
      ],
      "metadata": {
        "id": "m8qzglFi2psH"
      },
      "execution_count": null,
      "outputs": []
    },
    {
      "cell_type": "code",
      "source": [
        "import os"
      ],
      "metadata": {
        "id": "AGVFSwSo2tUg"
      },
      "execution_count": null,
      "outputs": []
    },
    {
      "cell_type": "code",
      "source": [
        "a=26\n",
        "b=76\n",
        "c=(a*b)\n",
        "print(c)"
      ],
      "metadata": {
        "colab": {
          "base_uri": "https://localhost:8080/"
        },
        "id": "Wj4YN2vE3Omd",
        "outputId": "76b6dc8b-45d7-4170-a782-c6375013b4e5"
      },
      "execution_count": null,
      "outputs": [
        {
          "output_type": "stream",
          "name": "stdout",
          "text": [
            "1976\n"
          ]
        }
      ]
    },
    {
      "cell_type": "code",
      "source": [
        "lst_names = []\n",
        "lst_cities = [\"Bangalore\",\"Chennai\", \"SFO\", \"Beijing\"]\n",
        "lst_cities.append(\"NYC\")\n",
        "lst_age = [10,20]\n",
        "lst_age.append(30)\n",
        "for val in lst_cities:\n",
        "  print(val)\n",
        "if \"SFO\" in lst_cities:\n",
        "  print(\"yes\")\n",
        "else:\n",
        "  print(\"no\")"
      ],
      "metadata": {
        "colab": {
          "base_uri": "https://localhost:8080/"
        },
        "id": "zs31thnv3kRj",
        "outputId": "c979a1db-ddba-464e-b20c-621e9d9946a7"
      },
      "execution_count": null,
      "outputs": [
        {
          "output_type": "stream",
          "name": "stdout",
          "text": [
            "Bangalore\n",
            "Chennai\n",
            "SFO\n",
            "Beijing\n",
            "NYC\n",
            "yes\n"
          ]
        }
      ]
    },
    {
      "cell_type": "code",
      "source": [
        "set_names = ()\n",
        "set_cities = [\"Himachal Pradesh\",\"Uttar Pradesh\",\"Delhi\",\"Denmark\"]\n",
        "set_cities.append(\"Chennai\")\n",
        "set_age = [20,40]\n",
        "set_age.append(60)\n",
        "print(set_cities)\n",
        "print(set_age)"
      ],
      "metadata": {
        "colab": {
          "base_uri": "https://localhost:8080/"
        },
        "id": "cFUH-CF--cR6",
        "outputId": "b38666b7-420d-45d1-e875-2fb8f01d254c"
      },
      "execution_count": null,
      "outputs": [
        {
          "output_type": "stream",
          "name": "stdout",
          "text": [
            "['Himachal Pradesh', 'Uttar Pradesh', 'Delhi', 'Denmark', 'Chennai']\n",
            "[20, 40, 60]\n"
          ]
        }
      ]
    },
    {
      "cell_type": "code",
      "source": [
        "dict_data = {}\n",
        "dict_data['pet'] = []\n",
        "dict_data['pet'].append({\n",
        "    'name': 'Dog',\n",
        "    'website': 'doggy.com',\n",
        "    'from': 'England'\n",
        "})\n",
        "dict_data['pet'].append({\n",
        "    'name' : 'Tiger',\n",
        "    'website': 'Tigo.com',\n",
        "    'from': 'Australia'\n",
        "})\n",
        "print(dict_data)\n",
        "print(type(dict_data))"
      ],
      "metadata": {
        "id": "nhP8AzjzrVwi",
        "outputId": "107c1d08-d671-43b6-9761-11f2b144a983",
        "colab": {
          "base_uri": "https://localhost:8080/"
        }
      },
      "execution_count": null,
      "outputs": [
        {
          "output_type": "stream",
          "name": "stdout",
          "text": [
            "{'pet': [{'name': 'Dog', 'website': 'doggy.com', 'from': 'England'}, {'name': 'Tiger', 'website': 'Tigo.com', 'from': 'Australia'}]}\n",
            "<class 'dict'>\n"
          ]
        }
      ]
    },
    {
      "cell_type": "code",
      "source": [
        "dict_course ={'Sub':'English','Topic':'Grammar','Level':'Easy'}\n",
        "print(dict_course)\n",
        "print(type(dict_course))"
      ],
      "metadata": {
        "id": "CuYYMGb7t1el",
        "outputId": "45146bff-7892-4b08-c968-ac9da95bc80c",
        "colab": {
          "base_uri": "https://localhost:8080/"
        }
      },
      "execution_count": null,
      "outputs": [
        {
          "output_type": "stream",
          "name": "stdout",
          "text": [
            "{'Sub': 'English', 'Topic': 'Grammar', 'Level': 'Easy'}\n",
            "<class 'dict'>\n"
          ]
        }
      ]
    },
    {
      "cell_type": "code",
      "source": [
        "print(dict_course['Sub'])"
      ],
      "metadata": {
        "id": "z4GQJ53tuqde",
        "outputId": "2d33cdf9-0383-4ae5-f022-3f1b45f63c91",
        "colab": {
          "base_uri": "https://localhost:8080/"
        }
      },
      "execution_count": null,
      "outputs": [
        {
          "output_type": "stream",
          "name": "stdout",
          "text": [
            "English\n"
          ]
        }
      ]
    },
    {
      "cell_type": "code",
      "source": [
        "for key, value in dict_course.items():\n",
        "  print(value)"
      ],
      "metadata": {
        "id": "iboGjxe8u6YI",
        "outputId": "7d601e42-02af-46c8-ae0b-f46bee007f5b",
        "colab": {
          "base_uri": "https://localhost:8080/"
        }
      },
      "execution_count": null,
      "outputs": [
        {
          "output_type": "stream",
          "name": "stdout",
          "text": [
            "English\n",
            "Grammar\n",
            "Easy\n"
          ]
        }
      ]
    },
    {
      "cell_type": "code",
      "source": [
        "lst_pet_types = [\"Dog\", \"Tiger\", \"Elephant\"]\n",
        "c_pet_types = len(lst_pet_types)\n",
        "print(f\"# pet types: {c_pet_types}\")\n",
        "dict_pets = {\"name\": \"Dog\", \"age\": 2}\n",
        "c_pets = len(dict_pets)\n",
        "print(f\"# pets: {c_pets}\")\n",
        "dict_pets = {\"pets\": [{\"name\": \"Dog\", \"age\": 2}, {\"name\": \"Dog\", \"age\": 2}]}\n",
        "dict_p_h = {\"pets\": [{\"name\": \"Dog\", \"age\": 2}, {\"name\": \"Dog\", \"age\": 2}],\n",
        "            \"persons\": [{\"name\": \"Siva\", \"age\": 20}, {\"name\": \"Vasu\", \"age\": 14}]}\n",
        "c_pets, c_humans = len(dict_pets), len(dict_p_h)\n",
        "print(f\"# pets: {c_pets} ; # humans: {c_humans}\")\n",
        "lst_keys = [*dict_p_h]\n",
        "lst_values = [*dict_p_h.values()]\n",
        "print(f\"# keys: {len(lst_keys)} | # values: {len(lst_values)}\")\n",
        "print(f\"keys: {lst_keys} | values: {lst_values}\")"
      ],
      "metadata": {
        "id": "Je13nKR5vJ2q",
        "outputId": "5a3b94a3-fc34-4ac3-c773-723ad8d7d5e9",
        "colab": {
          "base_uri": "https://localhost:8080/"
        }
      },
      "execution_count": null,
      "outputs": [
        {
          "output_type": "stream",
          "name": "stdout",
          "text": [
            "# pet types: 3\n",
            "# pets: 2\n",
            "# pets: 1 ; # humans: 2\n",
            "# keys: 2 | # values: 2\n",
            "keys: ['pets', 'persons'] | values: [[{'name': 'Dog', 'age': 2}, {'name': 'Dog', 'age': 2}], [{'name': 'Siva', 'age': 20}, {'name': 'Vasu', 'age': 14}]]\n"
          ]
        }
      ]
    },
    {
      "cell_type": "code",
      "source": [
        "import csv"
      ],
      "metadata": {
        "id": "r2zMbSJ9Cyey"
      },
      "execution_count": null,
      "outputs": []
    },
    {
      "cell_type": "code",
      "source": [
        "import sys\n",
        "\n",
        "print(sys.version)"
      ],
      "metadata": {
        "colab": {
          "base_uri": "https://localhost:8080/"
        },
        "id": "lwh1gePGQsRB",
        "outputId": "49d7f038-d4f6-450e-d98c-7944678abff7"
      },
      "execution_count": null,
      "outputs": [
        {
          "output_type": "stream",
          "name": "stdout",
          "text": [
            "3.10.12 (main, Nov 20 2023, 15:14:05) [GCC 11.4.0]\n"
          ]
        }
      ]
    },
    {
      "cell_type": "code",
      "source": [
        "if 5 > 2:\n",
        "  print(\"Five is greater than two!\")"
      ],
      "metadata": {
        "colab": {
          "base_uri": "https://localhost:8080/"
        },
        "id": "VWXfEALeRCMT",
        "outputId": "7c34b767-de33-48e4-fb50-15781f506ef2"
      },
      "execution_count": null,
      "outputs": [
        {
          "output_type": "stream",
          "name": "stdout",
          "text": [
            "Five is greater than two!\n"
          ]
        }
      ]
    },
    {
      "cell_type": "code",
      "source": [
        "x = 24\n",
        "y = \"Good Morning Sam\"\n",
        "print(x)\n",
        "print(y)"
      ],
      "metadata": {
        "colab": {
          "base_uri": "https://localhost:8080/"
        },
        "id": "5Z3DWyBlRx_5",
        "outputId": "165780ed-6d0c-41e7-bc98-dfd555d8514c"
      },
      "execution_count": null,
      "outputs": [
        {
          "output_type": "stream",
          "name": "stdout",
          "text": [
            "24\n",
            "Good Morning Sam\n"
          ]
        }
      ]
    },
    {
      "cell_type": "code",
      "source": [
        "#print(\"Hello, World!\")\n",
        "print(\"Cheers, Mate!\")"
      ],
      "metadata": {
        "colab": {
          "base_uri": "https://localhost:8080/"
        },
        "id": "BwjsyHlOTehu",
        "outputId": "6e95042c-b305-40f5-97fb-6097ff52be6d"
      },
      "execution_count": null,
      "outputs": [
        {
          "output_type": "stream",
          "name": "stdout",
          "text": [
            "Cheers, Mate!\n"
          ]
        }
      ]
    },
    {
      "cell_type": "code",
      "source": [
        "#This is a coment\n",
        "#written in\n",
        "#more than just one line\n",
        "print(\"Good Evening!\")"
      ],
      "metadata": {
        "colab": {
          "base_uri": "https://localhost:8080/"
        },
        "id": "ZDiDmd_7Tzv8",
        "outputId": "756ca395-337f-41fa-f16e-fd595432fd3f"
      },
      "execution_count": null,
      "outputs": [
        {
          "output_type": "stream",
          "name": "stdout",
          "text": [
            "Good Evening!\n"
          ]
        }
      ]
    },
    {
      "cell_type": "code",
      "source": [
        "a = 24\n",
        "A = \"Sam\"\n",
        "#A will not overwrite a\n",
        "print(\"A\")"
      ],
      "metadata": {
        "colab": {
          "base_uri": "https://localhost:8080/"
        },
        "id": "oftq_16TVp5Y",
        "outputId": "458b40f6-af29-4ed0-ebd3-d3284d88d3e9"
      },
      "execution_count": null,
      "outputs": [
        {
          "output_type": "stream",
          "name": "stdout",
          "text": [
            "A\n"
          ]
        }
      ]
    },
    {
      "cell_type": "code",
      "source": [
        "myvar = \"Siva\"\n",
        "my_var = \"Sam\"\n",
        "_my_var = \"Shiva\"\n",
        "myVar = \"Vasu\"\n",
        "MYVAR = \"Vasu\"\n",
        "myvar2 = \"Samsiva2k4\""
      ],
      "metadata": {
        "id": "HmrrirpzWDfi"
      },
      "execution_count": null,
      "outputs": []
    },
    {
      "cell_type": "code",
      "source": [
        "x, y, z = \"Jackfruit\", \"Mango\", \"Guava\"\n",
        "print(x)\n",
        "print(y)\n",
        "print(z)"
      ],
      "metadata": {
        "colab": {
          "base_uri": "https://localhost:8080/"
        },
        "id": "qOQ57cAxXv6m",
        "outputId": "36383628-2694-4fd3-9bdc-13d1a6dea3ff"
      },
      "execution_count": null,
      "outputs": [
        {
          "output_type": "stream",
          "name": "stdout",
          "text": [
            "Jackfruit\n",
            "Mango\n",
            "Guava\n"
          ]
        }
      ]
    },
    {
      "cell_type": "code",
      "source": [
        "fruits = [\"Jackfruit\", \"Mango\", \"Guava\"]\n",
        "x, y, z = fruits\n",
        "print(x)\n",
        "print(z)\n",
        "print(y)"
      ],
      "metadata": {
        "colab": {
          "base_uri": "https://localhost:8080/"
        },
        "id": "JHfuXh5LYO0o",
        "outputId": "ef53baba-4469-44eb-81cc-c4000523d16a"
      },
      "execution_count": null,
      "outputs": [
        {
          "output_type": "stream",
          "name": "stdout",
          "text": [
            "Jackfruit\n",
            "Guava\n",
            "Mango\n"
          ]
        }
      ]
    },
    {
      "cell_type": "code",
      "source": [
        "x = \"Programming\"\n",
        "y = \"is\"\n",
        "z = \"easy to learn\"\n",
        "print(x, y, z)"
      ],
      "metadata": {
        "colab": {
          "base_uri": "https://localhost:8080/"
        },
        "id": "LE8uk30uYmVS",
        "outputId": "02a74c57-a07f-49d0-b3b1-5801b9ebd918"
      },
      "execution_count": null,
      "outputs": [
        {
          "output_type": "stream",
          "name": "stdout",
          "text": [
            "Programming is easy to learn\n"
          ]
        }
      ]
    },
    {
      "cell_type": "code",
      "source": [
        "x = \"Programming \"\n",
        "y = \"is \"\n",
        "z = \"so funny to learn\"\n",
        "print(x + y + z)"
      ],
      "metadata": {
        "colab": {
          "base_uri": "https://localhost:8080/"
        },
        "id": "OychRxoZZKrM",
        "outputId": "2e316955-7129-457b-b836-9529388962f3"
      },
      "execution_count": null,
      "outputs": [
        {
          "output_type": "stream",
          "name": "stdout",
          "text": [
            "Programming is so funny to learn\n"
          ]
        }
      ]
    },
    {
      "cell_type": "code",
      "source": [
        "x = 5\n",
        "y = 12\n",
        "print(x + y)"
      ],
      "metadata": {
        "colab": {
          "base_uri": "https://localhost:8080/"
        },
        "id": "mgjpDzPcZTaW",
        "outputId": "86c2fdec-e933-494e-84e0-71ca12a53230"
      },
      "execution_count": null,
      "outputs": [
        {
          "output_type": "stream",
          "name": "stdout",
          "text": [
            "17\n"
          ]
        }
      ]
    },
    {
      "cell_type": "code",
      "source": [
        "x = 24\n",
        "y = \"Sam\"\n",
        "print(x, y)"
      ],
      "metadata": {
        "colab": {
          "base_uri": "https://localhost:8080/"
        },
        "id": "wx5qopXcZqiV",
        "outputId": "24a89bc3-7556-40e6-d3f1-cb291e2bf49c"
      },
      "execution_count": null,
      "outputs": [
        {
          "output_type": "stream",
          "name": "stdout",
          "text": [
            "24 Sam\n"
          ]
        }
      ]
    },
    {
      "cell_type": "code",
      "source": [
        "x = \"beautifull\"\n",
        "\n",
        "def myfunc():\n",
        "  print(\"Python is \" + x)\n",
        "\n",
        "myfunc()"
      ],
      "metadata": {
        "colab": {
          "base_uri": "https://localhost:8080/"
        },
        "id": "GhhejRD_Z4Mk",
        "outputId": "d545e746-9f99-4dbf-c9a7-8900c8a139e3"
      },
      "execution_count": null,
      "outputs": [
        {
          "output_type": "stream",
          "name": "stdout",
          "text": [
            "Python is beautifull\n"
          ]
        }
      ]
    },
    {
      "cell_type": "code",
      "source": [
        "x = \"Beautifull\"\n",
        "\n",
        "def myfunc():\n",
        "  x = \"Fabulous\"\n",
        "  print(\"Python is \" + x)\n",
        "\n",
        "myfunc()\n",
        "\n",
        "print(\"Python is \" + x)"
      ],
      "metadata": {
        "colab": {
          "base_uri": "https://localhost:8080/"
        },
        "id": "dlEOoB1ZaGnX",
        "outputId": "6cee6a67-d450-46cb-b42a-befaf3ae3bca"
      },
      "execution_count": null,
      "outputs": [
        {
          "output_type": "stream",
          "name": "stdout",
          "text": [
            "Python is Fabulous\n",
            "Python is Beautifull\n"
          ]
        }
      ]
    },
    {
      "cell_type": "code",
      "source": [
        "x = \"Intelligent\"\n",
        "\n",
        "def myfunc():\n",
        "  global x\n",
        "  x = \"Fabulous\"\n",
        "\n",
        "myfunc()\n",
        "\n",
        "print(\"Python is \" + x)"
      ],
      "metadata": {
        "colab": {
          "base_uri": "https://localhost:8080/"
        },
        "id": "NU1XByYBamJI",
        "outputId": "4ec4f00b-519d-46a6-9b4a-30968f666e2d"
      },
      "execution_count": null,
      "outputs": [
        {
          "output_type": "stream",
          "name": "stdout",
          "text": [
            "Python is Fabulous\n"
          ]
        }
      ]
    },
    {
      "cell_type": "code",
      "source": [
        "Carname = \"Volvo\"\n",
        "print(Carname)"
      ],
      "metadata": {
        "colab": {
          "base_uri": "https://localhost:8080/"
        },
        "id": "lwwDhs4qbPYH",
        "outputId": "ec91c4bb-aea3-4f4a-bab7-aa2f7810dfae"
      },
      "execution_count": null,
      "outputs": [
        {
          "output_type": "stream",
          "name": "stdout",
          "text": [
            "Volvo\n"
          ]
        }
      ]
    },
    {
      "cell_type": "code",
      "source": [
        "x = 24\n",
        "print(type(x))"
      ],
      "metadata": {
        "colab": {
          "base_uri": "https://localhost:8080/"
        },
        "id": "kqyDe-IObrKV",
        "outputId": "27e55157-1f91-472d-8e25-a74727652cea"
      },
      "execution_count": null,
      "outputs": [
        {
          "output_type": "stream",
          "name": "stdout",
          "text": [
            "<class 'int'>\n"
          ]
        }
      ]
    },
    {
      "cell_type": "code",
      "source": [
        "x = \"Sam Siva 2k4\"\n",
        "print(type(x))\n",
        "print(x)"
      ],
      "metadata": {
        "colab": {
          "base_uri": "https://localhost:8080/"
        },
        "id": "b-ztN1cNcnWs",
        "outputId": "0cf59d02-f84b-48c6-d24c-34c7568f05d3"
      },
      "execution_count": null,
      "outputs": [
        {
          "output_type": "stream",
          "name": "stdout",
          "text": [
            "<class 'str'>\n",
            "Sam Siva 2k4\n"
          ]
        }
      ]
    },
    {
      "cell_type": "code",
      "source": [
        "a = 24\n",
        "b = 534.32\n",
        "c = 1j\n",
        "print(type(a))\n",
        "print(type(b))\n",
        "print(type(c))"
      ],
      "metadata": {
        "id": "Oa1VYc-bdxQD",
        "outputId": "fa2f27c5-b058-421f-d103-0685166705c1",
        "colab": {
          "base_uri": "https://localhost:8080/"
        }
      },
      "execution_count": null,
      "outputs": [
        {
          "output_type": "stream",
          "name": "stdout",
          "text": [
            "<class 'int'>\n",
            "<class 'float'>\n",
            "<class 'complex'>\n"
          ]
        }
      ]
    },
    {
      "cell_type": "code",
      "source": [
        "a = (type(24.00))\n",
        "print(a)\n",
        "x = \"Sam\"\n",
        "print(x)"
      ],
      "metadata": {
        "id": "5JfeED4NgLZ-",
        "outputId": "373a1a85-2ae7-4ae5-acdd-7ed8c40e7925",
        "colab": {
          "base_uri": "https://localhost:8080/"
        }
      },
      "execution_count": null,
      "outputs": [
        {
          "output_type": "stream",
          "name": "stdout",
          "text": [
            "<class 'float'>\n",
            "Sam\n"
          ]
        }
      ]
    },
    {
      "cell_type": "code",
      "source": [
        "dict_data = {}\n",
        "dict_data['pet'] = []\n",
        "dict_data['pet'].append({\n",
        "    'name': 'Dog',\n",
        "    'website': 'doggy.com',\n",
        "    'from': 'England'\n",
        "})\n",
        "dict_data['pet'].append({\n",
        "    'name': 'Tiger',\n",
        "    'website': 'Tigo.com',\n",
        "    'from': 'India'\n",
        "})\n",
        "\n",
        "for key, value in dict_data.items():\n",
        "  print(key, \": \", value)\n",
        "\n",
        "pet : [{'name': 'Dog', 'website': 'doggy.com', 'from': 'England'}]\n",
        "\n",
        "import json\n",
        "\n",
        "print(json.dumps(dict_data, indent=4))\n"
      ],
      "metadata": {
        "id": "xZ1kf67nMBrA",
        "colab": {
          "base_uri": "https://localhost:8080/"
        },
        "outputId": "86758f9b-b66c-4440-9910-ea89745e58bc"
      },
      "execution_count": null,
      "outputs": [
        {
          "output_type": "stream",
          "name": "stdout",
          "text": [
            "pet :  [{'name': 'Dog', 'website': 'doggy.com', 'from': 'England'}, {'name': 'Tiger', 'website': 'Tigo.com', 'from': 'India'}]\n",
            "{\n",
            "    \"pet\": [\n",
            "        {\n",
            "            \"name\": \"Dog\",\n",
            "            \"website\": \"doggy.com\",\n",
            "            \"from\": \"England\"\n",
            "        },\n",
            "        {\n",
            "            \"name\": \"Tiger\",\n",
            "            \"website\": \"Tigo.com\",\n",
            "            \"from\": \"India\"\n",
            "        }\n",
            "    ]\n",
            "}\n"
          ]
        }
      ]
    },
    {
      "cell_type": "code",
      "source": [
        "dict_la ={'sub': 'English','topic': 'Grammar','Level': 'Difficult'}\n",
        "print(dict_la)\n",
        "print(type(dict_la))"
      ],
      "metadata": {
        "colab": {
          "base_uri": "https://localhost:8080/"
        },
        "id": "-0_p88TCN3Dl",
        "outputId": "ef52c5fa-42fc-4b5d-afa7-80c3668c8eaf"
      },
      "execution_count": null,
      "outputs": [
        {
          "output_type": "stream",
          "name": "stdout",
          "text": [
            "{'sub': 'English', 'topic': 'Grammar', 'Level': 'Difficult'}\n",
            "<class 'dict'>\n"
          ]
        }
      ]
    },
    {
      "cell_type": "code",
      "source": [
        "for key, value in dict_la.items():\n",
        "  print(value)"
      ],
      "metadata": {
        "colab": {
          "base_uri": "https://localhost:8080/"
        },
        "id": "9Fs2aCrGOPVc",
        "outputId": "da18233c-da53-408e-c54b-ef2383f52e6b"
      },
      "execution_count": null,
      "outputs": [
        {
          "output_type": "stream",
          "name": "stdout",
          "text": [
            "English\n",
            "Grammar\n",
            "Difficult\n"
          ]
        }
      ]
    },
    {
      "cell_type": "code",
      "source": [
        "print(key,':',value)"
      ],
      "metadata": {
        "colab": {
          "base_uri": "https://localhost:8080/"
        },
        "id": "kGF4v3onOZma",
        "outputId": "34f2ee8d-670e-4617-ca23-2d89ee4e9ba5"
      },
      "execution_count": null,
      "outputs": [
        {
          "output_type": "stream",
          "name": "stdout",
          "text": [
            "Level : Difficult\n"
          ]
        }
      ]
    },
    {
      "cell_type": "code",
      "source": [
        "for key, value in dict_la.items():\n",
        "  print(key, ':',value)"
      ],
      "metadata": {
        "colab": {
          "base_uri": "https://localhost:8080/"
        },
        "id": "R6QtxucAOdgb",
        "outputId": "0c4ac408-f068-4216-867a-16f7cbd37bed"
      },
      "execution_count": null,
      "outputs": [
        {
          "output_type": "stream",
          "name": "stdout",
          "text": [
            "sub : English\n",
            "topic : Grammar\n",
            "Level : Difficult\n"
          ]
        }
      ]
    },
    {
      "cell_type": "code",
      "source": [
        "print(json.dumps(dict_la))"
      ],
      "metadata": {
        "colab": {
          "base_uri": "https://localhost:8080/"
        },
        "id": "fAfBaVyzPH6N",
        "outputId": "8781a409-f381-4b8f-dffa-007f80f940a7"
      },
      "execution_count": null,
      "outputs": [
        {
          "output_type": "stream",
          "name": "stdout",
          "text": [
            "{\"sub\": \"English\", \"topic\": \"Grammar\", \"Level\": \"Difficult\"}\n"
          ]
        }
      ]
    },
    {
      "cell_type": "code",
      "source": [
        "import os\n",
        "import json"
      ],
      "metadata": {
        "id": "NBOl4g9CxWk-"
      },
      "execution_count": null,
      "outputs": []
    },
    {
      "cell_type": "code",
      "source": [
        "path_in_pet = \"data.join\"\n",
        "if os.path.exists(path_in_pet):\n",
        "  with open(path_in_pet, 'r') as f:\n",
        "    dict_data = json.load(f)\n",
        "    print(type(dict_data))\n",
        "    print(dict_data)\n",
        "else:\n",
        "  print(\"File not found\")"
      ],
      "metadata": {
        "colab": {
          "base_uri": "https://localhost:8080/"
        },
        "id": "-AhpQPPYxqFm",
        "outputId": "4d718516-6223-4083-a8bb-4e83c27fa375"
      },
      "execution_count": null,
      "outputs": [
        {
          "output_type": "stream",
          "name": "stdout",
          "text": [
            "File not found\n"
          ]
        }
      ]
    },
    {
      "cell_type": "code",
      "source": [
        "from dateutil import parser\n",
        "from datetime import datetime\n",
        "dt = parser.parse(\"Jun 6 2024 9:59PM\")\n",
        "print(dt)\n",
        "print(type(dt))\n",
        "datetime_object = datetime.strptime('Jun 6 2024 9:59PM', '%b %d %Y %I:%M%p')\n",
        "print(datetime_object)"
      ],
      "metadata": {
        "colab": {
          "base_uri": "https://localhost:8080/"
        },
        "id": "e9zBhBma15xS",
        "outputId": "9e452787-079c-4dca-84ff-5557a9543e68"
      },
      "execution_count": null,
      "outputs": [
        {
          "output_type": "stream",
          "name": "stdout",
          "text": [
            "2024-06-06 21:59:00\n",
            "<class 'datetime.datetime'>\n",
            "2024-06-06 21:59:00\n"
          ]
        }
      ]
    },
    {
      "cell_type": "code",
      "source": [
        "age = 20\n",
        "print(\"Age is \" + str(age))\n",
        "salary = 100000\n",
        "f_salary = float(salary)\n",
        "print(\"Float salary is \" + str(f_salary))\n",
        "salary = 100000.25\n",
        "print(\"Salary is \" + str(salary))\n",
        "i_salary = int(salary)\n",
        "print(\"Integer salary is \" + str(i_salary))"
      ],
      "metadata": {
        "colab": {
          "base_uri": "https://localhost:8080/"
        },
        "id": "y0uqU5DQ4f5f",
        "outputId": "e1583655-0325-40f0-d77a-172df56dfd6a"
      },
      "execution_count": null,
      "outputs": [
        {
          "output_type": "stream",
          "name": "stdout",
          "text": [
            "Age is 20\n",
            "Float salary is 100000.0\n",
            "Salary is 100000.25\n",
            "Integer salary is 100000\n"
          ]
        }
      ]
    },
    {
      "cell_type": "code",
      "source": [
        "amount = 20.15245152\n",
        "f_amount = float(\"{:.2f}\".format(amount))\n",
        "print(f_amount)\n",
        "amount = 20.15245152\n",
        "f_amount = round(amount, 2)\n",
        "print(f_amount)"
      ],
      "metadata": {
        "id": "fcoGsmUW7JOi",
        "outputId": "f93f0209-ce07-4d9c-86db-c75c7c2a9081",
        "colab": {
          "base_uri": "https://localhost:8080/"
        }
      },
      "execution_count": null,
      "outputs": [
        {
          "output_type": "stream",
          "name": "stdout",
          "text": [
            "20.15\n",
            "20.15\n"
          ]
        }
      ]
    },
    {
      "cell_type": "code",
      "source": [
        "def to_uppercase(in_str):\n",
        "    return str(in_str).upper()\n",
        "text = \"sam is a bad boy?\"\n",
        "text = to_uppercase(text)\n",
        "print(text)"
      ],
      "metadata": {
        "colab": {
          "base_uri": "https://localhost:8080/"
        },
        "id": "1LlyYk5Of72A",
        "outputId": "4199ade4-e89d-4265-aa06-e2d2ba5f4fe3"
      },
      "execution_count": null,
      "outputs": [
        {
          "output_type": "stream",
          "name": "stdout",
          "text": [
            "SAM IS A BAD BOY?\n"
          ]
        }
      ]
    },
    {
      "cell_type": "code",
      "source": [
        "def to_lowercase(in_str):\n",
        "    return str(in_str).lower()\n",
        "text = \"An ant is a intelligent animal which named Sara\"\n",
        "text = to_lowercase(text)\n",
        "print(text)"
      ],
      "metadata": {
        "colab": {
          "base_uri": "https://localhost:8080/"
        },
        "id": "nVYPF8lciEub",
        "outputId": "64d0b8f8-2ed0-4cb8-d5bb-a10dc3656d30"
      },
      "execution_count": null,
      "outputs": [
        {
          "output_type": "stream",
          "name": "stdout",
          "text": [
            "an ant is a intelligent animal which named sara\n"
          ]
        }
      ]
    },
    {
      "cell_type": "code",
      "source": [
        "text = \"This is the first line \\n This is the second line\"\n",
        "print(text)\n",
        "text_clean = text.replace(\"\\n\", \"\")\n",
        "print(text_clean)"
      ],
      "metadata": {
        "colab": {
          "base_uri": "https://localhost:8080/"
        },
        "id": "wEZbq9kuin07",
        "outputId": "80b83547-ec4a-4306-ed50-841fcdff71f0"
      },
      "execution_count": null,
      "outputs": [
        {
          "output_type": "stream",
          "name": "stdout",
          "text": [
            "This is the first line \n",
            " This is the second line\n",
            "This is the first line  This is the second line\n"
          ]
        }
      ]
    },
    {
      "cell_type": "code",
      "source": [
        "dict_norm = {\n",
        "    \"Sweety\": \"Peacock\",\n",
        "    \"Deadly\": \"Peacock\",\n",
        "    \"Chubby\": \"Peacock\"\n",
        "}\n",
        "dict_species = {\n",
        "    \"Sara\": \"Sweety\",\n",
        "    \"Shivani\": \"Deadly\",\n",
        "    \"Dharshini\": \"Chubby\"\n",
        "}\n",
        "print(type(dict_species))\n",
        "dict_species_norm = {}\n",
        "for key, value in dict_species.items():\n",
        "  if value in dict_norm.keys():\n",
        "    dict_species_norm[key] = dict_norm[value]\n",
        "  else:\n",
        "    dict_species_norm[key]= value\n",
        "print(dict_species_norm)"
      ],
      "metadata": {
        "colab": {
          "base_uri": "https://localhost:8080/"
        },
        "id": "8F0X0141kImr",
        "outputId": "077881f9-32fc-4246-ce31-4e88f686b2a2"
      },
      "execution_count": null,
      "outputs": [
        {
          "output_type": "stream",
          "name": "stdout",
          "text": [
            "<class 'dict'>\n",
            "{'Sara': 'Peacock', 'Shivani': 'Peacock', 'Dharshini': 'Peacock'}\n"
          ]
        }
      ]
    },
    {
      "cell_type": "code",
      "source": [
        "import pandas as pd\n",
        "data = {'name': ['Vetrimaaran', 'Sam', 'Lokesh'],\n",
        "        'age': [40, 20, 10]}\n",
        "df = pd.DataFrame(data)\n",
        "df[\"age_normalized\"] = df[\"age\"] / df[\"age\"].max()\n",
        "print(df)"
      ],
      "metadata": {
        "colab": {
          "base_uri": "https://localhost:8080/"
        },
        "id": "Dm2vUMUPm4B-",
        "outputId": "cb944ae3-c648-4f20-e984-d4e94c9f9715"
      },
      "execution_count": null,
      "outputs": [
        {
          "output_type": "stream",
          "name": "stdout",
          "text": [
            "          name  age  age_normalized\n",
            "0  Vetrimaaran   40            1.00\n",
            "1          Sam   20            0.50\n",
            "2       Lokesh   10            0.25\n"
          ]
        }
      ]
    },
    {
      "cell_type": "code",
      "source": [
        "import re\n",
        "in_str = \"Did Samylike's Sara?\"\n",
        "str_clean = re.sub(r'y+', ' ', in_str)\n",
        "print(str_clean)"
      ],
      "metadata": {
        "colab": {
          "base_uri": "https://localhost:8080/"
        },
        "id": "F-J8RWt5otEa",
        "outputId": "9f22848b-db33-4937-c77d-7c84a24e3856"
      },
      "execution_count": null,
      "outputs": [
        {
          "output_type": "stream",
          "name": "stdout",
          "text": [
            "Did Sam like's Sara?\n"
          ]
        }
      ]
    },
    {
      "cell_type": "code",
      "source": [
        "from dateutil import parser\n",
        "from datetime import datetime\n",
        "import timeit\n",
        "\n",
        "def fn_1():\n",
        "  dt = parser.parse(\"Jun 7 2024 11:08AM\")\n",
        "\n",
        "def fn_2():\n",
        "  datetime_object = datetime.strptime('Jun 7 2024 11:08AM', '%b %d %Y %I:%M%p')\n",
        "print(timeit.timeit(stmt=fn_2, number=10**6))"
      ],
      "metadata": {
        "colab": {
          "base_uri": "https://localhost:8080/"
        },
        "id": "L-7rvMr9pt_U",
        "outputId": "05568274-4bb2-45b4-e5d8-f8570d14ff73"
      },
      "execution_count": null,
      "outputs": [
        {
          "output_type": "stream",
          "name": "stdout",
          "text": [
            "11.145018272000016\n"
          ]
        }
      ]
    },
    {
      "cell_type": "code",
      "source": [
        "import pandas as pd\n",
        "\n",
        "data = {\n",
        "    'State': ['Tamil Nadu', 'Tamil Nadu', 'Kerala', 'Kerala', 'Nepal', 'Nepal', 'Tamil Nadu', 'Kerala'],\n",
        "    'Sex': ['M', 'F', 'M', 'F', 'M', 'F', 'M', 'M']\n",
        "}\n",
        "df = pd.DataFrame(data)\n",
        "df_state_male = (\n",
        "    df[df['Sex'] == 'M']\n",
        "    .groupby('State')\n",
        "    .size()\n",
        "    .to_frame('count')\n",
        "    .reset_index()\n",
        ")\n",
        "df_sorted = df_state_male.sort_values(by='count', ascending=False)\n",
        "df_sorted['rank'] = df_sorted['count'].rank(ascending=False, method='min')\n",
        "df_sorted['pct_rank'] = df_sorted['count'].rank(pct=True) * 100\n",
        "print(df_sorted.head(10))"
      ],
      "metadata": {
        "colab": {
          "base_uri": "https://localhost:8080/"
        },
        "id": "9O6KLHfdvI0C",
        "outputId": "d452e324-745c-49c2-f142-a6967e6026b5"
      },
      "execution_count": null,
      "outputs": [
        {
          "output_type": "stream",
          "name": "stdout",
          "text": [
            "        State  count  rank   pct_rank\n",
            "0      Kerala      2   1.0  83.333333\n",
            "2  Tamil Nadu      2   1.0  83.333333\n",
            "1       Nepal      1   3.0  33.333333\n"
          ]
        }
      ]
    },
    {
      "cell_type": "code",
      "source": [
        "b = \"Hello, World!\"\n",
        "print(b[:13])\n",
        "print(b.upper())\n",
        "print(b.lower())\n",
        "print(b.replace(\"Hello\", \"Hi\"))\n",
        "print(b.strip())\n",
        "print(b.split(\",\"))\n",
        "print(b.split(\" \"))"
      ],
      "metadata": {
        "colab": {
          "base_uri": "https://localhost:8080/"
        },
        "id": "BSr3WdQp8Lne",
        "outputId": "84c5b977-dc49-4fdf-ca53-329271c69203"
      },
      "execution_count": null,
      "outputs": [
        {
          "output_type": "stream",
          "name": "stdout",
          "text": [
            "Hello, World!\n",
            "HELLO, WORLD!\n",
            "hello, world!\n",
            "Hi, World!\n",
            "Hello, World!\n",
            "['Hello', ' World!']\n",
            "['Hello,', 'World!']\n"
          ]
        }
      ]
    },
    {
      "cell_type": "code",
      "source": [
        "txt = \"My name is Sam\"\n",
        "print(txt)\n",
        "age = 20\n",
        "print(\"My Age is\", + age)"
      ],
      "metadata": {
        "colab": {
          "base_uri": "https://localhost:8080/"
        },
        "id": "75ONU-mC-EZE",
        "outputId": "17551ede-1524-4bc4-e891-5ef9a6f93398"
      },
      "execution_count": null,
      "outputs": [
        {
          "output_type": "stream",
          "name": "stdout",
          "text": [
            "My name is Sam\n",
            "My Age is 20\n"
          ]
        }
      ]
    },
    {
      "cell_type": "code",
      "source": [
        "rupees = 1000\n",
        "txt = f\"The price of the Shirt is {rupees}\"\n",
        "print(txt)"
      ],
      "metadata": {
        "colab": {
          "base_uri": "https://localhost:8080/"
        },
        "id": "cZ0ginh__kfE",
        "outputId": "4892c18a-e51a-42f3-d4f6-0c16810746d4"
      },
      "execution_count": null,
      "outputs": [
        {
          "output_type": "stream",
          "name": "stdout",
          "text": [
            "The price of the Shirt is 1000\n"
          ]
        }
      ]
    },
    {
      "cell_type": "code",
      "source": [
        "txt = \"We are so-called \\\"Indians\\\" fromn the south.\"\n",
        "print(txt)\n"
      ],
      "metadata": {
        "colab": {
          "base_uri": "https://localhost:8080/"
        },
        "id": "dypHo512_72B",
        "outputId": "ed8beb21-c915-4ef4-cfc5-2695e9b06a93"
      },
      "execution_count": null,
      "outputs": [
        {
          "output_type": "stream",
          "name": "stdout",
          "text": [
            "We are so-called \"Indians\" fromn the south.\n"
          ]
        }
      ]
    },
    {
      "cell_type": "code",
      "source": [
        "x = \"I am very Special\"\n",
        "print(len(x))"
      ],
      "metadata": {
        "colab": {
          "base_uri": "https://localhost:8080/"
        },
        "id": "yPPTUm5tAvW-",
        "outputId": "2ea34c40-c660-4ee1-8cfb-710502a74100"
      },
      "execution_count": null,
      "outputs": [
        {
          "output_type": "stream",
          "name": "stdout",
          "text": [
            "17\n"
          ]
        }
      ]
    },
    {
      "cell_type": "code",
      "source": [
        "print(10 > 9)\n",
        "print( 10 == 9)\n",
        "print(10 < 9)\n",
        "print(10!= 9)"
      ],
      "metadata": {
        "colab": {
          "base_uri": "https://localhost:8080/"
        },
        "id": "zjUGnfK6DYa0",
        "outputId": "4d255a40-af73-449c-85e2-45d87d0d190e"
      },
      "execution_count": null,
      "outputs": [
        {
          "output_type": "stream",
          "name": "stdout",
          "text": [
            "True\n",
            "False\n",
            "False\n",
            "True\n"
          ]
        }
      ]
    },
    {
      "cell_type": "code",
      "source": [
        "x = 143\n",
        "y = 200\n",
        "if y > x:\n",
        "  print(\"x is less than y\")\n",
        "else:\n",
        "  print(\"x is greater than y\")\n",
        "if x < 200 and y > 1000:\n",
        "  print(\"True\")\n",
        "else:\n",
        "  print(\"False\")\n",
        "if not(x < 200 and y < 100):\n",
        "  print(\"True\")\n",
        "else:\n",
        "  print(\"False\")\n",
        "if x is y:\n",
        "  print(\"True\")\n",
        "else:\n",
        "  print(\"Fasle\")\n",
        "print((9+3) - (6+3))\n",
        "print(100 + 5 * 3)"
      ],
      "metadata": {
        "colab": {
          "base_uri": "https://localhost:8080/"
        },
        "id": "JbvCh53GDtOc",
        "outputId": "24fb3486-cca7-4eb3-dfcc-6238ee7e420a"
      },
      "execution_count": null,
      "outputs": [
        {
          "output_type": "stream",
          "name": "stdout",
          "text": [
            "x is less than y\n",
            "False\n",
            "True\n",
            "Fasle\n",
            "3\n",
            "115\n"
          ]
        }
      ]
    },
    {
      "cell_type": "code",
      "source": [
        "print(bool(\"x\"))\n",
        "print(bool(y))\n",
        "print(bool(0))"
      ],
      "metadata": {
        "colab": {
          "base_uri": "https://localhost:8080/"
        },
        "id": "d0M7QognEKXi",
        "outputId": "936e27ac-f064-4e6d-e0e3-0cae00f3061e"
      },
      "execution_count": null,
      "outputs": [
        {
          "output_type": "stream",
          "name": "stdout",
          "text": [
            "True\n",
            "True\n",
            "False\n"
          ]
        }
      ]
    },
    {
      "cell_type": "code",
      "source": [
        "bool(\"siva\")\n",
        "bool('246')\n",
        "bool([\"Sita\", \"Maha\", \"Berry\"])\n",
        "bool([])"
      ],
      "metadata": {
        "id": "rM_V_z3UFK_C"
      },
      "execution_count": null,
      "outputs": []
    },
    {
      "cell_type": "code",
      "source": [
        "str_message = 'Sam has passed his SSLC Exam in 90% in his district.'\n",
        "print(str_message.find('Sam'))\n",
        "print(str_message.rfind('passed'))\n",
        "print(str_message.find('SSLC'))\n",
        "print(str_message.find('district', 20))"
      ],
      "metadata": {
        "colab": {
          "base_uri": "https://localhost:8080/"
        },
        "id": "LW2ksoFca1i5",
        "outputId": "2a923aac-f92b-446c-d2b6-540d07394cd8"
      },
      "execution_count": null,
      "outputs": [
        {
          "output_type": "stream",
          "name": "stdout",
          "text": [
            "0\n",
            "8\n",
            "19\n",
            "43\n"
          ]
        }
      ]
    },
    {
      "cell_type": "code",
      "source": [
        "import random\n",
        "random_num = random.random()\n",
        "print(random_num)"
      ],
      "metadata": {
        "id": "KpzV2mmUcUey",
        "outputId": "85fd69ee-170e-4f57-8c71-4244a35e60ce",
        "colab": {
          "base_uri": "https://localhost:8080/"
        }
      },
      "execution_count": null,
      "outputs": [
        {
          "output_type": "stream",
          "name": "stdout",
          "text": [
            "0.23781981698350318\n"
          ]
        }
      ]
    },
    {
      "cell_type": "code",
      "source": [
        "from random import randrange\n",
        "print(randrange(10))\n",
        "print(randrange(0,10))\n",
        "import random\n",
        "print(random.randint(0, 10))"
      ],
      "metadata": {
        "id": "_-Fz9OPldBMQ",
        "outputId": "8ac8e392-090e-444a-d43c-97cead3e80ec",
        "colab": {
          "base_uri": "https://localhost:8080/"
        }
      },
      "execution_count": null,
      "outputs": [
        {
          "output_type": "stream",
          "name": "stdout",
          "text": [
            "9\n",
            "4\n",
            "0\n"
          ]
        }
      ]
    },
    {
      "cell_type": "code",
      "source": [
        "import traceback\n",
        "path_in_pet = \"dummy.json\"\n",
        "try:\n",
        "  f = open(path_in_pet)\n",
        "except:\n",
        "  traceback.print_exc()"
      ],
      "metadata": {
        "id": "j89ZZf3gdVYQ",
        "outputId": "9fbe1882-2448-4bbd-dc99-aa22f9141e97",
        "colab": {
          "base_uri": "https://localhost:8080/"
        }
      },
      "execution_count": null,
      "outputs": [
        {
          "output_type": "stream",
          "name": "stderr",
          "text": [
            "Traceback (most recent call last):\n",
            "  File \"<ipython-input-24-6984b3b17708>\", line 4, in <cell line: 3>\n",
            "    f = open(path_in_pet)\n",
            "FileNotFoundError: [Errno 2] No such file or directory: 'dummy.json'\n"
          ]
        }
      ]
    },
    {
      "cell_type": "code",
      "source": [
        "import os\n",
        "\n",
        "directory = \"data\"\n",
        "file_name = \"data.txt\"\n",
        "print(\"is dir? \" + str(os.path.isdir(directory)))\n",
        "print(\"is file? \" + str(os.path.isfile(file_name)))\n",
        "print(\"does it exist? \" + str(os.path.exists(directory)))\n",
        "if os.path.isfile(file_name):\n",
        "  print(\"file size: \" + str(os.path.getsize(file_name)))\n",
        "else:\n",
        "  print(\"not a file to calculate size\")\n",
        "\n",
        "print(\"GET THREE DIFFERENT TYPE OF PATHS\")\n",
        "path_file = \"/Users/lenin/Downloads/data.txt\"\n",
        "print(os.path.basename(path_file))\n",
        "print(os.path.dirname(path_file))\n",
        "print(os.path.split(path_file))\n",
        "print(os.path.abspath(path_file))"
      ],
      "metadata": {
        "id": "zXO-mcDHdt2A",
        "outputId": "fa7dec83-9313-4c24-8aa7-267175e2a7b6",
        "colab": {
          "base_uri": "https://localhost:8080/"
        }
      },
      "execution_count": null,
      "outputs": [
        {
          "output_type": "stream",
          "name": "stdout",
          "text": [
            "is dir? False\n",
            "is file? False\n",
            "does it exist? False\n",
            "not a file to calculate size\n",
            "GET THREE DIFFERENT TYPE OF PATHS\n",
            "data.txt\n",
            "/Users/lenin/Downloads\n",
            "('/Users/lenin/Downloads', 'data.txt')\n",
            "/Users/lenin/Downloads/data.txt\n"
          ]
        }
      ]
    },
    {
      "cell_type": "code",
      "source": [
        "lst_boys = ['Velmurugan','Vetrivel','John Durairaj']\n",
        "lst_girls = ['Shivani','Subashini','Dharshini','Sara','Sita']\n",
        "no_of_girls = len(lst_girls)\n",
        "no_of_boys = len(lst_boys)\n",
        "print(no_of_boys)\n",
        "print(no_of_girls)"
      ],
      "metadata": {
        "colab": {
          "base_uri": "https://localhost:8080/"
        },
        "id": "BRuXtg01Rq8y",
        "outputId": "12ad4131-ecad-4197-afbc-8573c901e04f"
      },
      "execution_count": null,
      "outputs": [
        {
          "output_type": "stream",
          "name": "stdout",
          "text": [
            "3\n",
            "5\n"
          ]
        }
      ]
    },
    {
      "cell_type": "code",
      "source": [
        "lst_items = ['Tiggy','Tiger','Madurai']\n",
        "str = ','.join(lst_items)\n",
        "str2 = ' and '.join(lst_items)\n",
        "print(str)\n",
        "print(str2)"
      ],
      "metadata": {
        "colab": {
          "base_uri": "https://localhost:8080/"
        },
        "id": "Xq9C6D_PVdWQ",
        "outputId": "f701f7c0-071f-4e5c-9442-79b20fa9dede"
      },
      "execution_count": null,
      "outputs": [
        {
          "output_type": "stream",
          "name": "stdout",
          "text": [
            "Tiggy,Tiger,Madurai\n",
            "Tiggy and Tiger and Madurai\n"
          ]
        }
      ]
    },
    {
      "cell_type": "code",
      "source": [
        "import pandas as pd\n",
        "lst_boy = {\n",
        "    'Mech_boys': [\n",
        "        {'Name': 'Sam', 'age': 20},\n",
        "        {'Name': 'Vasu', 'age': 13}\n",
        "    ],\n",
        "    'Royal_boys': [{'Name': 'Sara', 'age': 20}]\n",
        "}\n",
        "data = []\n",
        "for Category, boys in lst_boy.items():\n",
        "    for boy in boys:\n",
        "        boy['Category'] = Category\n",
        "        data.append(boy)\n",
        "df = pd.DataFrame(data)\n",
        "print(df)"
      ],
      "metadata": {
        "colab": {
          "base_uri": "https://localhost:8080/"
        },
        "id": "3ngMa33Pshz2",
        "outputId": "a2deff39-dd6c-4f4f-9c0f-62812998a9a0"
      },
      "execution_count": null,
      "outputs": [
        {
          "output_type": "stream",
          "name": "stdout",
          "text": [
            "   Name  age    Category\n",
            "0   Sam   20   Mech_boys\n",
            "1  Vasu   13   Mech_boys\n",
            "2  Sara   20  Royal_boys\n"
          ]
        }
      ]
    },
    {
      "cell_type": "code",
      "source": [
        "df.columns = ['M', 'G', 'S']\n",
        "print(df)"
      ],
      "metadata": {
        "colab": {
          "base_uri": "https://localhost:8080/"
        },
        "id": "W-MsWhiCXDTg",
        "outputId": "c6360b62-eacc-4759-a509-2cac4d76f171"
      },
      "execution_count": null,
      "outputs": [
        {
          "output_type": "stream",
          "name": "stdout",
          "text": [
            "      M   G           S\n",
            "0   Sam  20   Mech_boys\n",
            "1  Vasu  13   Mech_boys\n",
            "2  Sara  20  Royal_boys\n"
          ]
        }
      ]
    },
    {
      "cell_type": "code",
      "source": [
        "df = df.drop(columns=['S'])\n",
        "print(df)"
      ],
      "metadata": {
        "colab": {
          "base_uri": "https://localhost:8080/"
        },
        "id": "adllh7CbXfCv",
        "outputId": "ef0bd5e9-6d59-4edb-a4f5-7363ffc8e20a"
      },
      "execution_count": null,
      "outputs": [
        {
          "output_type": "stream",
          "name": "stdout",
          "text": [
            "      M   G\n",
            "0   Sam  20\n",
            "1  Vasu  13\n",
            "2  Sara  20\n"
          ]
        }
      ]
    },
    {
      "cell_type": "code",
      "source": [
        "txt =\"     Sam \"\n",
        "str_clean = txt.strip()\n",
        "print(str_clean)\n",
        "print(f\"{str_clean} has cleared all of the papers in his VII Sem\")"
      ],
      "metadata": {
        "colab": {
          "base_uri": "https://localhost:8080/"
        },
        "id": "Hv3BM4cXYPOx",
        "outputId": "6efbc4d9-4131-44de-c022-0ffc510b5af4"
      },
      "execution_count": null,
      "outputs": [
        {
          "output_type": "stream",
          "name": "stdout",
          "text": [
            "Sam\n",
            "Sam has cleared all of the papers in his VII Sem\n"
          ]
        }
      ]
    },
    {
      "cell_type": "code",
      "source": [
        "set_names =()\n",
        "set_countries ={\"Darjeeling\", \"India\", \"Nepal\", \"India\", \"Beijing\"}\n",
        "set_age = [10, 20, 30, 60, 80]\n",
        "print(set_countries)\n",
        "print(set_age)"
      ],
      "metadata": {
        "colab": {
          "base_uri": "https://localhost:8080/"
        },
        "id": "9EOk6alUikDW",
        "outputId": "4ee820a6-1b90-42b1-9317-d8160f0fcdf7"
      },
      "execution_count": null,
      "outputs": [
        {
          "output_type": "stream",
          "name": "stdout",
          "text": [
            "{'Darjeeling', 'Nepal', 'Beijing', 'India'}\n",
            "[10, 20, 30, 60, 80]\n"
          ]
        }
      ]
    },
    {
      "cell_type": "code",
      "source": [
        "dict_data = {}\n",
        "dict_data['pet'] = []\n",
        "dict_data['pet'].append({\n",
        "    'name': 'Tiger',\n",
        "    'website': 'Tigo.com',\n",
        "    'from': 'India'\n",
        "})\n",
        "dict_data['pet'].append({\n",
        "    'name': 'Cat',\n",
        "    'website': 'Meow.com',\n",
        "    'from': 'Chicago'\n",
        "})\n",
        "print(dict_data)"
      ],
      "metadata": {
        "colab": {
          "base_uri": "https://localhost:8080/"
        },
        "id": "IUlBiOgelLFP",
        "outputId": "a08d0fbd-c944-495e-d4cf-bb03105eb66d"
      },
      "execution_count": null,
      "outputs": [
        {
          "output_type": "stream",
          "name": "stdout",
          "text": [
            "{'pet': [{'name': 'Tiger', 'website': 'Tigo.com', 'from': 'India'}, {'name': 'Cat', 'website': 'Meow.com', 'from': 'Chicago'}]}\n"
          ]
        }
      ]
    },
    {
      "cell_type": "code",
      "source": [
        "for key, value in dict_data.items():\n",
        "  print(key, \":\",value)"
      ],
      "metadata": {
        "colab": {
          "base_uri": "https://localhost:8080/"
        },
        "id": "bUQj0-fcnqUy",
        "outputId": "320e5a5e-6b24-42e1-bd0e-6d1c71c1e3b3"
      },
      "execution_count": null,
      "outputs": [
        {
          "output_type": "stream",
          "name": "stdout",
          "text": [
            "pet : [{'name': 'Tiger', 'website': 'Tigo.com', 'from': 'India'}, {'name': 'Cat', 'website': 'Meow.com', 'from': 'Chicago'}]\n"
          ]
        }
      ]
    },
    {
      "cell_type": "code",
      "source": [
        "import json\n",
        "print(json.dumps(dict_data))"
      ],
      "metadata": {
        "colab": {
          "base_uri": "https://localhost:8080/"
        },
        "id": "rDf0bmhXoDhi",
        "outputId": "e49a5a1b-910c-47a8-f966-bb12f84dbf3f"
      },
      "execution_count": null,
      "outputs": [
        {
          "output_type": "stream",
          "name": "stdout",
          "text": [
            "{\"pet\": [{\"name\": \"Tiger\", \"website\": \"Tigo.com\", \"from\": \"India\"}, {\"name\": \"Cat\", \"website\": \"Meow.com\", \"from\": \"Chicago\"}]}\n"
          ]
        }
      ]
    },
    {
      "cell_type": "code",
      "source": [
        "set1 = {2,4,6,8,20}\n",
        "set2 = {20,3,8,5,7}\n",
        "print(set1)\n",
        "print(set2)\n",
        "union_set = set1.union (set2)\n",
        "print(union_set)\n",
        "intersection_set = set1.intersection(set2)\n",
        "print(intersection_set)\n",
        "difference_set = set1 & set2\n",
        "print(difference_set)\n",
        "symmetric_difference_set = set1 ^ set2\n",
        "print(symmetric_difference_set)"
      ],
      "metadata": {
        "colab": {
          "base_uri": "https://localhost:8080/"
        },
        "id": "DrpO1q3hoOmE",
        "outputId": "1c22c6ad-de59-448e-8a91-badd5a9320e3"
      },
      "execution_count": null,
      "outputs": [
        {
          "output_type": "stream",
          "name": "stdout",
          "text": [
            "{2, 4, 20, 6, 8}\n",
            "{3, 20, 5, 7, 8}\n",
            "{2, 3, 4, 5, 6, 7, 8, 20}\n",
            "{8, 20}\n",
            "{8, 20}\n",
            "{2, 3, 5, 4, 7, 6}\n"
          ]
        }
      ]
    },
    {
      "cell_type": "code",
      "source": [
        "print(type(set1))\n",
        "print(type(set2))"
      ],
      "metadata": {
        "colab": {
          "base_uri": "https://localhost:8080/"
        },
        "id": "Jvhfo1aJpuqR",
        "outputId": "c33cb005-7d71-4681-ecd3-736cbb96e8e9"
      },
      "execution_count": null,
      "outputs": [
        {
          "output_type": "stream",
          "name": "stdout",
          "text": [
            "<class 'set'>\n",
            "<class 'set'>\n"
          ]
        }
      ]
    },
    {
      "cell_type": "code",
      "source": [
        "import json\n",
        "print(json.dumps(dict_data, indent=4))"
      ],
      "metadata": {
        "colab": {
          "base_uri": "https://localhost:8080/"
        },
        "id": "SnWzggWIp3Fr",
        "outputId": "90d3c1ec-de2a-4a29-ee51-fe7ff1b80eb4"
      },
      "execution_count": null,
      "outputs": [
        {
          "output_type": "stream",
          "name": "stdout",
          "text": [
            "{\n",
            "    \"pet\": [\n",
            "        {\n",
            "            \"name\": \"Tiger\",\n",
            "            \"website\": \"Tigo.com\",\n",
            "            \"from\": \"India\"\n",
            "        },\n",
            "        {\n",
            "            \"name\": \"Cat\",\n",
            "            \"website\": \"Meow.com\",\n",
            "            \"from\": \"Chicago\"\n",
            "        }\n",
            "    ]\n",
            "}\n"
          ]
        }
      ]
    },
    {
      "cell_type": "markdown",
      "source": [
        "***Round() [Round off the value]***"
      ],
      "metadata": {
        "id": "TJ-Ass1k3J6R"
      }
    },
    {
      "cell_type": "code",
      "source": [
        "x=2.5051\n",
        "print(round(x))\n",
        "print(round(60.67))"
      ],
      "metadata": {
        "colab": {
          "base_uri": "https://localhost:8080/"
        },
        "id": "yJ4TK3FT0-wp",
        "outputId": "aa04aa3a-d736-4edd-fc29-b1298b3ccd64"
      },
      "execution_count": null,
      "outputs": [
        {
          "output_type": "stream",
          "name": "stdout",
          "text": [
            "3\n",
            "61\n"
          ]
        }
      ]
    },
    {
      "cell_type": "markdown",
      "source": [
        "***divmod()***"
      ],
      "metadata": {
        "id": "S_UgWD3F3UWl"
      }
    },
    {
      "cell_type": "code",
      "source": [
        "print(divmod(37,6))\n",
        "quotient, remainder = (divmod(263,6))\n",
        "print(remainder)\n",
        "print(quotient)"
      ],
      "metadata": {
        "colab": {
          "base_uri": "https://localhost:8080/"
        },
        "id": "nTtpFW-I3IgG",
        "outputId": "e8ea90de-6781-452c-cc1a-230f9d6fa872"
      },
      "execution_count": null,
      "outputs": [
        {
          "output_type": "stream",
          "name": "stdout",
          "text": [
            "(6, 1)\n",
            "5\n",
            "43\n"
          ]
        }
      ]
    },
    {
      "cell_type": "code",
      "source": [
        "x = divmod(369,963)\n",
        "print(x)\n",
        "print(type(x))"
      ],
      "metadata": {
        "colab": {
          "base_uri": "https://localhost:8080/"
        },
        "id": "ltfeQLTj5Q-Q",
        "outputId": "ee182c06-80fc-42a7-fb19-ae59f21506ae"
      },
      "execution_count": null,
      "outputs": [
        {
          "output_type": "stream",
          "name": "stdout",
          "text": [
            "(0, 369)\n",
            "<class 'tuple'>\n"
          ]
        }
      ]
    },
    {
      "cell_type": "code",
      "source": [
        "x[0]\n",
        "print(type(x))"
      ],
      "metadata": {
        "colab": {
          "base_uri": "https://localhost:8080/"
        },
        "id": "tzW5Db_b5swU",
        "outputId": "68402c09-fab5-4e17-d80c-f51dbf05a51e"
      },
      "execution_count": null,
      "outputs": [
        {
          "output_type": "stream",
          "name": "stdout",
          "text": [
            "<class 'tuple'>\n"
          ]
        }
      ]
    },
    {
      "cell_type": "markdown",
      "source": [
        "***isinstance()***"
      ],
      "metadata": {
        "id": "5TalSC116tNV"
      }
    },
    {
      "cell_type": "code",
      "source": [
        "isinstance(2.545, float)\n",
        "isinstance(2, str)\n",
        "isinstance(3+7j, complex)\n",
        "isinstance(\"Sam\", str)"
      ],
      "metadata": {
        "colab": {
          "base_uri": "https://localhost:8080/"
        },
        "id": "3iY5PI9k6gQ4",
        "outputId": "0ad908c4-5fdd-4f3a-c016-d77f6ce67407"
      },
      "execution_count": null,
      "outputs": [
        {
          "output_type": "execute_result",
          "data": {
            "text/plain": [
              "True"
            ]
          },
          "metadata": {},
          "execution_count": 31
        }
      ]
    },
    {
      "cell_type": "markdown",
      "source": [
        "***pow()***"
      ],
      "metadata": {
        "id": "8z9Hmgwt9PR4"
      }
    },
    {
      "cell_type": "code",
      "source": [
        "a=12\n",
        "b=23\n",
        "print(pow(a,b))\n",
        "print(a+b)\n",
        "pow(2,9)"
      ],
      "metadata": {
        "colab": {
          "base_uri": "https://localhost:8080/"
        },
        "id": "IHtNWjH08xAc",
        "outputId": "0bd7e8ca-3df5-4796-f353-7e6c5d3d1b12"
      },
      "execution_count": null,
      "outputs": [
        {
          "output_type": "stream",
          "name": "stdout",
          "text": [
            "6624737266949237011120128\n",
            "35\n"
          ]
        },
        {
          "output_type": "execute_result",
          "data": {
            "text/plain": [
              "512"
            ]
          },
          "metadata": {},
          "execution_count": 34
        }
      ]
    },
    {
      "cell_type": "code",
      "source": [
        "a,b = 96,9\n",
        "print(divmod(a,b))\n",
        "print(a*b)\n",
        "print(a**b)\n",
        "print(a/b)\n",
        "print(type(a))\n",
        "print(a//b)\n",
        "print(a%b)\n",
        "print(a)\n",
        "print(b)"
      ],
      "metadata": {
        "colab": {
          "base_uri": "https://localhost:8080/"
        },
        "id": "ScMmL2maZOAx",
        "outputId": "02d4744d-65df-48ba-eefe-57502a9cec54"
      },
      "execution_count": null,
      "outputs": [
        {
          "output_type": "stream",
          "name": "stdout",
          "text": [
            "(10, 6)\n",
            "864\n",
            "692533995824480256\n",
            "10.666666666666666\n",
            "<class 'int'>\n",
            "10\n",
            "6\n",
            "96\n",
            "9\n"
          ]
        }
      ]
    },
    {
      "cell_type": "code",
      "source": [
        "tup=17890\n",
        "tup-=2004\n",
        "print(tup)\n",
        "pol=24\n",
        "pol-=42\n",
        "print(pol)\n",
        "pol*=87\n",
        "print(pol)\n",
        "pol//=60\n",
        "print(pol)"
      ],
      "metadata": {
        "colab": {
          "base_uri": "https://localhost:8080/"
        },
        "id": "oYImobgGanxO",
        "outputId": "874b369b-f884-409e-b764-137dcf73d157"
      },
      "execution_count": null,
      "outputs": [
        {
          "output_type": "stream",
          "name": "stdout",
          "text": [
            "15886\n",
            "-18\n",
            "-1566\n",
            "-27\n"
          ]
        }
      ]
    },
    {
      "cell_type": "code",
      "source": [
        "print(e)"
      ],
      "metadata": {
        "colab": {
          "base_uri": "https://localhost:8080/"
        },
        "id": "9Qo_8-Tcgow6",
        "outputId": "15145e5d-809c-4f22-ea84-dc229c22a71a"
      },
      "execution_count": null,
      "outputs": [
        {
          "output_type": "stream",
          "name": "stdout",
          "text": [
            " How are you my buddy ?\n"
          ]
        }
      ]
    },
    {
      "cell_type": "code",
      "source": [
        "a=(input(\"Enter your name \"))\n",
        "no=int(input(\"Enter your age \"))\n",
        "x=(input(\"Enter your gender, Native \"))\n",
        "y=(input(\"Enter your Institute Name \"))\n",
        "z=float(input(\"Enter your CGPA \"))\n",
        "i=(input(\"Put your Instagram Id here \"))"
      ],
      "metadata": {
        "colab": {
          "base_uri": "https://localhost:8080/"
        },
        "id": "_p82KVjWdf4x",
        "outputId": "f705929f-3c6d-44b9-a69e-5ea8bc3a03be"
      },
      "execution_count": null,
      "outputs": [
        {
          "name": "stdout",
          "output_type": "stream",
          "text": [
            "Enter your name GNANASAMBANTHAN M\n",
            "Enter your age 20\n",
            "Enter your gender, Native M, T.V.MALAI\n",
            "Enter your Institute Name ACGCET\n",
            "Enter your CGPA 8.00\n",
            "Put your Instagram Id here sam_siva_2k4\n"
          ]
        }
      ]
    },
    {
      "cell_type": "code",
      "source": [
        "help(divmod)"
      ],
      "metadata": {
        "colab": {
          "base_uri": "https://localhost:8080/"
        },
        "id": "xqhMUEoihQrj",
        "outputId": "9d553980-1233-44cd-ac1a-39f8446310a0"
      },
      "execution_count": null,
      "outputs": [
        {
          "output_type": "stream",
          "name": "stdout",
          "text": [
            "Help on built-in function divmod in module builtins:\n",
            "\n",
            "divmod(x, y, /)\n",
            "    Return the tuple (x//y, x%y).  Invariant: div*y + mod == x.\n",
            "\n"
          ]
        }
      ]
    },
    {
      "cell_type": "code",
      "source": [
        "a=int(input())\n",
        "b=int(input())\n",
        "if a>=b:\n",
        "  print(a)\n",
        "  print(\"Hlo Sam, Welcome by Tigo\")\n",
        "else:\n",
        "  print(b)\n",
        "  print('Nonsense, Calculate correctly')"
      ],
      "metadata": {
        "colab": {
          "base_uri": "https://localhost:8080/"
        },
        "id": "sirkbjJujeno",
        "outputId": "d086b9bd-ef71-4ac8-8b01-20b6c35585cc"
      },
      "execution_count": null,
      "outputs": [
        {
          "output_type": "stream",
          "name": "stdout",
          "text": [
            "20\n",
            "200\n",
            "200\n",
            "Nonsense, Calculate correctly\n"
          ]
        }
      ]
    },
    {
      "cell_type": "code",
      "source": [
        "a=int(input())\n",
        "b=int(input())\n",
        "if a<b:\n",
        "  print(a, \"Hey Sam, You are so cute\")\n",
        "elif a==b:\n",
        "  print(a,b, \"Wait for another choice\")\n",
        "else:\n",
        "  print(b, \"Hey Sam, Cool buddy, Why are you so Angry today ?\")"
      ],
      "metadata": {
        "colab": {
          "base_uri": "https://localhost:8080/"
        },
        "id": "0at17Vn0kg-F",
        "outputId": "700a8545-7584-44e3-840f-cf5e5a2f9dc9"
      },
      "execution_count": null,
      "outputs": [
        {
          "output_type": "stream",
          "name": "stdout",
          "text": [
            "2004\n",
            "100\n",
            "100 Hey Sam, Cool buddy, Why are you so Angry today ?\n"
          ]
        }
      ]
    },
    {
      "cell_type": "code",
      "source": [
        "s=int(input())\n",
        "g=int(input())\n",
        "print(s) if s>g else print(g)\n",
        "if s<g:\n",
        "  print(\"Put your pwd correctly\")"
      ],
      "metadata": {
        "colab": {
          "base_uri": "https://localhost:8080/"
        },
        "id": "BlovHT5elUcr",
        "outputId": "40ed1999-e150-4664-ac08-5dfce2d5b649"
      },
      "execution_count": null,
      "outputs": [
        {
          "output_type": "stream",
          "name": "stdout",
          "text": [
            "9\n",
            "6\n",
            "9\n"
          ]
        }
      ]
    },
    {
      "cell_type": "code",
      "source": [
        "if s<g:\n",
        "  print(\"Vanakkam\")\n",
        "  if s>30:\n",
        "    print(\"What are you doing here ?\")\n",
        "else:\n",
        "  print(\"Bye Bye\")"
      ],
      "metadata": {
        "colab": {
          "base_uri": "https://localhost:8080/"
        },
        "id": "oGgLCwX7mavF",
        "outputId": "29b5be84-5204-4388-8037-529d8a15a5b5"
      },
      "execution_count": null,
      "outputs": [
        {
          "output_type": "stream",
          "name": "stdout",
          "text": [
            "Bye Bye\n"
          ]
        }
      ]
    },
    {
      "cell_type": "code",
      "source": [
        "y=int(input())\n",
        "i=2\n",
        "while i<=y:\n",
        "  print(i)\n",
        "  i+=1\n",
        "  print(\"Ok\")"
      ],
      "metadata": {
        "id": "sBoaCpweoLqC",
        "colab": {
          "base_uri": "https://localhost:8080/"
        },
        "outputId": "c1e124bb-3d28-44b5-c695-3869f882d333"
      },
      "execution_count": null,
      "outputs": [
        {
          "output_type": "stream",
          "name": "stdout",
          "text": [
            "20\n",
            "2\n",
            "Ok\n",
            "3\n",
            "Ok\n",
            "4\n",
            "Ok\n",
            "5\n",
            "Ok\n",
            "6\n",
            "Ok\n",
            "7\n",
            "Ok\n",
            "8\n",
            "Ok\n",
            "9\n",
            "Ok\n",
            "10\n",
            "Ok\n",
            "11\n",
            "Ok\n",
            "12\n",
            "Ok\n",
            "13\n",
            "Ok\n",
            "14\n",
            "Ok\n",
            "15\n",
            "Ok\n",
            "16\n",
            "Ok\n",
            "17\n",
            "Ok\n",
            "18\n",
            "Ok\n",
            "19\n",
            "Ok\n",
            "20\n",
            "Ok\n"
          ]
        }
      ]
    },
    {
      "cell_type": "code",
      "source": [
        "l=int(input())\n",
        "i=2\n",
        "while i>=1:\n",
        "  print(i)\n",
        "  i-=1\n",
        "  print(\"Ok\")"
      ],
      "metadata": {
        "colab": {
          "base_uri": "https://localhost:8080/"
        },
        "id": "1O8rLoaMGDqu",
        "outputId": "6d1710d1-5a75-4af1-e46b-939b8b137e24"
      },
      "execution_count": null,
      "outputs": [
        {
          "output_type": "stream",
          "name": "stdout",
          "text": [
            "4\n",
            "2\n",
            "Ok\n",
            "1\n",
            "Ok\n"
          ]
        }
      ]
    },
    {
      "cell_type": "code",
      "source": [
        "f=int(input())\n",
        "i=2\n",
        "while i<=f:\n",
        "  if i%4==0:\n",
        "    print(i)\n",
        "  else:\n",
        "    print(\"Grade\")\n",
        "  i+=6\n",
        "print(\"Tested\")"
      ],
      "metadata": {
        "colab": {
          "base_uri": "https://localhost:8080/"
        },
        "id": "wJCvqB-YGYAx",
        "outputId": "ebeb6451-c1c4-47a1-8481-107c5ee2dc3c"
      },
      "execution_count": null,
      "outputs": [
        {
          "output_type": "stream",
          "name": "stdout",
          "text": [
            "3\n",
            "Grade\n",
            "Tested\n"
          ]
        }
      ]
    },
    {
      "cell_type": "code",
      "source": [
        "y=2\n",
        "while True:\n",
        "  if i%16==0:\n",
        "    print('break')\n",
        "    break\n",
        "  else:\n",
        "    i+=2\n",
        "print(\"Charged\")"
      ],
      "metadata": {
        "colab": {
          "base_uri": "https://localhost:8080/"
        },
        "id": "T03JtMyFPt2-",
        "outputId": "8e944449-f2e9-43c7-81d8-6386ce97ddc4"
      },
      "execution_count": null,
      "outputs": [
        {
          "output_type": "stream",
          "name": "stdout",
          "text": [
            "break\n",
            "Charged\n"
          ]
        }
      ]
    },
    {
      "cell_type": "code",
      "source": [
        "n=20\n",
        "i=2\n",
        "while True:\n",
        "  if i%16==0:\n",
        "    print(\"Yeah\")\n",
        "    break\n",
        "  else:\n",
        "    print(\"Nope\")\n",
        "    i=i+2\n",
        "print(\"Correct\")\n"
      ],
      "metadata": {
        "colab": {
          "base_uri": "https://localhost:8080/"
        },
        "id": "l5YpjxwKQFep",
        "outputId": "8a91c9a2-d0dc-416e-e573-b37453348504"
      },
      "execution_count": null,
      "outputs": [
        {
          "output_type": "stream",
          "name": "stdout",
          "text": [
            "Nope\n",
            "Nope\n",
            "Nope\n",
            "Nope\n",
            "Nope\n",
            "Nope\n",
            "Nope\n",
            "Yeah\n",
            "Correct\n"
          ]
        }
      ]
    },
    {
      "cell_type": "code",
      "source": [
        "list=[]\n",
        "for i in range(20):\n",
        "  print(i+1)\n",
        "  list.append(i)\n",
        "print(list)"
      ],
      "metadata": {
        "colab": {
          "base_uri": "https://localhost:8080/"
        },
        "id": "x-EMxXULQhMu",
        "outputId": "c5d1fe44-2778-42b6-857e-5160e12f2454"
      },
      "execution_count": null,
      "outputs": [
        {
          "output_type": "stream",
          "name": "stdout",
          "text": [
            "1\n",
            "2\n",
            "3\n",
            "4\n",
            "5\n",
            "6\n",
            "7\n",
            "8\n",
            "9\n",
            "10\n",
            "11\n",
            "12\n",
            "13\n",
            "14\n",
            "15\n",
            "16\n",
            "17\n",
            "18\n",
            "19\n",
            "20\n",
            "[0, 1, 2, 3, 4, 5, 6, 7, 8, 9, 10, 11, 12, 13, 14, 15, 16, 17, 18, 19]\n"
          ]
        }
      ]
    },
    {
      "cell_type": "code",
      "source": [
        "ab={\"Tiger\", \"Lion\", \"Cat\"}\n",
        "for Cat in ab:\n",
        "  print(\"Elephant\")\n",
        "  i+=1\n",
        "  if i==3:\n",
        "    break\n",
        "  else:\n",
        "    pass\n",
        "else:\n",
        "  print(\"Elephant is the biggest animal\")"
      ],
      "metadata": {
        "colab": {
          "base_uri": "https://localhost:8080/"
        },
        "id": "xfOm4-8YRDJA",
        "outputId": "deb22ff5-835c-4a4b-de55-60ddede6257d"
      },
      "execution_count": null,
      "outputs": [
        {
          "output_type": "stream",
          "name": "stdout",
          "text": [
            "Elephant\n",
            "Elephant\n",
            "Elephant\n",
            "Elephant is the biggest animal\n"
          ]
        }
      ]
    },
    {
      "cell_type": "code",
      "source": [
        "x=range(6)\n",
        "print(x)\n",
        "print(list(x))"
      ],
      "metadata": {
        "id": "8cT20DTv_0dw",
        "colab": {
          "base_uri": "https://localhost:8080/"
        },
        "outputId": "4cc083f2-f5e3-4d1e-a16a-98c6dbe32296"
      },
      "execution_count": null,
      "outputs": [
        {
          "output_type": "stream",
          "name": "stdout",
          "text": [
            "range(0, 6)\n",
            "[0, 1, 2, 3, 4, 5]\n"
          ]
        }
      ]
    },
    {
      "cell_type": "code",
      "source": [
        "price = 24\n",
        "txt = f\"The price is {price} in rupees\"\n",
        "print(txt)\n",
        "thislist = [\"apple\", \"banana\", \"cherry\", \"strawberry\", \"orange\", \"mango\", \"watermelon\"]\n",
        "print(thislist)\n",
        "print(len(thislist))\n",
        "print(type(thislist))\n",
        "print(thislist[1])\n",
        "print(thislist[-1])\n",
        "print(thislist[2:7])\n",
        "print(thislist[3:5])\n",
        "print(thislist[:4])\n",
        "thislist[1] = \"Blackberry\"\n",
        "print(thislist)\n",
        "thislist[1:3] = [\"Kiwi\", \"Coriander\"]\n",
        "print(thislist)\n",
        "thislist[2:3] = [\"Vannila\"]\n",
        "print(thislist)"
      ],
      "metadata": {
        "colab": {
          "base_uri": "https://localhost:8080/"
        },
        "id": "OJEjjy-kqH0l",
        "outputId": "379fb058-3e1a-46ae-8a42-73eba17acdc7"
      },
      "execution_count": null,
      "outputs": [
        {
          "output_type": "stream",
          "name": "stdout",
          "text": [
            "The price is 24 in rupees\n",
            "['apple', 'banana', 'cherry', 'strawberry', 'orange', 'mango', 'watermelon']\n",
            "7\n",
            "<class 'list'>\n",
            "banana\n",
            "watermelon\n",
            "['cherry', 'strawberry', 'orange', 'mango', 'watermelon']\n",
            "['strawberry', 'orange']\n",
            "['apple', 'banana', 'cherry', 'strawberry']\n",
            "['apple', 'Blackberry', 'cherry', 'strawberry', 'orange', 'mango', 'watermelon']\n",
            "['apple', 'Kiwi', 'Coriander', 'strawberry', 'orange', 'mango', 'watermelon']\n",
            "['apple', 'Kiwi', 'Vannila', 'strawberry', 'orange', 'mango', 'watermelon']\n"
          ]
        }
      ]
    },
    {
      "cell_type": "code",
      "source": [
        "thislist = [\"Banana\", \"Melons\"]\n",
        "thislist.insert(2,\"Cadburry\")\n",
        "print(thislist)"
      ],
      "metadata": {
        "colab": {
          "base_uri": "https://localhost:8080/"
        },
        "id": "kdsEmQI3tsXO",
        "outputId": "cfbd4ac4-5c50-48a8-8943-55f524b7806a"
      },
      "execution_count": null,
      "outputs": [
        {
          "output_type": "stream",
          "name": "stdout",
          "text": [
            "['Banana', 'Melons', 'Cadburry']\n"
          ]
        }
      ]
    },
    {
      "cell_type": "code",
      "source": [
        "Can = [\"mango\", \"Pineapple\"]\n",
        "thislist.extend(Can)\n",
        "print(thislist)"
      ],
      "metadata": {
        "colab": {
          "base_uri": "https://localhost:8080/"
        },
        "id": "5wYD_ja1M5J8",
        "outputId": "fcbaf53c-d7fe-4a11-f781-af40fbef9004"
      },
      "execution_count": null,
      "outputs": [
        {
          "output_type": "stream",
          "name": "stdout",
          "text": [
            "['Banana', 'Melons', 'Cadburry', 'mango', 'Pineapple']\n"
          ]
        }
      ]
    },
    {
      "cell_type": "code",
      "source": [
        "tuple = (\"Annachi\", \"Ajmal\")\n",
        "thislist.extend(tuple)\n",
        "print(thislist)\n",
        "for x in thislist:\n",
        "  print(x)\n",
        "for i in range(len(thislist)):\n",
        "  print(thislist[i])\n",
        "thislist.remove(\"Ajmal\")\n",
        "print(thislist)\n",
        "del thislist[2:6]\n",
        "print(thislist)\n",
        "thislist.clear()\n",
        "print(thislist)"
      ],
      "metadata": {
        "colab": {
          "base_uri": "https://localhost:8080/"
        },
        "id": "JNbEWUpfNTUG",
        "outputId": "6332452a-d4a0-43ca-dfb8-39c1d11d700a"
      },
      "execution_count": null,
      "outputs": [
        {
          "output_type": "stream",
          "name": "stdout",
          "text": [
            "['Annachi', 'Annachi', 'Ajmal']\n",
            "Annachi\n",
            "Annachi\n",
            "Ajmal\n",
            "Annachi\n",
            "Annachi\n",
            "Ajmal\n",
            "['Annachi', 'Annachi']\n",
            "['Annachi', 'Annachi']\n",
            "[]\n"
          ]
        }
      ]
    },
    {
      "cell_type": "code",
      "source": [
        "category = (\"Shoes\", \"Socks\", \"Leather Belt\", \"Bag\")\n",
        "for i in range(len(category)):\n",
        "  print(category)\n",
        "i = 2\n",
        "while i < len(category):\n",
        "  print(category[i])\n",
        "  i = i + 1\n",
        "[print(i) for i in category]"
      ],
      "metadata": {
        "colab": {
          "base_uri": "https://localhost:8080/"
        },
        "id": "xmE48uHpN1Su",
        "outputId": "731e9924-3078-48c8-bcc4-d55f2d310ed0"
      },
      "execution_count": null,
      "outputs": [
        {
          "output_type": "stream",
          "name": "stdout",
          "text": [
            "('Shoes', 'Socks', 'Leather Belt', 'Bag')\n",
            "('Shoes', 'Socks', 'Leather Belt', 'Bag')\n",
            "('Shoes', 'Socks', 'Leather Belt', 'Bag')\n",
            "('Shoes', 'Socks', 'Leather Belt', 'Bag')\n",
            "Leather Belt\n",
            "Bag\n",
            "Shoes\n",
            "Socks\n",
            "Leather Belt\n",
            "Bag\n"
          ]
        },
        {
          "output_type": "execute_result",
          "data": {
            "text/plain": [
              "[None, None, None, None]"
            ]
          },
          "metadata": {},
          "execution_count": 44
        }
      ]
    },
    {
      "cell_type": "code",
      "source": [
        "import pandas as pd\n",
        "df = pd.DataFrame()\n",
        "print(df)"
      ],
      "metadata": {
        "colab": {
          "base_uri": "https://localhost:8080/"
        },
        "id": "6EccGIajcmiJ",
        "outputId": "cb7be6eb-a120-41b5-b3d7-5f38979e835f"
      },
      "execution_count": null,
      "outputs": [
        {
          "output_type": "stream",
          "name": "stdout",
          "text": [
            "Empty DataFrame\n",
            "Columns: []\n",
            "Index: []\n"
          ]
        }
      ]
    },
    {
      "cell_type": "code",
      "source": [
        "import pandas as pd\n",
        "lst = ['English', 'is', 'the', 'communication', 'language']\n",
        "df = pd.DataFrame(lst)\n",
        "print(df)"
      ],
      "metadata": {
        "colab": {
          "base_uri": "https://localhost:8080/"
        },
        "id": "VevlWxPIqz7M",
        "outputId": "3feb3f73-b8e6-4a5d-ae2a-03091a024877"
      },
      "execution_count": 10,
      "outputs": [
        {
          "output_type": "stream",
          "name": "stdout",
          "text": [
            "               0\n",
            "0        English\n",
            "1             is\n",
            "2            the\n",
            "3  communication\n",
            "4       language\n"
          ]
        }
      ]
    },
    {
      "cell_type": "code",
      "source": [
        "data = {'Name':['Siva', 'Subashini', 'Dharshini', 'Priya'],\n",
        "        'Age':[20, 18, 18, 17],\n",
        "        'Address':['Darjeeling', 'Denmark', 'NewYork', 'California'],\n",
        "        'Qualification':['B.A', 'B.Sc', 'HSC II Year', 'SSLC']}\n",
        "df = pd.DataFrame(data)\n",
        "print(df)\n",
        "df['Age'].value_counts()\n",
        "df.groupby('Age').count()\n",
        "df2 = df.groupby('Age').count()\n",
        "print(df2)"
      ],
      "metadata": {
        "colab": {
          "base_uri": "https://localhost:8080/"
        },
        "id": "rjhAwpnywPu7",
        "outputId": "3a449740-4e68-4f8c-daa4-45b174c4bd4d"
      },
      "execution_count": 52,
      "outputs": [
        {
          "output_type": "stream",
          "name": "stdout",
          "text": [
            "        Name  Age     Address Qualification\n",
            "0       Siva   20  Darjeeling           B.A\n",
            "1  Subashini   18     Denmark          B.Sc\n",
            "2  Dharshini   18     NewYork   HSC II Year\n",
            "3      Priya   17  California          SSLC\n",
            "     Name  Address  Qualification\n",
            "Age                              \n",
            "17      1        1              1\n",
            "18      2        2              2\n",
            "20      1        1              1\n"
          ]
        }
      ]
    },
    {
      "cell_type": "code",
      "source": [
        "df_new = df.groupby(\"Name\").count()\n",
        "print(df_new)"
      ],
      "metadata": {
        "colab": {
          "base_uri": "https://localhost:8080/"
        },
        "id": "A0rK7Lu_wvHM",
        "outputId": "d5124d0b-72b6-4bed-ba32-88e6f62a3ddb"
      },
      "execution_count": 26,
      "outputs": [
        {
          "output_type": "stream",
          "name": "stdout",
          "text": [
            "           Age\n",
            "Name          \n",
            "Cyndrella    1\n",
            "Sam          1\n",
            "Sara         1\n",
            "Vijay        1\n"
          ]
        }
      ]
    },
    {
      "cell_type": "code",
      "source": [
        "df[0:10]\n",
        "df.dropna()\n",
        "df.dropna(inplace=True)\n",
        "df.fillna\n",
        "df_new = df.dropna(axis=1)\n",
        "df_new = df.fillna(130)\n",
        "print(df_new)"
      ],
      "metadata": {
        "colab": {
          "base_uri": "https://localhost:8080/"
        },
        "id": "Httuy6eQ0gh4",
        "outputId": "ed119617-2c01-416d-898c-809e71ae3dc9"
      },
      "execution_count": 47,
      "outputs": [
        {
          "output_type": "stream",
          "name": "stdout",
          "text": [
            "        Name\n",
            "0        Sam\n",
            "1       Sara\n",
            "2  Cyndrella\n",
            "3      Vijay\n"
          ]
        }
      ]
    },
    {
      "cell_type": "code",
      "source": [
        "old_names = ['Sam', 'Sara', 'Vijay', 'Cyndrella']\n",
        "new_names = ['Siva', 'Ajay', 'Lokesh', 'Aswin']\n",
        "df.replace(old_names,new_names)\n",
        "print(df)"
      ],
      "metadata": {
        "colab": {
          "base_uri": "https://localhost:8080/"
        },
        "id": "MBYmxG1C3Kqf",
        "outputId": "dbecadfd-aaac-4ec4-cc3c-a045d3d04f23"
      },
      "execution_count": 54,
      "outputs": [
        {
          "output_type": "stream",
          "name": "stdout",
          "text": [
            "        Name  Age     Address Qualification\n",
            "0       Siva   20  Darjeeling           B.A\n",
            "1  Subashini   18     Denmark          B.Sc\n",
            "2  Dharshini   18     NewYork   HSC II Year\n",
            "3      Priya   17  California          SSLC\n"
          ]
        }
      ]
    },
    {
      "cell_type": "code",
      "source": [
        "data = {'Name':['Sam', 'Sara', 'Cyndrella', 'Vijay'], 'Age':[20, 20, 18, 22]}\n",
        "old_names = ['Sam', 'Sara', 'Vijay', 'Cyndrella']\n",
        "new_names = ['Siva', 'Ajay', 'Lokesh', 'Aswin']\n",
        "df.replace(old_names,new_names)\n",
        "print(df)"
      ],
      "metadata": {
        "colab": {
          "base_uri": "https://localhost:8080/"
        },
        "id": "H4r_GPPm36eG",
        "outputId": "0acf2732-a2f1-4be1-ff59-62427374a343"
      },
      "execution_count": 57,
      "outputs": [
        {
          "output_type": "stream",
          "name": "stdout",
          "text": [
            "        Name  Age     Address Qualification\n",
            "0       Siva   20  Darjeeling           B.A\n",
            "1  Subashini   18     Denmark          B.Sc\n",
            "2  Dharshini   18     NewYork   HSC II Year\n",
            "3      Priya   17  California          SSLC\n"
          ]
        }
      ]
    },
    {
      "cell_type": "code",
      "source": [
        "data = {'Name':['Siva', 'Subashini', 'Dharshini', 'Priya'],\n",
        "        'Age':[20, 18, 18, 17],\n",
        "        'Address':['Darjeeling', 'Denmark', 'NewYork', 'California'],\n",
        "        'Qualification':['B.A', 'B.Sc', 'HSC II Year', 'SSLC']}\n",
        "df = pd.DataFrame(data)\n",
        "print(df[['Name', 'Qualification']])\n",
        "data = pd.read_csv(\"/us-counties.csv\", index_col =\"Name\")\n",
        "first = data.lov[\"Avery Bradley\"]\n",
        "second = data.loc[\"R.J. Hunter\"]\n",
        "print(first, \"\\n\\n\\n\", second)"
      ],
      "metadata": {
        "colab": {
          "base_uri": "https://localhost:8080/",
          "height": 497
        },
        "id": "lcHD12fl8Cnk",
        "outputId": "c57f9a54-fe31-41e1-81ef-dadc2179af3e"
      },
      "execution_count": 60,
      "outputs": [
        {
          "output_type": "stream",
          "name": "stdout",
          "text": [
            "        Name Qualification\n",
            "0       Siva           B.A\n",
            "1  Subashini          B.Sc\n",
            "2  Dharshini   HSC II Year\n",
            "3      Priya          SSLC\n"
          ]
        },
        {
          "output_type": "error",
          "ename": "FileNotFoundError",
          "evalue": "[Errno 2] No such file or directory: '/us-counties.csv'",
          "traceback": [
            "\u001b[0;31m---------------------------------------------------------------------------\u001b[0m",
            "\u001b[0;31mFileNotFoundError\u001b[0m                         Traceback (most recent call last)",
            "\u001b[0;32m<ipython-input-60-0601584a4a43>\u001b[0m in \u001b[0;36m<cell line: 7>\u001b[0;34m()\u001b[0m\n\u001b[1;32m      5\u001b[0m \u001b[0mdf\u001b[0m \u001b[0;34m=\u001b[0m \u001b[0mpd\u001b[0m\u001b[0;34m.\u001b[0m\u001b[0mDataFrame\u001b[0m\u001b[0;34m(\u001b[0m\u001b[0mdata\u001b[0m\u001b[0;34m)\u001b[0m\u001b[0;34m\u001b[0m\u001b[0;34m\u001b[0m\u001b[0m\n\u001b[1;32m      6\u001b[0m \u001b[0mprint\u001b[0m\u001b[0;34m(\u001b[0m\u001b[0mdf\u001b[0m\u001b[0;34m[\u001b[0m\u001b[0;34m[\u001b[0m\u001b[0;34m'Name'\u001b[0m\u001b[0;34m,\u001b[0m \u001b[0;34m'Qualification'\u001b[0m\u001b[0;34m]\u001b[0m\u001b[0;34m]\u001b[0m\u001b[0;34m)\u001b[0m\u001b[0;34m\u001b[0m\u001b[0;34m\u001b[0m\u001b[0m\n\u001b[0;32m----> 7\u001b[0;31m \u001b[0mdata\u001b[0m \u001b[0;34m=\u001b[0m \u001b[0mpd\u001b[0m\u001b[0;34m.\u001b[0m\u001b[0mread_csv\u001b[0m\u001b[0;34m(\u001b[0m\u001b[0;34m\"/us-counties.csv\"\u001b[0m\u001b[0;34m,\u001b[0m \u001b[0mindex_col\u001b[0m \u001b[0;34m=\u001b[0m\u001b[0;34m\"Name\"\u001b[0m\u001b[0;34m)\u001b[0m\u001b[0;34m\u001b[0m\u001b[0;34m\u001b[0m\u001b[0m\n\u001b[0m\u001b[1;32m      8\u001b[0m \u001b[0mfirst\u001b[0m \u001b[0;34m=\u001b[0m \u001b[0mdata\u001b[0m\u001b[0;34m.\u001b[0m\u001b[0mlov\u001b[0m\u001b[0;34m[\u001b[0m\u001b[0;34m\"Avery Bradley\"\u001b[0m\u001b[0;34m]\u001b[0m\u001b[0;34m\u001b[0m\u001b[0;34m\u001b[0m\u001b[0m\n\u001b[1;32m      9\u001b[0m \u001b[0msecond\u001b[0m \u001b[0;34m=\u001b[0m \u001b[0mdata\u001b[0m\u001b[0;34m.\u001b[0m\u001b[0mloc\u001b[0m\u001b[0;34m[\u001b[0m\u001b[0;34m\"R.J. Hunter\"\u001b[0m\u001b[0;34m]\u001b[0m\u001b[0;34m\u001b[0m\u001b[0;34m\u001b[0m\u001b[0m\n",
            "\u001b[0;32m/usr/local/lib/python3.10/dist-packages/pandas/io/parsers/readers.py\u001b[0m in \u001b[0;36mread_csv\u001b[0;34m(filepath_or_buffer, sep, delimiter, header, names, index_col, usecols, dtype, engine, converters, true_values, false_values, skipinitialspace, skiprows, skipfooter, nrows, na_values, keep_default_na, na_filter, verbose, skip_blank_lines, parse_dates, infer_datetime_format, keep_date_col, date_parser, date_format, dayfirst, cache_dates, iterator, chunksize, compression, thousands, decimal, lineterminator, quotechar, quoting, doublequote, escapechar, comment, encoding, encoding_errors, dialect, on_bad_lines, delim_whitespace, low_memory, memory_map, float_precision, storage_options, dtype_backend)\u001b[0m\n\u001b[1;32m    946\u001b[0m     \u001b[0mkwds\u001b[0m\u001b[0;34m.\u001b[0m\u001b[0mupdate\u001b[0m\u001b[0;34m(\u001b[0m\u001b[0mkwds_defaults\u001b[0m\u001b[0;34m)\u001b[0m\u001b[0;34m\u001b[0m\u001b[0;34m\u001b[0m\u001b[0m\n\u001b[1;32m    947\u001b[0m \u001b[0;34m\u001b[0m\u001b[0m\n\u001b[0;32m--> 948\u001b[0;31m     \u001b[0;32mreturn\u001b[0m \u001b[0m_read\u001b[0m\u001b[0;34m(\u001b[0m\u001b[0mfilepath_or_buffer\u001b[0m\u001b[0;34m,\u001b[0m \u001b[0mkwds\u001b[0m\u001b[0;34m)\u001b[0m\u001b[0;34m\u001b[0m\u001b[0;34m\u001b[0m\u001b[0m\n\u001b[0m\u001b[1;32m    949\u001b[0m \u001b[0;34m\u001b[0m\u001b[0m\n\u001b[1;32m    950\u001b[0m \u001b[0;34m\u001b[0m\u001b[0m\n",
            "\u001b[0;32m/usr/local/lib/python3.10/dist-packages/pandas/io/parsers/readers.py\u001b[0m in \u001b[0;36m_read\u001b[0;34m(filepath_or_buffer, kwds)\u001b[0m\n\u001b[1;32m    609\u001b[0m \u001b[0;34m\u001b[0m\u001b[0m\n\u001b[1;32m    610\u001b[0m     \u001b[0;31m# Create the parser.\u001b[0m\u001b[0;34m\u001b[0m\u001b[0;34m\u001b[0m\u001b[0m\n\u001b[0;32m--> 611\u001b[0;31m     \u001b[0mparser\u001b[0m \u001b[0;34m=\u001b[0m \u001b[0mTextFileReader\u001b[0m\u001b[0;34m(\u001b[0m\u001b[0mfilepath_or_buffer\u001b[0m\u001b[0;34m,\u001b[0m \u001b[0;34m**\u001b[0m\u001b[0mkwds\u001b[0m\u001b[0;34m)\u001b[0m\u001b[0;34m\u001b[0m\u001b[0;34m\u001b[0m\u001b[0m\n\u001b[0m\u001b[1;32m    612\u001b[0m \u001b[0;34m\u001b[0m\u001b[0m\n\u001b[1;32m    613\u001b[0m     \u001b[0;32mif\u001b[0m \u001b[0mchunksize\u001b[0m \u001b[0;32mor\u001b[0m \u001b[0miterator\u001b[0m\u001b[0;34m:\u001b[0m\u001b[0;34m\u001b[0m\u001b[0;34m\u001b[0m\u001b[0m\n",
            "\u001b[0;32m/usr/local/lib/python3.10/dist-packages/pandas/io/parsers/readers.py\u001b[0m in \u001b[0;36m__init__\u001b[0;34m(self, f, engine, **kwds)\u001b[0m\n\u001b[1;32m   1446\u001b[0m \u001b[0;34m\u001b[0m\u001b[0m\n\u001b[1;32m   1447\u001b[0m         \u001b[0mself\u001b[0m\u001b[0;34m.\u001b[0m\u001b[0mhandles\u001b[0m\u001b[0;34m:\u001b[0m \u001b[0mIOHandles\u001b[0m \u001b[0;34m|\u001b[0m \u001b[0;32mNone\u001b[0m \u001b[0;34m=\u001b[0m \u001b[0;32mNone\u001b[0m\u001b[0;34m\u001b[0m\u001b[0;34m\u001b[0m\u001b[0m\n\u001b[0;32m-> 1448\u001b[0;31m         \u001b[0mself\u001b[0m\u001b[0;34m.\u001b[0m\u001b[0m_engine\u001b[0m \u001b[0;34m=\u001b[0m \u001b[0mself\u001b[0m\u001b[0;34m.\u001b[0m\u001b[0m_make_engine\u001b[0m\u001b[0;34m(\u001b[0m\u001b[0mf\u001b[0m\u001b[0;34m,\u001b[0m \u001b[0mself\u001b[0m\u001b[0;34m.\u001b[0m\u001b[0mengine\u001b[0m\u001b[0;34m)\u001b[0m\u001b[0;34m\u001b[0m\u001b[0;34m\u001b[0m\u001b[0m\n\u001b[0m\u001b[1;32m   1449\u001b[0m \u001b[0;34m\u001b[0m\u001b[0m\n\u001b[1;32m   1450\u001b[0m     \u001b[0;32mdef\u001b[0m \u001b[0mclose\u001b[0m\u001b[0;34m(\u001b[0m\u001b[0mself\u001b[0m\u001b[0;34m)\u001b[0m \u001b[0;34m->\u001b[0m \u001b[0;32mNone\u001b[0m\u001b[0;34m:\u001b[0m\u001b[0;34m\u001b[0m\u001b[0;34m\u001b[0m\u001b[0m\n",
            "\u001b[0;32m/usr/local/lib/python3.10/dist-packages/pandas/io/parsers/readers.py\u001b[0m in \u001b[0;36m_make_engine\u001b[0;34m(self, f, engine)\u001b[0m\n\u001b[1;32m   1703\u001b[0m                 \u001b[0;32mif\u001b[0m \u001b[0;34m\"b\"\u001b[0m \u001b[0;32mnot\u001b[0m \u001b[0;32min\u001b[0m \u001b[0mmode\u001b[0m\u001b[0;34m:\u001b[0m\u001b[0;34m\u001b[0m\u001b[0;34m\u001b[0m\u001b[0m\n\u001b[1;32m   1704\u001b[0m                     \u001b[0mmode\u001b[0m \u001b[0;34m+=\u001b[0m \u001b[0;34m\"b\"\u001b[0m\u001b[0;34m\u001b[0m\u001b[0;34m\u001b[0m\u001b[0m\n\u001b[0;32m-> 1705\u001b[0;31m             self.handles = get_handle(\n\u001b[0m\u001b[1;32m   1706\u001b[0m                 \u001b[0mf\u001b[0m\u001b[0;34m,\u001b[0m\u001b[0;34m\u001b[0m\u001b[0;34m\u001b[0m\u001b[0m\n\u001b[1;32m   1707\u001b[0m                 \u001b[0mmode\u001b[0m\u001b[0;34m,\u001b[0m\u001b[0;34m\u001b[0m\u001b[0;34m\u001b[0m\u001b[0m\n",
            "\u001b[0;32m/usr/local/lib/python3.10/dist-packages/pandas/io/common.py\u001b[0m in \u001b[0;36mget_handle\u001b[0;34m(path_or_buf, mode, encoding, compression, memory_map, is_text, errors, storage_options)\u001b[0m\n\u001b[1;32m    861\u001b[0m         \u001b[0;32mif\u001b[0m \u001b[0mioargs\u001b[0m\u001b[0;34m.\u001b[0m\u001b[0mencoding\u001b[0m \u001b[0;32mand\u001b[0m \u001b[0;34m\"b\"\u001b[0m \u001b[0;32mnot\u001b[0m \u001b[0;32min\u001b[0m \u001b[0mioargs\u001b[0m\u001b[0;34m.\u001b[0m\u001b[0mmode\u001b[0m\u001b[0;34m:\u001b[0m\u001b[0;34m\u001b[0m\u001b[0;34m\u001b[0m\u001b[0m\n\u001b[1;32m    862\u001b[0m             \u001b[0;31m# Encoding\u001b[0m\u001b[0;34m\u001b[0m\u001b[0;34m\u001b[0m\u001b[0m\n\u001b[0;32m--> 863\u001b[0;31m             handle = open(\n\u001b[0m\u001b[1;32m    864\u001b[0m                 \u001b[0mhandle\u001b[0m\u001b[0;34m,\u001b[0m\u001b[0;34m\u001b[0m\u001b[0;34m\u001b[0m\u001b[0m\n\u001b[1;32m    865\u001b[0m                 \u001b[0mioargs\u001b[0m\u001b[0;34m.\u001b[0m\u001b[0mmode\u001b[0m\u001b[0;34m,\u001b[0m\u001b[0;34m\u001b[0m\u001b[0;34m\u001b[0m\u001b[0m\n",
            "\u001b[0;31mFileNotFoundError\u001b[0m: [Errno 2] No such file or directory: '/us-counties.csv'"
          ]
        }
      ]
    }
  ]
}